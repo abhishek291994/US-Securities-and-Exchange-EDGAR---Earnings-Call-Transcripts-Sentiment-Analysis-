{
  "nbformat": 4,
  "nbformat_minor": 0,
  "metadata": {
    "colab": {
      "name": "BOW_TransferLearning.ipynb",
      "version": "0.3.2",
      "provenance": [],
      "collapsed_sections": []
    },
    "kernelspec": {
      "name": "python3",
      "display_name": "Python 3"
    },
    "accelerator": "GPU"
  },
  "cells": [
    {
      "metadata": {
        "id": "5988FiIksLre",
        "colab_type": "text"
      },
      "cell_type": "markdown",
      "source": [
        "**IMPORTING REQUIRED LIBRARIES**"
      ]
    },
    {
      "metadata": {
        "id": "O9_gSzUth5SL",
        "colab_type": "code",
        "outputId": "87ec56d0-9c42-4c19-c1eb-b1fad65c7b56",
        "colab": {
          "base_uri": "https://localhost:8080/",
          "height": 67
        }
      },
      "cell_type": "code",
      "source": [
        "import pandas as pd\n",
        "import numpy as np\n",
        "import re\n",
        "from nltk.corpus import stopwords\n",
        "import nltk\n",
        "nltk.download('stopwords')\n",
        "import keras\n",
        "import keras as k\n",
        "from keras.models import Sequential\n",
        "from keras.layers import Dense\n",
        "from keras.layers import Dropout\n",
        "from keras import optimizers\n",
        "from keras.layers import Dense, Dropout, Activation,Flatten,BatchNormalization,regularizers\n",
        "from keras.layers import Conv2D,ZeroPadding2D, MaxPooling2D\n",
        "from sklearn.metrics import confusion_matrix\n",
        "from sklearn import preprocessing\n",
        "import seaborn as sns\n",
        "from keras.utils import to_categorical\n",
        "from keras.constraints import unit_norm\n",
        "import matplotlib as plt"
      ],
      "execution_count": 0,
      "outputs": [
        {
          "output_type": "stream",
          "text": [
            "[nltk_data] Downloading package stopwords to /root/nltk_data...\n",
            "[nltk_data]   Unzipping corpora/stopwords.zip.\n"
          ],
          "name": "stdout"
        },
        {
          "output_type": "stream",
          "text": [
            "Using TensorFlow backend.\n"
          ],
          "name": "stderr"
        }
      ]
    },
    {
      "metadata": {
        "id": "dBWS2ydrDjq-",
        "colab_type": "code",
        "outputId": "24976a44-9238-43f9-be90-fa178a6fc8a0",
        "colab": {
          "base_uri": "https://localhost:8080/",
          "height": 50
        }
      },
      "cell_type": "code",
      "source": [
        "# Code to read csv file into Colaboratory:\n",
        "!pip install -U -q PyDrive\n",
        "from pydrive.auth import GoogleAuth\n",
        "from pydrive.drive import GoogleDrive\n",
        "from google.colab import auth\n",
        "from oauth2client.client import GoogleCredentials\n",
        "# Authenticate and create the PyDrive client.\n",
        "auth.authenticate_user()\n",
        "gauth = GoogleAuth()\n",
        "gauth.credentials = GoogleCredentials.get_application_default()\n",
        "drive = GoogleDrive(gauth)"
      ],
      "execution_count": 0,
      "outputs": [
        {
          "output_type": "stream",
          "text": [
            "\u001b[?25l\r\u001b[K    1% |▎                               | 10kB 19.9MB/s eta 0:00:01\r\u001b[K    2% |▋                               | 20kB 4.7MB/s eta 0:00:01\r\u001b[K    3% |█                               | 30kB 6.6MB/s eta 0:00:01\r\u001b[K    4% |█▎                              | 40kB 4.3MB/s eta 0:00:01\r\u001b[K    5% |█▋                              | 51kB 5.2MB/s eta 0:00:01\r\u001b[K    6% |██                              | 61kB 6.1MB/s eta 0:00:01\r\u001b[K    7% |██▎                             | 71kB 6.9MB/s eta 0:00:01\r\u001b[K    8% |██▋                             | 81kB 7.7MB/s eta 0:00:01\r\u001b[K    9% |███                             | 92kB 8.5MB/s eta 0:00:01\r\u001b[K    10% |███▎                            | 102kB 6.9MB/s eta 0:00:01\r\u001b[K    11% |███▋                            | 112kB 7.0MB/s eta 0:00:01\r\u001b[K    12% |████                            | 122kB 9.4MB/s eta 0:00:01\r\u001b[K    13% |████▎                           | 133kB 9.4MB/s eta 0:00:01\r\u001b[K    14% |████▋                           | 143kB 16.6MB/s eta 0:00:01\r\u001b[K    15% |█████                           | 153kB 16.6MB/s eta 0:00:01\r\u001b[K    16% |█████▎                          | 163kB 16.6MB/s eta 0:00:01\r\u001b[K    17% |█████▋                          | 174kB 16.8MB/s eta 0:00:01\r\u001b[K    18% |██████                          | 184kB 17.0MB/s eta 0:00:01\r\u001b[K    19% |██████▎                         | 194kB 17.1MB/s eta 0:00:01\r\u001b[K    20% |██████▋                         | 204kB 38.8MB/s eta 0:00:01\r\u001b[K    21% |███████                         | 215kB 20.5MB/s eta 0:00:01\r\u001b[K    22% |███████▎                        | 225kB 20.7MB/s eta 0:00:01\r\u001b[K    23% |███████▋                        | 235kB 20.5MB/s eta 0:00:01\r\u001b[K    24% |████████                        | 245kB 20.4MB/s eta 0:00:01\r\u001b[K    25% |████████▎                       | 256kB 20.3MB/s eta 0:00:01\r\u001b[K    26% |████████▋                       | 266kB 19.2MB/s eta 0:00:01\r\u001b[K    27% |█████████                       | 276kB 19.7MB/s eta 0:00:01\r\u001b[K    29% |█████████▎                      | 286kB 19.8MB/s eta 0:00:01\r\u001b[K    30% |█████████▋                      | 296kB 19.8MB/s eta 0:00:01\r\u001b[K    31% |██████████                      | 307kB 21.3MB/s eta 0:00:01\r\u001b[K    32% |██████████▎                     | 317kB 42.9MB/s eta 0:00:01\r\u001b[K    33% |██████████▋                     | 327kB 42.3MB/s eta 0:00:01\r\u001b[K    34% |███████████                     | 337kB 46.0MB/s eta 0:00:01\r\u001b[K    35% |███████████▎                    | 348kB 43.4MB/s eta 0:00:01\r\u001b[K    36% |███████████▋                    | 358kB 42.9MB/s eta 0:00:01\r\u001b[K    37% |████████████                    | 368kB 48.6MB/s eta 0:00:01\r\u001b[K    38% |████████████▎                   | 378kB 48.7MB/s eta 0:00:01\r\u001b[K    39% |████████████▋                   | 389kB 49.1MB/s eta 0:00:01\r\u001b[K    40% |█████████████                   | 399kB 32.1MB/s eta 0:00:01\r\u001b[K    41% |█████████████▎                  | 409kB 31.5MB/s eta 0:00:01\r\u001b[K    42% |█████████████▋                  | 419kB 31.7MB/s eta 0:00:01\r\u001b[K    43% |██████████████                  | 430kB 31.7MB/s eta 0:00:01\r\u001b[K    44% |██████████████▎                 | 440kB 30.8MB/s eta 0:00:01\r\u001b[K    45% |██████████████▋                 | 450kB 30.8MB/s eta 0:00:01\r\u001b[K    46% |███████████████                 | 460kB 31.3MB/s eta 0:00:01\r\u001b[K    47% |███████████████▎                | 471kB 31.6MB/s eta 0:00:01\r\u001b[K    48% |███████████████▋                | 481kB 31.8MB/s eta 0:00:01\r\u001b[K    49% |████████████████                | 491kB 31.6MB/s eta 0:00:01\r\u001b[K    50% |████████████████▎               | 501kB 47.2MB/s eta 0:00:01\r\u001b[K    51% |████████████████▋               | 512kB 45.4MB/s eta 0:00:01\r\u001b[K    52% |█████████████████               | 522kB 45.7MB/s eta 0:00:01\r\u001b[K    53% |█████████████████▎              | 532kB 46.6MB/s eta 0:00:01\r\u001b[K    54% |█████████████████▋              | 542kB 48.4MB/s eta 0:00:01\r\u001b[K    55% |██████████████████              | 552kB 53.6MB/s eta 0:00:01\r\u001b[K    57% |██████████████████▎             | 563kB 54.5MB/s eta 0:00:01\r\u001b[K    58% |██████████████████▋             | 573kB 53.6MB/s eta 0:00:01\r\u001b[K    59% |███████████████████             | 583kB 53.7MB/s eta 0:00:01\r\u001b[K    60% |███████████████████▎            | 593kB 53.7MB/s eta 0:00:01\r\u001b[K    61% |███████████████████▋            | 604kB 53.5MB/s eta 0:00:01\r\u001b[K    62% |████████████████████            | 614kB 56.5MB/s eta 0:00:01\r\u001b[K    63% |████████████████████▎           | 624kB 55.7MB/s eta 0:00:01\r\u001b[K    64% |████████████████████▋           | 634kB 56.0MB/s eta 0:00:01\r\u001b[K    65% |█████████████████████           | 645kB 48.8MB/s eta 0:00:01\r\u001b[K    66% |█████████████████████▎          | 655kB 43.5MB/s eta 0:00:01\r\u001b[K    67% |█████████████████████▋          | 665kB 34.9MB/s eta 0:00:01\r\u001b[K    68% |██████████████████████          | 675kB 33.8MB/s eta 0:00:01\r\u001b[K    69% |██████████████████████▎         | 686kB 33.8MB/s eta 0:00:01\r\u001b[K    70% |██████████████████████▋         | 696kB 33.8MB/s eta 0:00:01\r\u001b[K    71% |███████████████████████         | 706kB 34.4MB/s eta 0:00:01\r\u001b[K    72% |███████████████████████▎        | 716kB 34.7MB/s eta 0:00:01\r\u001b[K    73% |███████████████████████▋        | 727kB 34.8MB/s eta 0:00:01\r\u001b[K    74% |████████████████████████        | 737kB 34.5MB/s eta 0:00:01\r\u001b[K    75% |████████████████████████▎       | 747kB 38.1MB/s eta 0:00:01\r\u001b[K    76% |████████████████████████▋       | 757kB 41.7MB/s eta 0:00:01\r\u001b[K    77% |████████████████████████▉       | 768kB 51.6MB/s eta 0:00:01\r\u001b[K    78% |█████████████████████████▏      | 778kB 54.2MB/s eta 0:00:01\r\u001b[K    79% |█████████████████████████▌      | 788kB 53.6MB/s eta 0:00:01\r\u001b[K    80% |█████████████████████████▉      | 798kB 52.7MB/s eta 0:00:01\r\u001b[K    81% |██████████████████████████▏     | 808kB 52.7MB/s eta 0:00:01\r\u001b[K    82% |██████████████████████████▌     | 819kB 50.8MB/s eta 0:00:01\r\u001b[K    83% |██████████████████████████▉     | 829kB 51.3MB/s eta 0:00:01\r\u001b[K    85% |███████████████████████████▏    | 839kB 50.7MB/s eta 0:00:01\r\u001b[K    86% |███████████████████████████▌    | 849kB 50.3MB/s eta 0:00:01\r\u001b[K    87% |███████████████████████████▉    | 860kB 46.3MB/s eta 0:00:01\r\u001b[K    88% |████████████████████████████▏   | 870kB 48.0MB/s eta 0:00:01\r\u001b[K    89% |████████████████████████████▌   | 880kB 48.9MB/s eta 0:00:01\r\u001b[K    90% |████████████████████████████▉   | 890kB 49.2MB/s eta 0:00:01\r\u001b[K    91% |█████████████████████████████▏  | 901kB 49.1MB/s eta 0:00:01\r\u001b[K    92% |█████████████████████████████▌  | 911kB 49.6MB/s eta 0:00:01\r\u001b[K    93% |█████████████████████████████▉  | 921kB 51.2MB/s eta 0:00:01\r\u001b[K    94% |██████████████████████████████▏ | 931kB 51.3MB/s eta 0:00:01\r\u001b[K    95% |██████████████████████████████▌ | 942kB 52.3MB/s eta 0:00:01\r\u001b[K    96% |██████████████████████████████▉ | 952kB 52.0MB/s eta 0:00:01\r\u001b[K    97% |███████████████████████████████▏| 962kB 58.9MB/s eta 0:00:01\r\u001b[K    98% |███████████████████████████████▌| 972kB 60.1MB/s eta 0:00:01\r\u001b[K    99% |███████████████████████████████▉| 983kB 57.0MB/s eta 0:00:01\r\u001b[K    100% |████████████████████████████████| 993kB 20.2MB/s \n",
            "\u001b[?25h  Building wheel for PyDrive (setup.py) ... \u001b[?25ldone\n",
            "\u001b[?25h"
          ],
          "name": "stdout"
        }
      ]
    },
    {
      "metadata": {
        "id": "1wwJFAq9DkC8",
        "colab_type": "code",
        "outputId": "86142158-1ab4-4994-8bb9-6c02ce556853",
        "colab": {
          "base_uri": "https://localhost:8080/",
          "height": 34
        }
      },
      "cell_type": "code",
      "source": [
        "link = 'https://drive.google.com/open?id=1wqettYpiQzofksPUZRGY8c0sDwXdqumI'\n",
        "fluff, id = link.split('=')\n",
        "print (id) # Verify that you have everything after '='"
      ],
      "execution_count": 0,
      "outputs": [
        {
          "output_type": "stream",
          "text": [
            "1wqettYpiQzofksPUZRGY8c0sDwXdqumI\n"
          ],
          "name": "stdout"
        }
      ]
    },
    {
      "metadata": {
        "id": "oAbyJX-RD2dg",
        "colab_type": "code",
        "colab": {}
      },
      "cell_type": "code",
      "source": [
        "downloaded = drive.CreateFile({'id':id}) \n",
        "downloaded.GetContentFile('Filename.csv')  \n",
        "edgar = pd.read_json('Filename.csv')"
      ],
      "execution_count": 0,
      "outputs": []
    },
    {
      "metadata": {
        "id": "adG9tWHREAZn",
        "colab_type": "text"
      },
      "cell_type": "markdown",
      "source": [
        "**LOADING IMDB DATA FOR TRAINING**\n",
        "\n",
        "Data: contains 2 labels positive and negative"
      ]
    },
    {
      "metadata": {
        "id": "eD8tqr2KiVvd",
        "colab_type": "code",
        "outputId": "c6618c1c-0892-421b-ad54-34b94c5b1910",
        "colab": {
          "resources": {
            "http://localhost:8080/nbextensions/google.colab/files.js": {
              "data": "Ly8gQ29weXJpZ2h0IDIwMTcgR29vZ2xlIExMQwovLwovLyBMaWNlbnNlZCB1bmRlciB0aGUgQXBhY2hlIExpY2Vuc2UsIFZlcnNpb24gMi4wICh0aGUgIkxpY2Vuc2UiKTsKLy8geW91IG1heSBub3QgdXNlIHRoaXMgZmlsZSBleGNlcHQgaW4gY29tcGxpYW5jZSB3aXRoIHRoZSBMaWNlbnNlLgovLyBZb3UgbWF5IG9idGFpbiBhIGNvcHkgb2YgdGhlIExpY2Vuc2UgYXQKLy8KLy8gICAgICBodHRwOi8vd3d3LmFwYWNoZS5vcmcvbGljZW5zZXMvTElDRU5TRS0yLjAKLy8KLy8gVW5sZXNzIHJlcXVpcmVkIGJ5IGFwcGxpY2FibGUgbGF3IG9yIGFncmVlZCB0byBpbiB3cml0aW5nLCBzb2Z0d2FyZQovLyBkaXN0cmlidXRlZCB1bmRlciB0aGUgTGljZW5zZSBpcyBkaXN0cmlidXRlZCBvbiBhbiAiQVMgSVMiIEJBU0lTLAovLyBXSVRIT1VUIFdBUlJBTlRJRVMgT1IgQ09ORElUSU9OUyBPRiBBTlkgS0lORCwgZWl0aGVyIGV4cHJlc3Mgb3IgaW1wbGllZC4KLy8gU2VlIHRoZSBMaWNlbnNlIGZvciB0aGUgc3BlY2lmaWMgbGFuZ3VhZ2UgZ292ZXJuaW5nIHBlcm1pc3Npb25zIGFuZAovLyBsaW1pdGF0aW9ucyB1bmRlciB0aGUgTGljZW5zZS4KCi8qKgogKiBAZmlsZW92ZXJ2aWV3IEhlbHBlcnMgZm9yIGdvb2dsZS5jb2xhYiBQeXRob24gbW9kdWxlLgogKi8KKGZ1bmN0aW9uKHNjb3BlKSB7CmZ1bmN0aW9uIHNwYW4odGV4dCwgc3R5bGVBdHRyaWJ1dGVzID0ge30pIHsKICBjb25zdCBlbGVtZW50ID0gZG9jdW1lbnQuY3JlYXRlRWxlbWVudCgnc3BhbicpOwogIGVsZW1lbnQudGV4dENvbnRlbnQgPSB0ZXh0OwogIGZvciAoY29uc3Qga2V5IG9mIE9iamVjdC5rZXlzKHN0eWxlQXR0cmlidXRlcykpIHsKICAgIGVsZW1lbnQuc3R5bGVba2V5XSA9IHN0eWxlQXR0cmlidXRlc1trZXldOwogIH0KICByZXR1cm4gZWxlbWVudDsKfQoKLy8gTWF4IG51bWJlciBvZiBieXRlcyB3aGljaCB3aWxsIGJlIHVwbG9hZGVkIGF0IGEgdGltZS4KY29uc3QgTUFYX1BBWUxPQURfU0laRSA9IDEwMCAqIDEwMjQ7Ci8vIE1heCBhbW91bnQgb2YgdGltZSB0byBibG9jayB3YWl0aW5nIGZvciB0aGUgdXNlci4KY29uc3QgRklMRV9DSEFOR0VfVElNRU9VVF9NUyA9IDMwICogMTAwMDsKCmZ1bmN0aW9uIF91cGxvYWRGaWxlcyhpbnB1dElkLCBvdXRwdXRJZCkgewogIGNvbnN0IHN0ZXBzID0gdXBsb2FkRmlsZXNTdGVwKGlucHV0SWQsIG91dHB1dElkKTsKICBjb25zdCBvdXRwdXRFbGVtZW50ID0gZG9jdW1lbnQuZ2V0RWxlbWVudEJ5SWQob3V0cHV0SWQpOwogIC8vIENhY2hlIHN0ZXBzIG9uIHRoZSBvdXRwdXRFbGVtZW50IHRvIG1ha2UgaXQgYXZhaWxhYmxlIGZvciB0aGUgbmV4dCBjYWxsCiAgLy8gdG8gdXBsb2FkRmlsZXNDb250aW51ZSBmcm9tIFB5dGhvbi4KICBvdXRwdXRFbGVtZW50LnN0ZXBzID0gc3RlcHM7CgogIHJldHVybiBfdXBsb2FkRmlsZXNDb250aW51ZShvdXRwdXRJZCk7Cn0KCi8vIFRoaXMgaXMgcm91Z2hseSBhbiBhc3luYyBnZW5lcmF0b3IgKG5vdCBzdXBwb3J0ZWQgaW4gdGhlIGJyb3dzZXIgeWV0KSwKLy8gd2hlcmUgdGhlcmUgYXJlIG11bHRpcGxlIGFzeW5jaHJvbm91cyBzdGVwcyBhbmQgdGhlIFB5dGhvbiBzaWRlIGlzIGdvaW5nCi8vIHRvIHBvbGwgZm9yIGNvbXBsZXRpb24gb2YgZWFjaCBzdGVwLgovLyBUaGlzIHVzZXMgYSBQcm9taXNlIHRvIGJsb2NrIHRoZSBweXRob24gc2lkZSBvbiBjb21wbGV0aW9uIG9mIGVhY2ggc3RlcCwKLy8gdGhlbiBwYXNzZXMgdGhlIHJlc3VsdCBvZiB0aGUgcHJldmlvdXMgc3RlcCBhcyB0aGUgaW5wdXQgdG8gdGhlIG5leHQgc3RlcC4KZnVuY3Rpb24gX3VwbG9hZEZpbGVzQ29udGludWUob3V0cHV0SWQpIHsKICBjb25zdCBvdXRwdXRFbGVtZW50ID0gZG9jdW1lbnQuZ2V0RWxlbWVudEJ5SWQob3V0cHV0SWQpOwogIGNvbnN0IHN0ZXBzID0gb3V0cHV0RWxlbWVudC5zdGVwczsKCiAgY29uc3QgbmV4dCA9IHN0ZXBzLm5leHQob3V0cHV0RWxlbWVudC5sYXN0UHJvbWlzZVZhbHVlKTsKICByZXR1cm4gUHJvbWlzZS5yZXNvbHZlKG5leHQudmFsdWUucHJvbWlzZSkudGhlbigodmFsdWUpID0+IHsKICAgIC8vIENhY2hlIHRoZSBsYXN0IHByb21pc2UgdmFsdWUgdG8gbWFrZSBpdCBhdmFpbGFibGUgdG8gdGhlIG5leHQKICAgIC8vIHN0ZXAgb2YgdGhlIGdlbmVyYXRvci4KICAgIG91dHB1dEVsZW1lbnQubGFzdFByb21pc2VWYWx1ZSA9IHZhbHVlOwogICAgcmV0dXJuIG5leHQudmFsdWUucmVzcG9uc2U7CiAgfSk7Cn0KCi8qKgogKiBHZW5lcmF0b3IgZnVuY3Rpb24gd2hpY2ggaXMgY2FsbGVkIGJldHdlZW4gZWFjaCBhc3luYyBzdGVwIG9mIHRoZSB1cGxvYWQKICogcHJvY2Vzcy4KICogQHBhcmFtIHtzdHJpbmd9IGlucHV0SWQgRWxlbWVudCBJRCBvZiB0aGUgaW5wdXQgZmlsZSBwaWNrZXIgZWxlbWVudC4KICogQHBhcmFtIHtzdHJpbmd9IG91dHB1dElkIEVsZW1lbnQgSUQgb2YgdGhlIG91dHB1dCBkaXNwbGF5LgogKiBAcmV0dXJuIHshSXRlcmFibGU8IU9iamVjdD59IEl0ZXJhYmxlIG9mIG5leHQgc3RlcHMuCiAqLwpmdW5jdGlvbiogdXBsb2FkRmlsZXNTdGVwKGlucHV0SWQsIG91dHB1dElkKSB7CiAgY29uc3QgaW5wdXRFbGVtZW50ID0gZG9jdW1lbnQuZ2V0RWxlbWVudEJ5SWQoaW5wdXRJZCk7CiAgaW5wdXRFbGVtZW50LmRpc2FibGVkID0gZmFsc2U7CgogIGNvbnN0IG91dHB1dEVsZW1lbnQgPSBkb2N1bWVudC5nZXRFbGVtZW50QnlJZChvdXRwdXRJZCk7CiAgb3V0cHV0RWxlbWVudC5pbm5lckhUTUwgPSAnJzsKCiAgY29uc3QgcGlja2VkUHJvbWlzZSA9IG5ldyBQcm9taXNlKChyZXNvbHZlKSA9PiB7CiAgICBpbnB1dEVsZW1lbnQuYWRkRXZlbnRMaXN0ZW5lcignY2hhbmdlJywgKGUpID0+IHsKICAgICAgcmVzb2x2ZShlLnRhcmdldC5maWxlcyk7CiAgICB9KTsKICB9KTsKCiAgY29uc3QgY2FuY2VsID0gZG9jdW1lbnQuY3JlYXRlRWxlbWVudCgnYnV0dG9uJyk7CiAgaW5wdXRFbGVtZW50LnBhcmVudEVsZW1lbnQuYXBwZW5kQ2hpbGQoY2FuY2VsKTsKICBjYW5jZWwudGV4dENvbnRlbnQgPSAnQ2FuY2VsIHVwbG9hZCc7CiAgY29uc3QgY2FuY2VsUHJvbWlzZSA9IG5ldyBQcm9taXNlKChyZXNvbHZlKSA9PiB7CiAgICBjYW5jZWwub25jbGljayA9ICgpID0+IHsKICAgICAgcmVzb2x2ZShudWxsKTsKICAgIH07CiAgfSk7CgogIC8vIENhbmNlbCB1cGxvYWQgaWYgdXNlciBoYXNuJ3QgcGlja2VkIGFueXRoaW5nIGluIHRpbWVvdXQuCiAgY29uc3QgdGltZW91dFByb21pc2UgPSBuZXcgUHJvbWlzZSgocmVzb2x2ZSkgPT4gewogICAgc2V0VGltZW91dCgoKSA9PiB7CiAgICAgIHJlc29sdmUobnVsbCk7CiAgICB9LCBGSUxFX0NIQU5HRV9USU1FT1VUX01TKTsKICB9KTsKCiAgLy8gV2FpdCBmb3IgdGhlIHVzZXIgdG8gcGljayB0aGUgZmlsZXMuCiAgY29uc3QgZmlsZXMgPSB5aWVsZCB7CiAgICBwcm9taXNlOiBQcm9taXNlLnJhY2UoW3BpY2tlZFByb21pc2UsIHRpbWVvdXRQcm9taXNlLCBjYW5jZWxQcm9taXNlXSksCiAgICByZXNwb25zZTogewogICAgICBhY3Rpb246ICdzdGFydGluZycsCiAgICB9CiAgfTsKCiAgaWYgKCFmaWxlcykgewogICAgcmV0dXJuIHsKICAgICAgcmVzcG9uc2U6IHsKICAgICAgICBhY3Rpb246ICdjb21wbGV0ZScsCiAgICAgIH0KICAgIH07CiAgfQoKICBjYW5jZWwucmVtb3ZlKCk7CgogIC8vIERpc2FibGUgdGhlIGlucHV0IGVsZW1lbnQgc2luY2UgZnVydGhlciBwaWNrcyBhcmUgbm90IGFsbG93ZWQuCiAgaW5wdXRFbGVtZW50LmRpc2FibGVkID0gdHJ1ZTsKCiAgZm9yIChjb25zdCBmaWxlIG9mIGZpbGVzKSB7CiAgICBjb25zdCBsaSA9IGRvY3VtZW50LmNyZWF0ZUVsZW1lbnQoJ2xpJyk7CiAgICBsaS5hcHBlbmQoc3BhbihmaWxlLm5hbWUsIHtmb250V2VpZ2h0OiAnYm9sZCd9KSk7CiAgICBsaS5hcHBlbmQoc3BhbigKICAgICAgICBgKCR7ZmlsZS50eXBlIHx8ICduL2EnfSkgLSAke2ZpbGUuc2l6ZX0gYnl0ZXMsIGAgKwogICAgICAgIGBsYXN0IG1vZGlmaWVkOiAkewogICAgICAgICAgICBmaWxlLmxhc3RNb2RpZmllZERhdGUgPyBmaWxlLmxhc3RNb2RpZmllZERhdGUudG9Mb2NhbGVEYXRlU3RyaW5nKCkgOgogICAgICAgICAgICAgICAgICAgICAgICAgICAgICAgICAgICAnbi9hJ30gLSBgKSk7CiAgICBjb25zdCBwZXJjZW50ID0gc3BhbignMCUgZG9uZScpOwogICAgbGkuYXBwZW5kQ2hpbGQocGVyY2VudCk7CgogICAgb3V0cHV0RWxlbWVudC5hcHBlbmRDaGlsZChsaSk7CgogICAgY29uc3QgZmlsZURhdGFQcm9taXNlID0gbmV3IFByb21pc2UoKHJlc29sdmUpID0+IHsKICAgICAgY29uc3QgcmVhZGVyID0gbmV3IEZpbGVSZWFkZXIoKTsKICAgICAgcmVhZGVyLm9ubG9hZCA9IChlKSA9PiB7CiAgICAgICAgcmVzb2x2ZShlLnRhcmdldC5yZXN1bHQpOwogICAgICB9OwogICAgICByZWFkZXIucmVhZEFzQXJyYXlCdWZmZXIoZmlsZSk7CiAgICB9KTsKICAgIC8vIFdhaXQgZm9yIHRoZSBkYXRhIHRvIGJlIHJlYWR5LgogICAgbGV0IGZpbGVEYXRhID0geWllbGQgewogICAgICBwcm9taXNlOiBmaWxlRGF0YVByb21pc2UsCiAgICAgIHJlc3BvbnNlOiB7CiAgICAgICAgYWN0aW9uOiAnY29udGludWUnLAogICAgICB9CiAgICB9OwoKICAgIC8vIFVzZSBhIGNodW5rZWQgc2VuZGluZyB0byBhdm9pZCBtZXNzYWdlIHNpemUgbGltaXRzLiBTZWUgYi82MjExNTY2MC4KICAgIGxldCBwb3NpdGlvbiA9IDA7CiAgICB3aGlsZSAocG9zaXRpb24gPCBmaWxlRGF0YS5ieXRlTGVuZ3RoKSB7CiAgICAgIGNvbnN0IGxlbmd0aCA9IE1hdGgubWluKGZpbGVEYXRhLmJ5dGVMZW5ndGggLSBwb3NpdGlvbiwgTUFYX1BBWUxPQURfU0laRSk7CiAgICAgIGNvbnN0IGNodW5rID0gbmV3IFVpbnQ4QXJyYXkoZmlsZURhdGEsIHBvc2l0aW9uLCBsZW5ndGgpOwogICAgICBwb3NpdGlvbiArPSBsZW5ndGg7CgogICAgICBjb25zdCBiYXNlNjQgPSBidG9hKFN0cmluZy5mcm9tQ2hhckNvZGUuYXBwbHkobnVsbCwgY2h1bmspKTsKICAgICAgeWllbGQgewogICAgICAgIHJlc3BvbnNlOiB7CiAgICAgICAgICBhY3Rpb246ICdhcHBlbmQnLAogICAgICAgICAgZmlsZTogZmlsZS5uYW1lLAogICAgICAgICAgZGF0YTogYmFzZTY0LAogICAgICAgIH0sCiAgICAgIH07CiAgICAgIHBlcmNlbnQudGV4dENvbnRlbnQgPQogICAgICAgICAgYCR7TWF0aC5yb3VuZCgocG9zaXRpb24gLyBmaWxlRGF0YS5ieXRlTGVuZ3RoKSAqIDEwMCl9JSBkb25lYDsKICAgIH0KICB9CgogIC8vIEFsbCBkb25lLgogIHlpZWxkIHsKICAgIHJlc3BvbnNlOiB7CiAgICAgIGFjdGlvbjogJ2NvbXBsZXRlJywKICAgIH0KICB9Owp9CgpzY29wZS5nb29nbGUgPSBzY29wZS5nb29nbGUgfHwge307CnNjb3BlLmdvb2dsZS5jb2xhYiA9IHNjb3BlLmdvb2dsZS5jb2xhYiB8fCB7fTsKc2NvcGUuZ29vZ2xlLmNvbGFiLl9maWxlcyA9IHsKICBfdXBsb2FkRmlsZXMsCiAgX3VwbG9hZEZpbGVzQ29udGludWUsCn07Cn0pKHNlbGYpOwo=",
              "ok": true,
              "headers": [
                [
                  "content-type",
                  "application/javascript"
                ]
              ],
              "status": 200,
              "status_text": ""
            }
          },
          "base_uri": "https://localhost:8080/",
          "height": 74
        }
      },
      "cell_type": "code",
      "source": [
        "from google.colab import files\n",
        "uploaded = files.upload()"
      ],
      "execution_count": 0,
      "outputs": [
        {
          "output_type": "display_data",
          "data": {
            "text/html": [
              "\n",
              "     <input type=\"file\" id=\"files-98854f8f-3344-4408-bfc2-d2000ffdc1b8\" name=\"files[]\" multiple disabled />\n",
              "     <output id=\"result-98854f8f-3344-4408-bfc2-d2000ffdc1b8\">\n",
              "      Upload widget is only available when the cell has been executed in the\n",
              "      current browser session. Please rerun this cell to enable.\n",
              "      </output>\n",
              "      <script src=\"/nbextensions/google.colab/files.js\"></script> "
            ],
            "text/plain": [
              "<IPython.core.display.HTML object>"
            ]
          },
          "metadata": {
            "tags": []
          }
        },
        {
          "output_type": "stream",
          "text": [
            "Saving train.csv to train (2).csv\n"
          ],
          "name": "stdout"
        }
      ]
    },
    {
      "metadata": {
        "id": "6LXp9wiZh_Rn",
        "colab_type": "code",
        "colab": {}
      },
      "cell_type": "code",
      "source": [
        "import io\n",
        "train = pd.read_csv(io.BytesIO(uploaded['train.csv']))\n",
        "# Dataset is now stored in a Pandas Dataframe\n"
      ],
      "execution_count": 0,
      "outputs": []
    },
    {
      "metadata": {
        "id": "RiMkGfhXjQZU",
        "colab_type": "code",
        "outputId": "32249813-94e3-4853-cc2c-491f7b3319cf",
        "colab": {
          "base_uri": "https://localhost:8080/",
          "height": 195
        }
      },
      "cell_type": "code",
      "source": [
        "train.head()"
      ],
      "execution_count": 0,
      "outputs": [
        {
          "output_type": "execute_result",
          "data": {
            "text/html": [
              "<div>\n",
              "<style scoped>\n",
              "    .dataframe tbody tr th:only-of-type {\n",
              "        vertical-align: middle;\n",
              "    }\n",
              "\n",
              "    .dataframe tbody tr th {\n",
              "        vertical-align: top;\n",
              "    }\n",
              "\n",
              "    .dataframe thead th {\n",
              "        text-align: right;\n",
              "    }\n",
              "</style>\n",
              "<table border=\"1\" class=\"dataframe\">\n",
              "  <thead>\n",
              "    <tr style=\"text-align: right;\">\n",
              "      <th></th>\n",
              "      <th>text</th>\n",
              "      <th>sentiment</th>\n",
              "    </tr>\n",
              "  </thead>\n",
              "  <tbody>\n",
              "    <tr>\n",
              "      <th>0</th>\n",
              "      <td>For a movie that gets no respect there sure ar...</td>\n",
              "      <td>0</td>\n",
              "    </tr>\n",
              "    <tr>\n",
              "      <th>1</th>\n",
              "      <td>Bizarre horror movie filled with famous faces ...</td>\n",
              "      <td>0</td>\n",
              "    </tr>\n",
              "    <tr>\n",
              "      <th>2</th>\n",
              "      <td>A solid, if unremarkable film. Matthau, as Ein...</td>\n",
              "      <td>0</td>\n",
              "    </tr>\n",
              "    <tr>\n",
              "      <th>3</th>\n",
              "      <td>It's a strange feeling to sit alone in a theat...</td>\n",
              "      <td>0</td>\n",
              "    </tr>\n",
              "    <tr>\n",
              "      <th>4</th>\n",
              "      <td>You probably all already know this by now, but...</td>\n",
              "      <td>0</td>\n",
              "    </tr>\n",
              "  </tbody>\n",
              "</table>\n",
              "</div>"
            ],
            "text/plain": [
              "                                                text  sentiment\n",
              "0  For a movie that gets no respect there sure ar...          0\n",
              "1  Bizarre horror movie filled with famous faces ...          0\n",
              "2  A solid, if unremarkable film. Matthau, as Ein...          0\n",
              "3  It's a strange feeling to sit alone in a theat...          0\n",
              "4  You probably all already know this by now, but...          0"
            ]
          },
          "metadata": {
            "tags": []
          },
          "execution_count": 14
        }
      ]
    },
    {
      "metadata": {
        "id": "hFLIVLkjslSr",
        "colab_type": "text"
      },
      "cell_type": "markdown",
      "source": [
        "**CLEANING DATA BY REMOVING STOP WORDS, PUNCTUATIONS, ETC**"
      ]
    },
    {
      "metadata": {
        "id": "s6EWIE3axyL6",
        "colab_type": "code",
        "colab": {}
      },
      "cell_type": "code",
      "source": [
        "def review_to_words( raw_review ):\n",
        "    \n",
        "    letters_only = re.sub(\"[^a-zA-Z]\", \" \", raw_review) \n",
        "    words = letters_only.lower().split()                             \n",
        "    stops = set(stopwords.words(\"english\"))                  \n",
        "    meaningful_words = [w for w in words if not w in stops]   \n",
        "    return( \" \".join( meaningful_words )) "
      ],
      "execution_count": 0,
      "outputs": []
    },
    {
      "metadata": {
        "id": "8ehPbAUgx0QL",
        "colab_type": "code",
        "colab": {}
      },
      "cell_type": "code",
      "source": [
        "num_reviews = 25000\n",
        "clean_train_reviews = []\n",
        "for i in range( 0, num_reviews ):\n",
        "    clean_train_reviews.append( review_to_words( train[\"text\"][i] ) )"
      ],
      "execution_count": 0,
      "outputs": []
    },
    {
      "metadata": {
        "id": "9lVooVszsyMC",
        "colab_type": "text"
      },
      "cell_type": "markdown",
      "source": [
        "**CREATING BAG OF WORDS **"
      ]
    },
    {
      "metadata": {
        "id": "q9RLb2AKPMSI",
        "colab_type": "code",
        "outputId": "a3b81e72-9567-4742-d624-1b595799458c",
        "colab": {
          "base_uri": "https://localhost:8080/",
          "height": 67
        }
      },
      "cell_type": "code",
      "source": [
        "print (\"Creating the bag of words...\\n\")\n",
        "from sklearn.feature_extraction.text import CountVectorizer\n",
        "vectorizer = CountVectorizer(analyzer = \"word\",   \\\n",
        "                             tokenizer = None,    \\\n",
        "                             preprocessor = None, \\\n",
        "                             stop_words = None,   \\\n",
        "                             max_features = 1000) \n",
        "train_data_features = vectorizer.fit_transform(clean_train_reviews)\n",
        "train_data_features = train_data_features.toarray()\n",
        "print (train_data_features.shape)"
      ],
      "execution_count": 0,
      "outputs": [
        {
          "output_type": "stream",
          "text": [
            "Creating the bag of words...\n",
            "\n",
            "(25000, 1000)\n"
          ],
          "name": "stdout"
        }
      ]
    },
    {
      "metadata": {
        "id": "ydUhCdMVs1Z7",
        "colab_type": "text"
      },
      "cell_type": "markdown",
      "source": [
        "**SPLIT DATA INTO TRAIN AND TEST WITH 80:20 RATIO**"
      ]
    },
    {
      "metadata": {
        "id": "pJm6t_-0yunQ",
        "colab_type": "code",
        "colab": {}
      },
      "cell_type": "code",
      "source": [
        "from sklearn.model_selection import train_test_split\n",
        "x_train, x_val, y_train, y_val = train_test_split(train_data_features, train['sentiment'], test_size = 0.20, random_state = 0)"
      ],
      "execution_count": 0,
      "outputs": []
    },
    {
      "metadata": {
        "id": "jN9dDp6yy1MY",
        "colab_type": "code",
        "outputId": "323915cf-317a-4c0b-9fd3-9f542fe06cb0",
        "colab": {
          "base_uri": "https://localhost:8080/",
          "height": 50
        }
      },
      "cell_type": "code",
      "source": [
        "n = x_val.shape[1]\n",
        "print(y_val.shape)\n",
        "print(y_train.shape)"
      ],
      "execution_count": 0,
      "outputs": [
        {
          "output_type": "stream",
          "text": [
            "(5000,)\n",
            "(20000,)\n"
          ],
          "name": "stdout"
        }
      ]
    },
    {
      "metadata": {
        "id": "iqOUW50R6kdh",
        "colab_type": "code",
        "outputId": "85ed7404-af29-451e-acc0-7370491f8398",
        "colab": {
          "base_uri": "https://localhost:8080/",
          "height": 50
        }
      },
      "cell_type": "code",
      "source": [
        "print(x_train.shape)\n",
        "print(y_train.shape)"
      ],
      "execution_count": 0,
      "outputs": [
        {
          "output_type": "stream",
          "text": [
            "(20000, 1000)\n",
            "(20000,)\n"
          ],
          "name": "stdout"
        }
      ]
    },
    {
      "metadata": {
        "id": "ij4EXH3Os7ac",
        "colab_type": "text"
      },
      "cell_type": "markdown",
      "source": [
        "**MODEL CREATION**"
      ]
    },
    {
      "metadata": {
        "id": "ExNclQJI3PnV",
        "colab_type": "code",
        "outputId": "5c940465-8559-4596-c658-c405998d4818",
        "colab": {
          "base_uri": "https://localhost:8080/",
          "height": 138
        }
      },
      "cell_type": "code",
      "source": [
        "model = Sequential()\n",
        "model.add(Dense(16, kernel_regularizer=regularizers.l1(0.001), activation='relu', input_shape=(1000,)))\n",
        "model.add(Dropout(0.5))\n",
        "model.add(Dense(16, kernel_regularizer=regularizers.l1(0.001),activation='relu'))\n",
        "model.add(Dropout(0.5))\n",
        "model.add(Dense(1, activation='sigmoid'))"
      ],
      "execution_count": 0,
      "outputs": [
        {
          "output_type": "stream",
          "text": [
            "WARNING:tensorflow:From /usr/local/lib/python3.6/dist-packages/tensorflow/python/framework/op_def_library.py:263: colocate_with (from tensorflow.python.framework.ops) is deprecated and will be removed in a future version.\n",
            "Instructions for updating:\n",
            "Colocations handled automatically by placer.\n",
            "WARNING:tensorflow:From /usr/local/lib/python3.6/dist-packages/keras/backend/tensorflow_backend.py:3445: calling dropout (from tensorflow.python.ops.nn_ops) with keep_prob is deprecated and will be removed in a future version.\n",
            "Instructions for updating:\n",
            "Please use `rate` instead of `keep_prob`. Rate should be set to `rate = 1 - keep_prob`.\n"
          ],
          "name": "stdout"
        }
      ]
    },
    {
      "metadata": {
        "id": "P8LGVqmq31ZE",
        "colab_type": "code",
        "outputId": "db05ec47-e3a3-45cd-cf25-e13be158bda8",
        "colab": {
          "base_uri": "https://localhost:8080/",
          "height": 1784
        }
      },
      "cell_type": "code",
      "source": [
        "NumEpochs = 50\n",
        "BatchSize = 512\n",
        "\n",
        "model.compile(optimizer='rmsprop', loss='binary_crossentropy', metrics=['acc'])\n",
        "\n",
        "history = model.fit(x_train, y_train, epochs=NumEpochs, batch_size=BatchSize, validation_data=(x_val, y_val))"
      ],
      "execution_count": 0,
      "outputs": [
        {
          "output_type": "stream",
          "text": [
            "WARNING:tensorflow:From /usr/local/lib/python3.6/dist-packages/tensorflow/python/ops/math_ops.py:3066: to_int32 (from tensorflow.python.ops.math_ops) is deprecated and will be removed in a future version.\n",
            "Instructions for updating:\n",
            "Use tf.cast instead.\n",
            "Train on 20000 samples, validate on 5000 samples\n",
            "Epoch 1/50\n",
            "20000/20000 [==============================] - 3s 151us/step - loss: 1.1701 - acc: 0.5626 - val_loss: 0.9753 - val_acc: 0.7336\n",
            "Epoch 2/50\n",
            "20000/20000 [==============================] - 0s 15us/step - loss: 0.8870 - acc: 0.6660 - val_loss: 0.7378 - val_acc: 0.8152\n",
            "Epoch 3/50\n",
            "20000/20000 [==============================] - 0s 15us/step - loss: 0.7351 - acc: 0.7224 - val_loss: 0.6286 - val_acc: 0.8268\n",
            "Epoch 4/50\n",
            "20000/20000 [==============================] - 0s 16us/step - loss: 0.6591 - acc: 0.7683 - val_loss: 0.5866 - val_acc: 0.8232\n",
            "Epoch 5/50\n",
            "20000/20000 [==============================] - 0s 16us/step - loss: 0.6190 - acc: 0.7858 - val_loss: 0.5458 - val_acc: 0.8374\n",
            "Epoch 6/50\n",
            "20000/20000 [==============================] - 0s 16us/step - loss: 0.5926 - acc: 0.8030 - val_loss: 0.5195 - val_acc: 0.8412\n",
            "Epoch 7/50\n",
            "20000/20000 [==============================] - 0s 17us/step - loss: 0.5756 - acc: 0.8127 - val_loss: 0.5166 - val_acc: 0.8398\n",
            "Epoch 8/50\n",
            "20000/20000 [==============================] - 0s 17us/step - loss: 0.5538 - acc: 0.8236 - val_loss: 0.4963 - val_acc: 0.8454\n",
            "Epoch 9/50\n",
            "20000/20000 [==============================] - 0s 16us/step - loss: 0.5434 - acc: 0.8297 - val_loss: 0.4933 - val_acc: 0.8460\n",
            "Epoch 10/50\n",
            "20000/20000 [==============================] - 0s 17us/step - loss: 0.5390 - acc: 0.8323 - val_loss: 0.4863 - val_acc: 0.8478\n",
            "Epoch 11/50\n",
            "20000/20000 [==============================] - 0s 17us/step - loss: 0.5316 - acc: 0.8339 - val_loss: 0.4799 - val_acc: 0.8540\n",
            "Epoch 12/50\n",
            "20000/20000 [==============================] - 0s 17us/step - loss: 0.5277 - acc: 0.8361 - val_loss: 0.4827 - val_acc: 0.8496\n",
            "Epoch 13/50\n",
            "20000/20000 [==============================] - 0s 17us/step - loss: 0.5224 - acc: 0.8382 - val_loss: 0.4904 - val_acc: 0.8406\n",
            "Epoch 14/50\n",
            "20000/20000 [==============================] - 0s 16us/step - loss: 0.5171 - acc: 0.8401 - val_loss: 0.4731 - val_acc: 0.8492\n",
            "Epoch 15/50\n",
            "20000/20000 [==============================] - 0s 16us/step - loss: 0.5137 - acc: 0.8384 - val_loss: 0.4817 - val_acc: 0.8468\n",
            "Epoch 16/50\n",
            "20000/20000 [==============================] - 0s 17us/step - loss: 0.5114 - acc: 0.8431 - val_loss: 0.4774 - val_acc: 0.8466\n",
            "Epoch 17/50\n",
            "20000/20000 [==============================] - 0s 16us/step - loss: 0.5104 - acc: 0.8421 - val_loss: 0.4754 - val_acc: 0.8482\n",
            "Epoch 18/50\n",
            "20000/20000 [==============================] - 0s 16us/step - loss: 0.5047 - acc: 0.8413 - val_loss: 0.5282 - val_acc: 0.8224\n",
            "Epoch 19/50\n",
            "20000/20000 [==============================] - 0s 17us/step - loss: 0.5132 - acc: 0.8377 - val_loss: 0.4796 - val_acc: 0.8462\n",
            "Epoch 20/50\n",
            "20000/20000 [==============================] - 0s 17us/step - loss: 0.5058 - acc: 0.8442 - val_loss: 0.4720 - val_acc: 0.8492\n",
            "Epoch 21/50\n",
            "20000/20000 [==============================] - 0s 16us/step - loss: 0.5036 - acc: 0.8428 - val_loss: 0.4743 - val_acc: 0.8498\n",
            "Epoch 22/50\n",
            "20000/20000 [==============================] - 0s 17us/step - loss: 0.5039 - acc: 0.8438 - val_loss: 0.4697 - val_acc: 0.8514\n",
            "Epoch 23/50\n",
            "20000/20000 [==============================] - 0s 16us/step - loss: 0.5038 - acc: 0.8451 - val_loss: 0.4700 - val_acc: 0.8478\n",
            "Epoch 24/50\n",
            "20000/20000 [==============================] - 0s 16us/step - loss: 0.4960 - acc: 0.8483 - val_loss: 0.4654 - val_acc: 0.8530\n",
            "Epoch 25/50\n",
            "20000/20000 [==============================] - 0s 18us/step - loss: 0.4976 - acc: 0.8447 - val_loss: 0.4699 - val_acc: 0.8472\n",
            "Epoch 26/50\n",
            "20000/20000 [==============================] - 0s 17us/step - loss: 0.4993 - acc: 0.8438 - val_loss: 0.4715 - val_acc: 0.8524\n",
            "Epoch 27/50\n",
            "20000/20000 [==============================] - 0s 17us/step - loss: 0.4969 - acc: 0.8438 - val_loss: 0.4660 - val_acc: 0.8516\n",
            "Epoch 28/50\n",
            "20000/20000 [==============================] - 0s 17us/step - loss: 0.4945 - acc: 0.8450 - val_loss: 0.4673 - val_acc: 0.8540\n",
            "Epoch 29/50\n",
            "20000/20000 [==============================] - 0s 16us/step - loss: 0.4983 - acc: 0.8473 - val_loss: 0.5097 - val_acc: 0.8398\n",
            "Epoch 30/50\n",
            "20000/20000 [==============================] - 0s 16us/step - loss: 0.4947 - acc: 0.8436 - val_loss: 0.4738 - val_acc: 0.8482\n",
            "Epoch 31/50\n",
            "20000/20000 [==============================] - 0s 17us/step - loss: 0.4926 - acc: 0.8480 - val_loss: 0.4647 - val_acc: 0.8522\n",
            "Epoch 32/50\n",
            "20000/20000 [==============================] - 0s 17us/step - loss: 0.4954 - acc: 0.8479 - val_loss: 0.4751 - val_acc: 0.8478\n",
            "Epoch 33/50\n",
            "20000/20000 [==============================] - 0s 16us/step - loss: 0.4922 - acc: 0.8495 - val_loss: 0.4673 - val_acc: 0.8506\n",
            "Epoch 34/50\n",
            "20000/20000 [==============================] - 0s 16us/step - loss: 0.4911 - acc: 0.8479 - val_loss: 0.4640 - val_acc: 0.8524\n",
            "Epoch 35/50\n",
            "20000/20000 [==============================] - 0s 17us/step - loss: 0.4917 - acc: 0.8492 - val_loss: 0.4690 - val_acc: 0.8490\n",
            "Epoch 36/50\n",
            "20000/20000 [==============================] - 0s 16us/step - loss: 0.4879 - acc: 0.8483 - val_loss: 0.4665 - val_acc: 0.8512\n",
            "Epoch 37/50\n",
            "20000/20000 [==============================] - 0s 17us/step - loss: 0.4922 - acc: 0.8463 - val_loss: 0.4656 - val_acc: 0.8504\n",
            "Epoch 38/50\n",
            "20000/20000 [==============================] - 0s 17us/step - loss: 0.4840 - acc: 0.8502 - val_loss: 0.4721 - val_acc: 0.8492\n",
            "Epoch 39/50\n",
            "20000/20000 [==============================] - 0s 16us/step - loss: 0.4899 - acc: 0.8474 - val_loss: 0.4684 - val_acc: 0.8518\n",
            "Epoch 40/50\n",
            "20000/20000 [==============================] - 0s 16us/step - loss: 0.4822 - acc: 0.8504 - val_loss: 0.4734 - val_acc: 0.8506\n",
            "Epoch 41/50\n",
            "20000/20000 [==============================] - 0s 17us/step - loss: 0.4891 - acc: 0.8483 - val_loss: 0.4687 - val_acc: 0.8494\n",
            "Epoch 42/50\n",
            "20000/20000 [==============================] - 0s 16us/step - loss: 0.4824 - acc: 0.8549 - val_loss: 0.5154 - val_acc: 0.8342\n",
            "Epoch 43/50\n",
            "20000/20000 [==============================] - 0s 16us/step - loss: 0.4884 - acc: 0.8472 - val_loss: 0.4721 - val_acc: 0.8528\n",
            "Epoch 44/50\n",
            "20000/20000 [==============================] - 0s 17us/step - loss: 0.4871 - acc: 0.8497 - val_loss: 0.4693 - val_acc: 0.8494\n",
            "Epoch 45/50\n",
            "20000/20000 [==============================] - 0s 16us/step - loss: 0.4824 - acc: 0.8498 - val_loss: 0.4659 - val_acc: 0.8536\n",
            "Epoch 46/50\n",
            "20000/20000 [==============================] - 0s 16us/step - loss: 0.4851 - acc: 0.8531 - val_loss: 0.4715 - val_acc: 0.8512\n",
            "Epoch 47/50\n",
            "20000/20000 [==============================] - 0s 17us/step - loss: 0.4810 - acc: 0.8496 - val_loss: 0.4908 - val_acc: 0.8432\n",
            "Epoch 48/50\n",
            "20000/20000 [==============================] - 0s 16us/step - loss: 0.4841 - acc: 0.8497 - val_loss: 0.4647 - val_acc: 0.8526\n",
            "Epoch 49/50\n",
            "20000/20000 [==============================] - 0s 17us/step - loss: 0.4843 - acc: 0.8513 - val_loss: 0.4647 - val_acc: 0.8528\n",
            "Epoch 50/50\n",
            "20000/20000 [==============================] - 0s 17us/step - loss: 0.4832 - acc: 0.8506 - val_loss: 0.4655 - val_acc: 0.8512\n"
          ],
          "name": "stdout"
        }
      ]
    },
    {
      "metadata": {
        "id": "Px7OGShfs_qV",
        "colab_type": "text"
      },
      "cell_type": "markdown",
      "source": [
        "**MODEL PERFORMANCE**"
      ]
    },
    {
      "metadata": {
        "id": "I4bSk8b5Crp_",
        "colab_type": "code",
        "outputId": "56b29cec-8e98-49d7-fdc2-9d9488d0f29e",
        "colab": {
          "base_uri": "https://localhost:8080/",
          "height": 67
        }
      },
      "cell_type": "code",
      "source": [
        "acc = model.evaluate(x_val, y_val, verbose=1)\n",
        "print('Test data loss:', acc[0] )\n",
        "print('Test data accuracy:', acc[1] * 100)"
      ],
      "execution_count": 0,
      "outputs": [
        {
          "output_type": "stream",
          "text": [
            "5000/5000 [==============================] - 0s 59us/step\n",
            "Test data loss: 0.465498833322525\n",
            "Test data accuracy: 85.11999999999999\n"
          ],
          "name": "stdout"
        }
      ]
    },
    {
      "metadata": {
        "id": "lie_E1DctEhh",
        "colab_type": "text"
      },
      "cell_type": "markdown",
      "source": [
        "**SAVING BEST MODEL**"
      ]
    },
    {
      "metadata": {
        "id": "zoAOHBoSmZ54",
        "colab_type": "code",
        "outputId": "5ba309a6-ddbf-4188-8c8e-06584ee38510",
        "colab": {
          "base_uri": "https://localhost:8080/",
          "height": 34
        }
      },
      "cell_type": "code",
      "source": [
        "# serialize model to JSON\n",
        "model_json = model.to_json()\n",
        "with open(\".\\\\Models\\\\imdb_bow.h5\", \"w\") as json_file:\n",
        "    json_file.write(model_json)\n",
        "# serialize weights to HDF5\n",
        "model.save_weights(\"model.h5\")\n",
        "print(\"Saved model to disk\")"
      ],
      "execution_count": 0,
      "outputs": [
        {
          "output_type": "stream",
          "text": [
            "Saved model to disk\n"
          ],
          "name": "stdout"
        }
      ]
    },
    {
      "metadata": {
        "id": "RkWMRmJFDTYk",
        "colab_type": "text"
      },
      "cell_type": "markdown",
      "source": [
        "**TRANSFER LEARNING USING FINANCE DATA**"
      ]
    },
    {
      "metadata": {
        "id": "Cgpw812_DSNx",
        "colab_type": "code",
        "outputId": "da6bca2b-f246-42dd-e2db-eba837be8c5d",
        "colab": {
          "base_uri": "https://localhost:8080/",
          "height": 195
        }
      },
      "cell_type": "code",
      "source": [
        "edgar.head()"
      ],
      "execution_count": 0,
      "outputs": [
        {
          "output_type": "execute_result",
          "data": {
            "text/html": [
              "<div>\n",
              "<style scoped>\n",
              "    .dataframe tbody tr th:only-of-type {\n",
              "        vertical-align: middle;\n",
              "    }\n",
              "\n",
              "    .dataframe tbody tr th {\n",
              "        vertical-align: top;\n",
              "    }\n",
              "\n",
              "    .dataframe thead th {\n",
              "        text-align: right;\n",
              "    }\n",
              "</style>\n",
              "<table border=\"1\" class=\"dataframe\">\n",
              "  <thead>\n",
              "    <tr style=\"text-align: right;\">\n",
              "      <th></th>\n",
              "      <th>sentiment</th>\n",
              "      <th>text</th>\n",
              "    </tr>\n",
              "  </thead>\n",
              "  <tbody>\n",
              "    <tr>\n",
              "      <th>0</th>\n",
              "      <td>positive</td>\n",
              "      <td>Thank you, Ellen. We have a strong 2018, with ...</td>\n",
              "    </tr>\n",
              "    <tr>\n",
              "      <th>1</th>\n",
              "      <td>positive</td>\n",
              "      <td>Stock-based compensation totaled $2.3 billion....</td>\n",
              "    </tr>\n",
              "    <tr>\n",
              "      <th>10</th>\n",
              "      <td>negative</td>\n",
              "      <td>For the full-year 2018, Other Bets revenues we...</td>\n",
              "    </tr>\n",
              "    <tr>\n",
              "      <th>100</th>\n",
              "      <td>neutral</td>\n",
              "      <td>Great. Thank you. I just wanted to follow up o...</td>\n",
              "    </tr>\n",
              "    <tr>\n",
              "      <th>1000</th>\n",
              "      <td>negative</td>\n",
              "      <td>I have made it a priority to join Mike and Reb...</td>\n",
              "    </tr>\n",
              "  </tbody>\n",
              "</table>\n",
              "</div>"
            ],
            "text/plain": [
              "     sentiment                                               text\n",
              "0     positive  Thank you, Ellen. We have a strong 2018, with ...\n",
              "1     positive  Stock-based compensation totaled $2.3 billion....\n",
              "10    negative  For the full-year 2018, Other Bets revenues we...\n",
              "100    neutral  Great. Thank you. I just wanted to follow up o...\n",
              "1000  negative  I have made it a priority to join Mike and Reb..."
            ]
          },
          "metadata": {
            "tags": []
          },
          "execution_count": 26
        }
      ]
    },
    {
      "metadata": {
        "id": "VgkVfkWOcHVd",
        "colab_type": "code",
        "colab": {}
      },
      "cell_type": "code",
      "source": [
        "# Convert sentiments into 0,1,2\n",
        "sent = {'positive': 1,'negative': 0,'neutral': 2} \n",
        "edgar.sentiment = [sent[item] for item in edgar.sentiment] "
      ],
      "execution_count": 0,
      "outputs": []
    },
    {
      "metadata": {
        "id": "E3zZcqcsEUvG",
        "colab_type": "text"
      },
      "cell_type": "markdown",
      "source": [
        "**Preprocess the edgar text data**"
      ]
    },
    {
      "metadata": {
        "id": "kn5qi-E5ETyb",
        "colab_type": "code",
        "colab": {}
      },
      "cell_type": "code",
      "source": [
        "num_reviews = 1649\n",
        "\n",
        "# Initialize an empty list to hold the clean reviews\n",
        "clean_train_reviews = []\n",
        "\n",
        "# Loop over each review; create an index i that goes from 0 to the length\n",
        "# of the movie review list \n",
        "for i in range( 0, num_reviews ):\n",
        "    # Call our function for each one, and add the result to the list of\n",
        "    # clean reviews\n",
        "    clean_train_reviews.append( review_to_words( edgar[\"text\"][i] ) )"
      ],
      "execution_count": 0,
      "outputs": []
    },
    {
      "metadata": {
        "id": "WM4qt7VjEqdJ",
        "colab_type": "code",
        "outputId": "271bada7-6aaa-433c-e2c0-e8e7699ae586",
        "colab": {
          "base_uri": "https://localhost:8080/",
          "height": 67
        }
      },
      "cell_type": "code",
      "source": [
        "print (\"Creating the bag of words...\\n\")\n",
        "from sklearn.feature_extraction.text import CountVectorizer\n",
        "\n",
        "# Initialize the \"CountVectorizer\" object, which is scikit-learn's\n",
        "# bag of words tool.  \n",
        "vectorizer = CountVectorizer(analyzer = \"word\",   \\\n",
        "                             tokenizer = None,    \\\n",
        "                             preprocessor = None, \\\n",
        "                             stop_words = None,   \\\n",
        "                             max_features = 1000) \n",
        "\n",
        "# fit_transform() does two functions: First, it fits the model\n",
        "# and learns the vocabulary; second, it transforms our training data\n",
        "# into feature vectors. The input to fit_transform should be a list of \n",
        "# strings.\n",
        "train_data_features = vectorizer.fit_transform(clean_train_reviews)\n",
        "\n",
        "# Numpy arrays are easy to work with, so convert the result to an \n",
        "# array\n",
        "train_data_features = train_data_features.toarray()\n",
        "\n",
        "# see final the clean data\n",
        "print (train_data_features.shape)"
      ],
      "execution_count": 0,
      "outputs": [
        {
          "output_type": "stream",
          "text": [
            "Creating the bag of words...\n",
            "\n",
            "(1649, 1000)\n"
          ],
          "name": "stdout"
        }
      ]
    },
    {
      "metadata": {
        "id": "lboyfXPIW14N",
        "colab_type": "code",
        "colab": {}
      },
      "cell_type": "code",
      "source": [
        "Y = pd.get_dummies(edgar['sentiment']).values\n",
        "X =train_data_features"
      ],
      "execution_count": 0,
      "outputs": []
    },
    {
      "metadata": {
        "id": "cKvLXgCPli0K",
        "colab_type": "code",
        "outputId": "00197ae3-9e40-434c-9e0e-ea7e8e0ebd10",
        "colab": {
          "base_uri": "https://localhost:8080/",
          "height": 50
        }
      },
      "cell_type": "code",
      "source": [
        "print(Y.shape)\n",
        "print(X.shape)"
      ],
      "execution_count": 0,
      "outputs": [
        {
          "output_type": "stream",
          "text": [
            "(1649, 3)\n",
            "(1649, 1000)\n"
          ],
          "name": "stdout"
        }
      ]
    },
    {
      "metadata": {
        "id": "dqs6_GvOl506",
        "colab_type": "code",
        "outputId": "1d345277-23ab-44e7-a380-34c33f776c89",
        "colab": {
          "base_uri": "https://localhost:8080/",
          "height": 34
        }
      },
      "cell_type": "code",
      "source": [
        "from keras.models import model_from_json\n",
        "# load json and create model\n",
        "json_file = open(\".\\\\Models\\\\imdb_bow.h5\", 'r')\n",
        "loaded_model_json = json_file.read()\n",
        "json_file.close()\n",
        "loaded_model = model_from_json(loaded_model_json)\n",
        "# load weights into new model\n",
        "loaded_model.load_weights(\"model.h5\")\n",
        "print(\"Loaded model from disk\")"
      ],
      "execution_count": 0,
      "outputs": [
        {
          "output_type": "stream",
          "text": [
            "Loaded model from disk\n"
          ],
          "name": "stdout"
        }
      ]
    },
    {
      "metadata": {
        "id": "oQZgX8hQnSlu",
        "colab_type": "code",
        "colab": {}
      },
      "cell_type": "code",
      "source": [
        "for layer in loaded_model.layers:\n",
        "  layer.trainable = True"
      ],
      "execution_count": 0,
      "outputs": []
    },
    {
      "metadata": {
        "id": "cIJHJYyGnWgs",
        "colab_type": "code",
        "colab": {}
      },
      "cell_type": "code",
      "source": [
        "\n",
        "model1 = Sequential()\n",
        "for layer in loaded_model.layers[:-1]:\n",
        "    model1.add(layer)\n",
        "    \n",
        "model1.add(Dense(3,activation='softmax'))"
      ],
      "execution_count": 0,
      "outputs": []
    },
    {
      "metadata": {
        "id": "mBN45Nz9nb4d",
        "colab_type": "code",
        "outputId": "17cbbf2f-b75e-46b5-9e21-c8cb528f91a9",
        "colab": {
          "base_uri": "https://localhost:8080/",
          "height": 302
        }
      },
      "cell_type": "code",
      "source": [
        "model1.summary()"
      ],
      "execution_count": 0,
      "outputs": [
        {
          "output_type": "stream",
          "text": [
            "_________________________________________________________________\n",
            "Layer (type)                 Output Shape              Param #   \n",
            "=================================================================\n",
            "dense_1 (Dense)              (None, 16)                16016     \n",
            "_________________________________________________________________\n",
            "dropout_1 (Dropout)          (None, 16)                0         \n",
            "_________________________________________________________________\n",
            "dense_2 (Dense)              (None, 16)                272       \n",
            "_________________________________________________________________\n",
            "dropout_2 (Dropout)          (None, 16)                0         \n",
            "_________________________________________________________________\n",
            "dense_4 (Dense)              (None, 3)                 51        \n",
            "=================================================================\n",
            "Total params: 16,339\n",
            "Trainable params: 16,339\n",
            "Non-trainable params: 0\n",
            "_________________________________________________________________\n"
          ],
          "name": "stdout"
        }
      ]
    },
    {
      "metadata": {
        "id": "lbg1gmsEnpz0",
        "colab_type": "code",
        "colab": {}
      },
      "cell_type": "code",
      "source": [
        "model1.compile(optimizer='rmsprop', loss='binary_crossentropy', metrics=['acc'])"
      ],
      "execution_count": 0,
      "outputs": []
    },
    {
      "metadata": {
        "id": "TMfDMxW9WjYx",
        "colab_type": "code",
        "outputId": "62f19d4d-2e43-470a-89ad-a61530f58ea5",
        "colab": {
          "base_uri": "https://localhost:8080/",
          "height": 67
        }
      },
      "cell_type": "code",
      "source": [
        "print('Test Evaluation with finance data')\n",
        "evaluation = model1.evaluate(X,Y, batch_size=64)\n",
        "print('Loss:', evaluation[0], 'Accuracy:', evaluation[1])"
      ],
      "execution_count": 0,
      "outputs": [
        {
          "output_type": "stream",
          "text": [
            "Test Evaluation with finance data\n",
            "1649/1649 [==============================] - 0s 104us/step\n",
            "Loss: 0.7475845147581661 Accuracy: 0.6674752566147891\n"
          ],
          "name": "stdout"
        }
      ]
    },
    {
      "metadata": {
        "id": "HkB0EU_bX3Bh",
        "colab_type": "text"
      },
      "cell_type": "markdown",
      "source": [
        "**Prediction using the Pre-Trained Model**"
      ]
    },
    {
      "metadata": {
        "id": "1g4WsRocX1_N",
        "colab_type": "code",
        "colab": {}
      },
      "cell_type": "code",
      "source": [
        "Prediction_bow = model1.predict(X)"
      ],
      "execution_count": 0,
      "outputs": []
    },
    {
      "metadata": {
        "id": "U_MWomUuYVvV",
        "colab_type": "code",
        "colab": {}
      },
      "cell_type": "code",
      "source": [
        "for i in range(0,len(Prediction_bow)):\n",
        "  y = Prediction_bow[i]\n",
        "  max = np.argmax(y)\n",
        "  min = np.argmin(y)\n",
        "  for x in range(0,2):\n",
        "    y[max]=1\n",
        "    y[min]=0\n",
        "    if y[x]!=0 and y[x]!=1:\n",
        "      y[x]=0"
      ],
      "execution_count": 0,
      "outputs": []
    },
    {
      "metadata": {
        "id": "1hL67CI7V3O-",
        "colab_type": "code",
        "colab": {}
      },
      "cell_type": "code",
      "source": [
        "for r in Prediction_bow:\n",
        "  maxValueIndex =r.argmax()\n",
        "  #print(maxValueIndex)\n",
        "  r[0] = 0.0\n",
        "  r[1] = 0.0\n",
        "  r[2] = 0.0\n",
        "  r[maxValueIndex] = 1.0"
      ],
      "execution_count": 0,
      "outputs": []
    },
    {
      "metadata": {
        "id": "v9MIhq4ktxRc",
        "colab_type": "text"
      },
      "cell_type": "markdown",
      "source": [
        "**CONFUSION MATRIX**"
      ]
    },
    {
      "metadata": {
        "id": "LsYffu-PYl7U",
        "colab_type": "code",
        "outputId": "aaeafaf9-768b-415c-a5c0-66730ddfc5e0",
        "colab": {
          "base_uri": "https://localhost:8080/",
          "height": 84
        }
      },
      "cell_type": "code",
      "source": [
        "cm = confusion_matrix(Y.argmax(axis=1), Prediction_bow.argmax(axis =1)) \n",
        "print('Confusion Matrix :')\n",
        "print(cm) "
      ],
      "execution_count": 0,
      "outputs": [
        {
          "output_type": "stream",
          "text": [
            "Confusion Matrix :\n",
            "[[  0  19 139]\n",
            " [  0  68 592]\n",
            " [  0 116 715]]\n"
          ],
          "name": "stdout"
        }
      ]
    },
    {
      "metadata": {
        "id": "xIjo8vFdoXg5",
        "colab_type": "code",
        "outputId": "bda195fc-2403-411d-d798-9e509f6148d5",
        "colab": {
          "base_uri": "https://localhost:8080/",
          "height": 378
        }
      },
      "cell_type": "code",
      "source": [
        "LABELS = ['negative', 'positive','neutral']\n",
        "a = sns.heatmap(cm, annot=True, xticklabels=LABELS, yticklabels=LABELS, fmt='g')\n",
        "a.set(xlabel='Predicted', ylabel='Actual')\n",
        "a.plot()\n",
        "# xl = plt.xlabel(\"Predicted\")\n",
        "\n",
        "# yl = plt.ylabel(\"Actual\")"
      ],
      "execution_count": 0,
      "outputs": [
        {
          "output_type": "execute_result",
          "data": {
            "text/plain": [
              "[]"
            ]
          },
          "metadata": {
            "tags": []
          },
          "execution_count": 54
        },
        {
          "output_type": "display_data",
          "data": {
            "image/png": "[encoded data removed]",
            "text/plain": [
              "<Figure size 576x396 with 2 Axes>"
            ]
          },
          "metadata": {
            "tags": []
          }
        }
      ]
    }
  ]
}