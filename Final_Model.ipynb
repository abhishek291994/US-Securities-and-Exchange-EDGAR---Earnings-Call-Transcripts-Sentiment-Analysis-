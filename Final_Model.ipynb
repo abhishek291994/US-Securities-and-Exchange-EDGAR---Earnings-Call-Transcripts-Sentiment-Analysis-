{
  "nbformat": 4,
  "nbformat_minor": 0,
  "metadata": {
    "colab": {
      "name": "Final Model.ipynb",
      "version": "0.3.2",
      "provenance": [],
      "collapsed_sections": []
    },
    "kernelspec": {
      "name": "python3",
      "display_name": "Python 3"
    },
    "accelerator": "GPU"
  },
  "cells": [
    {
      "metadata": {
        "id": "xZqxShDCHixT",
        "colab_type": "code",
        "colab": {}
      },
      "cell_type": "code",
      "source": [
        "import pandas as pd \n",
        "from keras.models import Sequential,Model\n",
        "from keras.layers import Embedding, SimpleRNN,Input\n",
        "from keras.datasets import imdb\n",
        "from keras.preprocessing import sequence\n",
        "from keras.layers import Dense,Dropout\n",
        "from keras.layers import Embedding, Flatten, Dense,Conv1D,MaxPooling1D, regularizers\n",
        "from keras.preprocessing.text import Tokenizer\n",
        "from keras.preprocessing.sequence import pad_sequences\n",
        "from sklearn import preprocessing\n",
        "import numpy as np\n",
        "import keras\n",
        "import matplotlib.pyplot as plt\n",
        "from sklearn.model_selection import train_test_split\n",
        "import itertools\n",
        "from sklearn.metrics import confusion_matrix\n",
        "import seaborn as sns\n"
      ],
      "execution_count": 0,
      "outputs": []
    },
    {
      "metadata": {
        "id": "cfy1RSY5Ilxj",
        "colab_type": "code",
        "outputId": "0ec580f7-081d-4d2a-a05f-a87213a666cb",
        "colab": {
          "resources": {
            "http://localhost:8080/nbextensions/google.colab/files.js": {
              "data": "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",
              "ok": true,
              "headers": [
                [
                  "content-type",
                  "application/javascript"
                ]
              ],
              "status": 200,
              "status_text": ""
            }
          },
          "base_uri": "https://localhost:8080/",
          "height": 74
        }
      },
      "cell_type": "code",
      "source": [
        "from google.colab import files\n",
        "uploaded = files.upload()"
      ],
      "execution_count": 0,
      "outputs": [
        {
          "output_type": "display_data",
          "data": {
            "text/html": [
              "\n",
              "     <input type=\"file\" id=\"files-d5e2f561-becb-4db0-835d-876cff97108e\" name=\"files[]\" multiple disabled />\n",
              "     <output id=\"result-d5e2f561-becb-4db0-835d-876cff97108e\">\n",
              "      Upload widget is only available when the cell has been executed in the\n",
              "      current browser session. Please rerun this cell to enable.\n",
              "      </output>\n",
              "      <script src=\"/nbextensions/google.colab/files.js\"></script> "
            ],
            "text/plain": [
              "<IPython.core.display.HTML object>"
            ]
          },
          "metadata": {
            "tags": []
          }
        },
        {
          "output_type": "stream",
          "text": [
            "Saving train.csv to train (1).csv\n"
          ],
          "name": "stdout"
        }
      ]
    },
    {
      "metadata": {
        "id": "ZVARxB89Jk80",
        "colab_type": "code",
        "colab": {}
      },
      "cell_type": "code",
      "source": [
        "import io\n",
        "df2 = pd.read_csv(io.BytesIO(uploaded['train.csv']))\n",
        "# Dataset is now stored in a Pandas Dataframe"
      ],
      "execution_count": 0,
      "outputs": []
    },
    {
      "metadata": {
        "id": "m0HlaYW-KFgW",
        "colab_type": "code",
        "outputId": "ef7338de-ac9f-4893-ba38-9b63a0b50a36",
        "colab": {
          "base_uri": "https://localhost:8080/",
          "height": 195
        }
      },
      "cell_type": "code",
      "source": [
        "df2.head()"
      ],
      "execution_count": 0,
      "outputs": [
        {
          "output_type": "execute_result",
          "data": {
            "text/html": [
              "<div>\n",
              "<style scoped>\n",
              "    .dataframe tbody tr th:only-of-type {\n",
              "        vertical-align: middle;\n",
              "    }\n",
              "\n",
              "    .dataframe tbody tr th {\n",
              "        vertical-align: top;\n",
              "    }\n",
              "\n",
              "    .dataframe thead th {\n",
              "        text-align: right;\n",
              "    }\n",
              "</style>\n",
              "<table border=\"1\" class=\"dataframe\">\n",
              "  <thead>\n",
              "    <tr style=\"text-align: right;\">\n",
              "      <th></th>\n",
              "      <th>text</th>\n",
              "      <th>sentiment</th>\n",
              "    </tr>\n",
              "  </thead>\n",
              "  <tbody>\n",
              "    <tr>\n",
              "      <th>0</th>\n",
              "      <td>For a movie that gets no respect there sure ar...</td>\n",
              "      <td>0</td>\n",
              "    </tr>\n",
              "    <tr>\n",
              "      <th>1</th>\n",
              "      <td>Bizarre horror movie filled with famous faces ...</td>\n",
              "      <td>0</td>\n",
              "    </tr>\n",
              "    <tr>\n",
              "      <th>2</th>\n",
              "      <td>A solid, if unremarkable film. Matthau, as Ein...</td>\n",
              "      <td>0</td>\n",
              "    </tr>\n",
              "    <tr>\n",
              "      <th>3</th>\n",
              "      <td>It's a strange feeling to sit alone in a theat...</td>\n",
              "      <td>0</td>\n",
              "    </tr>\n",
              "    <tr>\n",
              "      <th>4</th>\n",
              "      <td>You probably all already know this by now, but...</td>\n",
              "      <td>0</td>\n",
              "    </tr>\n",
              "  </tbody>\n",
              "</table>\n",
              "</div>"
            ],
            "text/plain": [
              "                                                text  sentiment\n",
              "0  For a movie that gets no respect there sure ar...          0\n",
              "1  Bizarre horror movie filled with famous faces ...          0\n",
              "2  A solid, if unremarkable film. Matthau, as Ein...          0\n",
              "3  It's a strange feeling to sit alone in a theat...          0\n",
              "4  You probably all already know this by now, but...          0"
            ]
          },
          "metadata": {
            "tags": []
          },
          "execution_count": 10
        }
      ]
    },
    {
      "metadata": {
        "id": "8McFFzWEKa6k",
        "colab_type": "code",
        "colab": {}
      },
      "cell_type": "code",
      "source": [
        "data_inputs =  df2[\"text\"].get_values()\n",
        "data_labels = df2.sentiment"
      ],
      "execution_count": 0,
      "outputs": []
    },
    {
      "metadata": {
        "id": "XrkMv9vXJ_dR",
        "colab_type": "code",
        "colab": {}
      },
      "cell_type": "code",
      "source": [
        "x_train, x_test, y_train, y_test = train_test_split(data_inputs,data_labels, test_size=0.20)"
      ],
      "execution_count": 0,
      "outputs": []
    },
    {
      "metadata": {
        "id": "6muxOFz_KPOQ",
        "colab_type": "code",
        "outputId": "7d733c08-b726-4817-b5e3-94403588bbf1",
        "colab": {
          "base_uri": "https://localhost:8080/",
          "height": 101
        }
      },
      "cell_type": "code",
      "source": [
        "tokenizer = Tokenizer(nb_words=10000)\n",
        "tokenizer.fit_on_texts(data_inputs)\n",
        "sequences = tokenizer.texts_to_sequences(data_inputs)\n",
        "\n",
        "word_index = tokenizer.word_index\n",
        "print('Found %s unique tokens.' % len(word_index))\n",
        "\n",
        "data = pad_sequences(sequences, maxlen=1000)\n",
        "\n",
        "labels = keras.utils.to_categorical(np.asarray(data_labels))\n",
        "print('Shape of data tensor:', data.shape)\n",
        "print('Shape of label tensor:', labels.shape)"
      ],
      "execution_count": 0,
      "outputs": [
        {
          "output_type": "stream",
          "text": [
            "/usr/local/lib/python3.6/dist-packages/keras_preprocessing/text.py:178: UserWarning: The `nb_words` argument in `Tokenizer` has been renamed `num_words`.\n",
            "  warnings.warn('The `nb_words` argument in `Tokenizer` '\n"
          ],
          "name": "stderr"
        },
        {
          "output_type": "stream",
          "text": [
            "Found 88565 unique tokens.\n",
            "Shape of data tensor: (25000, 1000)\n",
            "Shape of label tensor: (25000, 2)\n"
          ],
          "name": "stdout"
        }
      ]
    },
    {
      "metadata": {
        "id": "_KWgzEFjKrij",
        "colab_type": "code",
        "colab": {}
      },
      "cell_type": "code",
      "source": [
        "indices = np.arange(data.shape[0])\n",
        "np.random.shuffle(indices)\n",
        "data = data[indices]\n",
        "labels = labels[indices]\n",
        "nb_validation_samples = int(.20 * data.shape[0])\n",
        "\n",
        "x_train = data[:-nb_validation_samples]\n",
        "y_train = labels[:-nb_validation_samples]\n",
        "x_val = data[-nb_validation_samples:]\n",
        "y_val = labels[-nb_validation_samples:]"
      ],
      "execution_count": 0,
      "outputs": []
    },
    {
      "metadata": {
        "id": "vQfv49AqK7-u",
        "colab_type": "code",
        "outputId": "e98c664d-e70e-4eb6-d65b-bc6a925449a8",
        "colab": {
          "base_uri": "https://localhost:8080/",
          "height": 34
        }
      },
      "cell_type": "code",
      "source": [
        "embeddings_index = {}\n",
        "f = open( '/content/glove.6B.100d.txt')\n",
        "for line in f:\n",
        "    values = line.split()\n",
        "    word = values[0]\n",
        "    coefs = np.asarray(values[1:], dtype='float32')\n",
        "    embeddings_index[word] = coefs\n",
        "f.close()\n",
        "\n",
        "print('Found %s word vectors.' % len(embeddings_index))"
      ],
      "execution_count": 0,
      "outputs": [
        {
          "output_type": "stream",
          "text": [
            "Found 400000 word vectors.\n"
          ],
          "name": "stdout"
        }
      ]
    },
    {
      "metadata": {
        "id": "xDDpHR48NSVo",
        "colab_type": "code",
        "colab": {}
      },
      "cell_type": "code",
      "source": [
        "embedding_matrix = np.zeros((len(word_index) + 1, 100))\n",
        "for word, i in word_index.items():\n",
        "    embedding_vector = embeddings_index.get(word)\n",
        "    if embedding_vector is not None:\n",
        "        # words not found in embedding index will be all-zeros.\n",
        "        embedding_matrix[i] = embedding_vector\n"
      ],
      "execution_count": 0,
      "outputs": []
    },
    {
      "metadata": {
        "id": "2qlCZAe2NW5u",
        "colab_type": "code",
        "colab": {}
      },
      "cell_type": "code",
      "source": [
        "\n",
        "embedding_layer = Embedding(len(word_index) + 1,\n",
        "                            100,\n",
        "                            weights=[embedding_matrix],\n",
        "                            input_length=1000,\n",
        "                            trainable=False)\n"
      ],
      "execution_count": 0,
      "outputs": []
    },
    {
      "metadata": {
        "id": "xDnu7fU8OHNH",
        "colab_type": "code",
        "outputId": "07365895-9bda-4931-843f-91044c5b76b2",
        "colab": {
          "base_uri": "https://localhost:8080/",
          "height": 50
        }
      },
      "cell_type": "code",
      "source": [
        "#y_val = y_val.flatten()\n",
        "print(y_train.shape)\n",
        "print(y_val.shape)"
      ],
      "execution_count": 0,
      "outputs": [
        {
          "output_type": "stream",
          "text": [
            "(20000, 2)\n",
            "(5000, 2)\n"
          ],
          "name": "stdout"
        }
      ]
    },
    {
      "metadata": {
        "id": "SFux7YaSQhb7",
        "colab_type": "code",
        "colab": {}
      },
      "cell_type": "code",
      "source": [
        "def model_creation():\n",
        "  input_layer = Input(shape=(1000,), dtype='int32')\n",
        "  embed_layer = embedding_layer(input_layer)\n",
        "  x = Conv1D(128, 5, activation='relu')(embed_layer)\n",
        "  x = MaxPooling1D(5)(x)\n",
        "  x = Conv1D(128, 5, activation='relu')(x)\n",
        "  x = MaxPooling1D(5)(x)\n",
        "  x = Conv1D(128, 5, activation='relu')(x)\n",
        "  x = MaxPooling1D(35)(x)  # global max pooling\n",
        "  x = Flatten()(x)\n",
        "  x = Dense(128,activation='relu')(x)\n",
        "  x = Dropout(0.3)(x)\n",
        "  x = Dense(246, activation='relu')(x)\n",
        "  final_layer = Dense(2, activation='softmax')(x)\n",
        "  opt = keras.optimizers.Adam(lr= learning_rate, beta_1=0.9, beta_2=0.999, epsilon=None, decay=0.0, amsgrad=False)\n",
        "  model = Model(input_layer,final_layer)\n",
        "  model.compile(loss='categorical_crossentropy',\n",
        "              optimizer=opt,\n",
        "              metrics=['acc'])\n",
        "  return model "
      ],
      "execution_count": 0,
      "outputs": []
    },
    {
      "metadata": {
        "id": "l8xEWUdzVjGh",
        "colab_type": "code",
        "outputId": "ff96100e-686f-448f-a7c4-0cbee90906c1",
        "colab": {
          "base_uri": "https://localhost:8080/",
          "height": 1902
        }
      },
      "cell_type": "code",
      "source": [
        "learning_rate = 0.0001\n",
        "batch_size = 32\n",
        "epochs = 50\n",
        "model_glove = model_creation()\n",
        "model_glove.fit(x_train, y_train, validation_data=(x_val, y_val),epochs=epochs, batch_size=batch_size)"
      ],
      "execution_count": 0,
      "outputs": [
        {
          "output_type": "stream",
          "text": [
            "WARNING:tensorflow:From /usr/local/lib/python3.6/dist-packages/tensorflow/python/framework/op_def_library.py:263: colocate_with (from tensorflow.python.framework.ops) is deprecated and will be removed in a future version.\n",
            "Instructions for updating:\n",
            "Colocations handled automatically by placer.\n",
            "WARNING:tensorflow:From /usr/local/lib/python3.6/dist-packages/keras/backend/tensorflow_backend.py:3445: calling dropout (from tensorflow.python.ops.nn_ops) with keep_prob is deprecated and will be removed in a future version.\n",
            "Instructions for updating:\n",
            "Please use `rate` instead of `keep_prob`. Rate should be set to `rate = 1 - keep_prob`.\n",
            "WARNING:tensorflow:From /usr/local/lib/python3.6/dist-packages/tensorflow/python/ops/math_ops.py:3066: to_int32 (from tensorflow.python.ops.math_ops) is deprecated and will be removed in a future version.\n",
            "Instructions for updating:\n",
            "Use tf.cast instead.\n",
            "Train on 20000 samples, validate on 5000 samples\n",
            "Epoch 1/50\n",
            "20000/20000 [==============================] - 16s 798us/step - loss: 0.6561 - acc: 0.5922 - val_loss: 0.5432 - val_acc: 0.7350\n",
            "Epoch 2/50\n",
            "20000/20000 [==============================] - 13s 634us/step - loss: 0.4960 - acc: 0.7622 - val_loss: 0.4711 - val_acc: 0.7770\n",
            "Epoch 3/50\n",
            "20000/20000 [==============================] - 13s 633us/step - loss: 0.4220 - acc: 0.8114 - val_loss: 0.4713 - val_acc: 0.7852\n",
            "Epoch 4/50\n",
            "20000/20000 [==============================] - 13s 635us/step - loss: 0.3675 - acc: 0.8389 - val_loss: 0.4184 - val_acc: 0.8106\n",
            "Epoch 5/50\n",
            "20000/20000 [==============================] - 13s 634us/step - loss: 0.3254 - acc: 0.8615 - val_loss: 0.4311 - val_acc: 0.8218\n",
            "Epoch 6/50\n",
            "20000/20000 [==============================] - 13s 631us/step - loss: 0.2702 - acc: 0.8912 - val_loss: 0.5083 - val_acc: 0.7850\n",
            "Epoch 7/50\n",
            "20000/20000 [==============================] - 13s 634us/step - loss: 0.2174 - acc: 0.9184 - val_loss: 0.4087 - val_acc: 0.8332\n",
            "Epoch 8/50\n",
            "20000/20000 [==============================] - 13s 634us/step - loss: 0.1575 - acc: 0.9433 - val_loss: 0.4481 - val_acc: 0.8334\n",
            "Epoch 9/50\n",
            "20000/20000 [==============================] - 13s 633us/step - loss: 0.0987 - acc: 0.9664 - val_loss: 0.5728 - val_acc: 0.8176\n",
            "Epoch 10/50\n",
            "20000/20000 [==============================] - 13s 634us/step - loss: 0.0588 - acc: 0.9823 - val_loss: 0.6003 - val_acc: 0.8262\n",
            "Epoch 11/50\n",
            "20000/20000 [==============================] - 13s 633us/step - loss: 0.0355 - acc: 0.9895 - val_loss: 0.7320 - val_acc: 0.8182\n",
            "Epoch 12/50\n",
            "20000/20000 [==============================] - 13s 634us/step - loss: 0.0353 - acc: 0.9892 - val_loss: 0.7408 - val_acc: 0.8284\n",
            "Epoch 13/50\n",
            "20000/20000 [==============================] - 13s 639us/step - loss: 0.0103 - acc: 0.9978 - val_loss: 0.8320 - val_acc: 0.8252\n",
            "Epoch 14/50\n",
            "20000/20000 [==============================] - 13s 638us/step - loss: 0.0333 - acc: 0.9896 - val_loss: 0.8223 - val_acc: 0.8220\n",
            "Epoch 15/50\n",
            "20000/20000 [==============================] - 13s 633us/step - loss: 0.0062 - acc: 0.9990 - val_loss: 0.9222 - val_acc: 0.8196\n",
            "Epoch 16/50\n",
            "20000/20000 [==============================] - 13s 632us/step - loss: 0.0190 - acc: 0.9936 - val_loss: 0.7594 - val_acc: 0.8084\n",
            "Epoch 17/50\n",
            "20000/20000 [==============================] - 13s 633us/step - loss: 0.0142 - acc: 0.9955 - val_loss: 1.0878 - val_acc: 0.8070\n",
            "Epoch 18/50\n",
            "20000/20000 [==============================] - 13s 632us/step - loss: 0.0240 - acc: 0.9909 - val_loss: 0.9208 - val_acc: 0.8186\n",
            "Epoch 19/50\n",
            "20000/20000 [==============================] - 13s 632us/step - loss: 0.0071 - acc: 0.9980 - val_loss: 1.0429 - val_acc: 0.8122\n",
            "Epoch 20/50\n",
            "20000/20000 [==============================] - 13s 632us/step - loss: 0.0241 - acc: 0.9912 - val_loss: 0.8990 - val_acc: 0.8276\n",
            "Epoch 21/50\n",
            "20000/20000 [==============================] - 13s 633us/step - loss: 0.0238 - acc: 0.9912 - val_loss: 1.2191 - val_acc: 0.7748\n",
            "Epoch 22/50\n",
            "20000/20000 [==============================] - 13s 633us/step - loss: 0.0131 - acc: 0.9955 - val_loss: 1.0130 - val_acc: 0.8294\n",
            "Epoch 23/50\n",
            "20000/20000 [==============================] - 13s 633us/step - loss: 0.0074 - acc: 0.9974 - val_loss: 1.2329 - val_acc: 0.8016\n",
            "Epoch 24/50\n",
            "20000/20000 [==============================] - 13s 632us/step - loss: 0.0379 - acc: 0.9864 - val_loss: 0.8537 - val_acc: 0.8264\n",
            "Epoch 25/50\n",
            "20000/20000 [==============================] - 13s 633us/step - loss: 0.0044 - acc: 0.9990 - val_loss: 1.0053 - val_acc: 0.8240\n",
            "Epoch 26/50\n",
            "20000/20000 [==============================] - 13s 633us/step - loss: 0.0049 - acc: 0.9987 - val_loss: 1.0896 - val_acc: 0.8260\n",
            "Epoch 27/50\n",
            "20000/20000 [==============================] - 13s 634us/step - loss: 0.0212 - acc: 0.9923 - val_loss: 1.0578 - val_acc: 0.8248\n",
            "Epoch 28/50\n",
            "20000/20000 [==============================] - 13s 632us/step - loss: 0.0087 - acc: 0.9968 - val_loss: 1.1043 - val_acc: 0.8192\n",
            "Epoch 29/50\n",
            "20000/20000 [==============================] - 13s 634us/step - loss: 0.0179 - acc: 0.9940 - val_loss: 0.9475 - val_acc: 0.8208\n",
            "Epoch 30/50\n",
            "20000/20000 [==============================] - 13s 633us/step - loss: 0.0252 - acc: 0.9917 - val_loss: 1.0390 - val_acc: 0.8204\n",
            "Epoch 31/50\n",
            "20000/20000 [==============================] - 13s 633us/step - loss: 0.0048 - acc: 0.9985 - val_loss: 1.0919 - val_acc: 0.8268\n",
            "Epoch 32/50\n",
            "20000/20000 [==============================] - 13s 633us/step - loss: 0.0114 - acc: 0.9955 - val_loss: 1.1050 - val_acc: 0.8246\n",
            "Epoch 33/50\n",
            "20000/20000 [==============================] - 13s 632us/step - loss: 0.0168 - acc: 0.9938 - val_loss: 0.9970 - val_acc: 0.8222\n",
            "Epoch 34/50\n",
            "20000/20000 [==============================] - 13s 633us/step - loss: 0.0081 - acc: 0.9970 - val_loss: 1.1430 - val_acc: 0.8172\n",
            "Epoch 35/50\n",
            "20000/20000 [==============================] - 13s 633us/step - loss: 0.0245 - acc: 0.9917 - val_loss: 1.0935 - val_acc: 0.8116\n",
            "Epoch 36/50\n",
            "20000/20000 [==============================] - 13s 634us/step - loss: 0.0100 - acc: 0.9965 - val_loss: 1.3053 - val_acc: 0.8008\n",
            "Epoch 37/50\n",
            "20000/20000 [==============================] - 13s 634us/step - loss: 0.0109 - acc: 0.9959 - val_loss: 1.0492 - val_acc: 0.8238\n",
            "Epoch 38/50\n",
            "20000/20000 [==============================] - 13s 641us/step - loss: 0.0090 - acc: 0.9965 - val_loss: 1.2039 - val_acc: 0.8244\n",
            "Epoch 39/50\n",
            "20000/20000 [==============================] - 13s 634us/step - loss: 0.0063 - acc: 0.9977 - val_loss: 1.2305 - val_acc: 0.8274\n",
            "Epoch 40/50\n",
            "20000/20000 [==============================] - 13s 633us/step - loss: 0.0228 - acc: 0.9927 - val_loss: 0.9610 - val_acc: 0.8208\n",
            "Epoch 41/50\n",
            "20000/20000 [==============================] - 13s 633us/step - loss: 0.0062 - acc: 0.9979 - val_loss: 1.1381 - val_acc: 0.8172\n",
            "Epoch 42/50\n",
            "20000/20000 [==============================] - 13s 633us/step - loss: 0.0149 - acc: 0.9949 - val_loss: 1.0633 - val_acc: 0.8214\n",
            "Epoch 43/50\n",
            "20000/20000 [==============================] - 13s 631us/step - loss: 0.0012 - acc: 0.9997 - val_loss: 1.2100 - val_acc: 0.8242\n",
            "Epoch 44/50\n",
            "20000/20000 [==============================] - 13s 632us/step - loss: 0.0219 - acc: 0.9926 - val_loss: 0.9171 - val_acc: 0.8228\n",
            "Epoch 45/50\n",
            "20000/20000 [==============================] - 13s 632us/step - loss: 0.0108 - acc: 0.9956 - val_loss: 1.0378 - val_acc: 0.8154\n",
            "Epoch 46/50\n",
            "20000/20000 [==============================] - 13s 632us/step - loss: 0.0150 - acc: 0.9945 - val_loss: 1.0369 - val_acc: 0.8156\n",
            "Epoch 47/50\n",
            "20000/20000 [==============================] - 13s 633us/step - loss: 0.0028 - acc: 0.9992 - val_loss: 1.1908 - val_acc: 0.8178\n",
            "Epoch 48/50\n",
            "20000/20000 [==============================] - 13s 632us/step - loss: 0.0127 - acc: 0.9950 - val_loss: 1.0930 - val_acc: 0.8202\n",
            "Epoch 49/50\n",
            "20000/20000 [==============================] - 13s 632us/step - loss: 0.0076 - acc: 0.9976 - val_loss: 1.2757 - val_acc: 0.8102\n",
            "Epoch 50/50\n",
            "20000/20000 [==============================] - 13s 633us/step - loss: 0.0247 - acc: 0.9907 - val_loss: 1.0146 - val_acc: 0.8130\n"
          ],
          "name": "stdout"
        },
        {
          "output_type": "execute_result",
          "data": {
            "text/plain": [
              "<keras.callbacks.History at 0x7fc4ddf72940>"
            ]
          },
          "metadata": {
            "tags": []
          },
          "execution_count": 33
        }
      ]
    },
    {
      "metadata": {
        "id": "Y7iMgccUhZSa",
        "colab_type": "code",
        "outputId": "4086e4f2-5bc0-4033-c1f5-df91ad780294",
        "colab": {
          "base_uri": "https://localhost:8080/",
          "height": 67
        }
      },
      "cell_type": "code",
      "source": [
        "acc = model_glove.evaluate(x_val, y_val, verbose=1)\n",
        "print('Test data loss:', acc[0] )\n",
        "print('Test data accuracy:', acc[1] * 100)"
      ],
      "execution_count": 0,
      "outputs": [
        {
          "output_type": "stream",
          "text": [
            "5000/5000 [==============================] - 1s 261us/step\n",
            "Test data loss: 1.0145598538398743\n",
            "Test data accuracy: 81.3\n"
          ],
          "name": "stdout"
        }
      ]
    },
    {
      "metadata": {
        "id": "ID7w0OIINykO",
        "colab_type": "code",
        "outputId": "be451747-5129-4564-9739-3575f5f04e96",
        "colab": {
          "base_uri": "https://localhost:8080/",
          "height": 34
        }
      },
      "cell_type": "code",
      "source": [
        "# serialize model to JSON\n",
        "model_json = model_glove.to_json()\n",
        "with open(\".\\\\Models\\\\imdb_glove.h5\", \"w\") as json_file:\n",
        "    json_file.write(model_json)\n",
        "# serialize weights to HDF5\n",
        "model_glove.save_weights(\"model.h5\")\n",
        "print(\"Saved model to disk\")"
      ],
      "execution_count": 0,
      "outputs": [
        {
          "output_type": "stream",
          "text": [
            "Saved model to disk\n"
          ],
          "name": "stdout"
        }
      ]
    },
    {
      "metadata": {
        "id": "ZyYgMzy47I3C",
        "colab_type": "text"
      },
      "cell_type": "markdown",
      "source": [
        "Load Edgar"
      ]
    },
    {
      "metadata": {
        "id": "2HXCVrcRViPa",
        "colab_type": "code",
        "colab": {}
      },
      "cell_type": "code",
      "source": [
        "edgar = pd.read_json(\"/content/earnings_call_ip_data_main.json\")"
      ],
      "execution_count": 0,
      "outputs": []
    },
    {
      "metadata": {
        "id": "D3WH_lC88W7O",
        "colab_type": "code",
        "outputId": "d4540134-035f-4099-e5a1-ac2b1fe95ea2",
        "colab": {
          "base_uri": "https://localhost:8080/",
          "height": 195
        }
      },
      "cell_type": "code",
      "source": [
        "edgar.head()"
      ],
      "execution_count": 0,
      "outputs": [
        {
          "output_type": "execute_result",
          "data": {
            "text/html": [
              "<div>\n",
              "<style scoped>\n",
              "    .dataframe tbody tr th:only-of-type {\n",
              "        vertical-align: middle;\n",
              "    }\n",
              "\n",
              "    .dataframe tbody tr th {\n",
              "        vertical-align: top;\n",
              "    }\n",
              "\n",
              "    .dataframe thead th {\n",
              "        text-align: right;\n",
              "    }\n",
              "</style>\n",
              "<table border=\"1\" class=\"dataframe\">\n",
              "  <thead>\n",
              "    <tr style=\"text-align: right;\">\n",
              "      <th></th>\n",
              "      <th>sentiment</th>\n",
              "      <th>text</th>\n",
              "    </tr>\n",
              "  </thead>\n",
              "  <tbody>\n",
              "    <tr>\n",
              "      <th>0</th>\n",
              "      <td>positive</td>\n",
              "      <td>Thank you, Ellen. We have a strong 2018, with ...</td>\n",
              "    </tr>\n",
              "    <tr>\n",
              "      <th>1</th>\n",
              "      <td>positive</td>\n",
              "      <td>Stock-based compensation totaled $2.3 billion....</td>\n",
              "    </tr>\n",
              "    <tr>\n",
              "      <th>10</th>\n",
              "      <td>negative</td>\n",
              "      <td>For the full-year 2018, Other Bets revenues we...</td>\n",
              "    </tr>\n",
              "    <tr>\n",
              "      <th>100</th>\n",
              "      <td>neutral</td>\n",
              "      <td>Great. Thank you. I just wanted to follow up o...</td>\n",
              "    </tr>\n",
              "    <tr>\n",
              "      <th>1000</th>\n",
              "      <td>negative</td>\n",
              "      <td>I have made it a priority to join Mike and Reb...</td>\n",
              "    </tr>\n",
              "  </tbody>\n",
              "</table>\n",
              "</div>"
            ],
            "text/plain": [
              "     sentiment                                               text\n",
              "0     positive  Thank you, Ellen. We have a strong 2018, with ...\n",
              "1     positive  Stock-based compensation totaled $2.3 billion....\n",
              "10    negative  For the full-year 2018, Other Bets revenues we...\n",
              "100    neutral  Great. Thank you. I just wanted to follow up o...\n",
              "1000  negative  I have made it a priority to join Mike and Reb..."
            ]
          },
          "metadata": {
            "tags": []
          },
          "execution_count": 4
        }
      ]
    },
    {
      "metadata": {
        "id": "hCpI_Cs_86DN",
        "colab_type": "code",
        "colab": {}
      },
      "cell_type": "code",
      "source": [
        "sent = {'positive': 1,'negative': 0,'neutral': 2} \n",
        "edgar.sentiment = [sent[item] for item in edgar.sentiment] "
      ],
      "execution_count": 0,
      "outputs": []
    },
    {
      "metadata": {
        "id": "GgJRMTbK8XFp",
        "colab_type": "code",
        "colab": {}
      },
      "cell_type": "code",
      "source": [
        "data_inputs1 =  edgar[\"text\"].get_values()\n",
        "data_labels1 = edgar.sentiment"
      ],
      "execution_count": 0,
      "outputs": []
    },
    {
      "metadata": {
        "id": "4ovpJYP98euS",
        "colab_type": "code",
        "outputId": "41926188-a1c2-41e1-89b8-b23e70747fa4",
        "colab": {
          "base_uri": "https://localhost:8080/",
          "height": 101
        }
      },
      "cell_type": "code",
      "source": [
        "tokenizer = Tokenizer(nb_words=10000)\n",
        "tokenizer.fit_on_texts(data_inputs1)\n",
        "sequences = tokenizer.texts_to_sequences(data_inputs1)\n",
        "\n",
        "word_index = tokenizer.word_index\n",
        "print('Found %s unique tokens.' % len(word_index))\n",
        "\n",
        "data = pad_sequences(sequences, maxlen=1000)\n",
        "\n",
        "labels = keras.utils.to_categorical(np.asarray(data_labels1))\n",
        "print('Shape of data tensor:', data.shape)\n",
        "print('Shape of label tensor:', labels.shape)"
      ],
      "execution_count": 0,
      "outputs": [
        {
          "output_type": "stream",
          "text": [
            "/usr/local/lib/python3.6/dist-packages/keras_preprocessing/text.py:178: UserWarning: The `nb_words` argument in `Tokenizer` has been renamed `num_words`.\n",
            "  warnings.warn('The `nb_words` argument in `Tokenizer` '\n"
          ],
          "name": "stderr"
        },
        {
          "output_type": "stream",
          "text": [
            "Found 6392 unique tokens.\n",
            "Shape of data tensor: (1649, 1000)\n",
            "Shape of label tensor: (1649, 3)\n"
          ],
          "name": "stdout"
        }
      ]
    },
    {
      "metadata": {
        "id": "p-ZohIFm9BVz",
        "colab_type": "code",
        "colab": {}
      },
      "cell_type": "code",
      "source": [
        "indices = np.arange(data.shape[0])\n",
        "np.random.shuffle(indices)\n",
        "data = data[indices]\n",
        "labels = labels[indices]\n",
        "# nb_validation_samples = int(.20 * data.shape[0])\n",
        "\n",
        "# x_train = data[:-nb_validation_samples]\n",
        "# y_train = labels[:-nb_validation_samples]\n",
        "# x_val = data[-nb_validation_samples:]\n",
        "# y_val = labels[-nb_validation_samples:]"
      ],
      "execution_count": 0,
      "outputs": []
    },
    {
      "metadata": {
        "id": "rALo29B1QtTL",
        "colab_type": "code",
        "outputId": "8a1b89f9-fb95-4ca4-8dad-760c3c5da60f",
        "colab": {
          "base_uri": "https://localhost:8080/",
          "height": 50
        }
      },
      "cell_type": "code",
      "source": [
        "print(data.shape)\n",
        "print(labels.shape)"
      ],
      "execution_count": 0,
      "outputs": [
        {
          "output_type": "stream",
          "text": [
            "(1649, 1000)\n",
            "(1649, 3)\n"
          ],
          "name": "stdout"
        }
      ]
    },
    {
      "metadata": {
        "id": "l0VZEPSM9G9v",
        "colab_type": "code",
        "outputId": "a18789b9-1442-455b-83b4-fced7546ae03",
        "colab": {
          "base_uri": "https://localhost:8080/",
          "height": 34
        }
      },
      "cell_type": "code",
      "source": [
        "embeddings_index = {}\n",
        "f = open( '/content/glove.6B.100d.txt')\n",
        "for line in f:\n",
        "    values = line.split()\n",
        "    word = values[0]\n",
        "    coefs = np.asarray(values[1:], dtype='float32')\n",
        "    embeddings_index[word] = coefs\n",
        "f.close()\n",
        "\n",
        "print('Found %s word vectors.' % len(embeddings_index))"
      ],
      "execution_count": 0,
      "outputs": [
        {
          "output_type": "stream",
          "text": [
            "Found 400000 word vectors.\n"
          ],
          "name": "stdout"
        }
      ]
    },
    {
      "metadata": {
        "id": "FNHmbqwfBOif",
        "colab_type": "code",
        "colab": {}
      },
      "cell_type": "code",
      "source": [
        "embedding_matrix = np.zeros((len(word_index) + 1, 100))\n",
        "for word, i in word_index.items():\n",
        "    embedding_vector = embeddings_index.get(word)\n",
        "    if embedding_vector is not None:\n",
        "        # words not found in embedding index will be all-zeros.\n",
        "        embedding_matrix[i] = embedding_vector"
      ],
      "execution_count": 0,
      "outputs": []
    },
    {
      "metadata": {
        "id": "4hfT-Vs-Cfst",
        "colab_type": "code",
        "colab": {}
      },
      "cell_type": "code",
      "source": [
        "\n",
        "embedding_layer = Embedding(len(word_index) + 1,\n",
        "                            100,\n",
        "                            weights=[embedding_matrix],\n",
        "                            input_length=1000,\n",
        "                            trainable=False)\n"
      ],
      "execution_count": 0,
      "outputs": []
    },
    {
      "metadata": {
        "id": "xXlFLyf8PJIy",
        "colab_type": "code",
        "outputId": "0526138b-e186-45d6-f200-a4da6a34336a",
        "colab": {
          "base_uri": "https://localhost:8080/",
          "height": 34
        }
      },
      "cell_type": "code",
      "source": [
        "x_train.shape"
      ],
      "execution_count": 0,
      "outputs": [
        {
          "output_type": "execute_result",
          "data": {
            "text/plain": [
              "(20000, 1000)"
            ]
          },
          "metadata": {
            "tags": []
          },
          "execution_count": 49
        }
      ]
    },
    {
      "metadata": {
        "id": "MCWNavyyCupf",
        "colab_type": "text"
      },
      "cell_type": "markdown",
      "source": [
        "Load Pre-Trained Model"
      ]
    },
    {
      "metadata": {
        "id": "RwNwrZ6uLHbH",
        "colab_type": "code",
        "outputId": "e9bbf499-010c-4a53-de35-b5cdc4082961",
        "colab": {
          "base_uri": "https://localhost:8080/",
          "height": 34
        }
      },
      "cell_type": "code",
      "source": [
        "from keras.models import model_from_json\n",
        "# load json and create model\n",
        "json_file = open(\".\\\\Models\\\\imdb_glove.h5\", 'r')\n",
        "loaded_model_json = json_file.read()\n",
        "json_file.close()\n",
        "loaded_model = model_from_json(loaded_model_json)\n",
        "# load weights into new model\n",
        "loaded_model.load_weights(\"model.h5\")\n",
        "print(\"Loaded model from disk\")"
      ],
      "execution_count": 0,
      "outputs": [
        {
          "output_type": "stream",
          "text": [
            "Loaded model from disk\n"
          ],
          "name": "stdout"
        }
      ]
    },
    {
      "metadata": {
        "id": "jhFRQNMtOqtO",
        "colab_type": "code",
        "colab": {}
      },
      "cell_type": "code",
      "source": [
        "for layer in loaded_model.layers:\n",
        "  layer.trainable = True"
      ],
      "execution_count": 0,
      "outputs": []
    },
    {
      "metadata": {
        "id": "gymP1R-8bcCF",
        "colab_type": "code",
        "colab": {}
      },
      "cell_type": "code",
      "source": [
        "\n",
        "model1 = Sequential()\n",
        "for layer in loaded_model.layers[:-1]:\n",
        "    model1.add(layer)\n",
        "    \n",
        "model1.add(Dense(3,activation='softmax'))"
      ],
      "execution_count": 0,
      "outputs": []
    },
    {
      "metadata": {
        "id": "4q4PXk_wdieI",
        "colab_type": "code",
        "outputId": "039eeca7-9acf-4082-ae22-4ad0ff5a1b74",
        "colab": {
          "base_uri": "https://localhost:8080/",
          "height": 538
        }
      },
      "cell_type": "code",
      "source": [
        "model1.summary()"
      ],
      "execution_count": 0,
      "outputs": [
        {
          "output_type": "stream",
          "text": [
            "_________________________________________________________________\n",
            "Layer (type)                 Output Shape              Param #   \n",
            "=================================================================\n",
            "embedding_2 (Embedding)      (None, 1000, 100)         8856600   \n",
            "_________________________________________________________________\n",
            "conv1d_1 (Conv1D)            (None, 996, 128)          64128     \n",
            "_________________________________________________________________\n",
            "max_pooling1d_1 (MaxPooling1 (None, 199, 128)          0         \n",
            "_________________________________________________________________\n",
            "conv1d_2 (Conv1D)            (None, 195, 128)          82048     \n",
            "_________________________________________________________________\n",
            "max_pooling1d_2 (MaxPooling1 (None, 39, 128)           0         \n",
            "_________________________________________________________________\n",
            "conv1d_3 (Conv1D)            (None, 35, 128)           82048     \n",
            "_________________________________________________________________\n",
            "max_pooling1d_3 (MaxPooling1 (None, 1, 128)            0         \n",
            "_________________________________________________________________\n",
            "flatten_1 (Flatten)          (None, 128)               0         \n",
            "_________________________________________________________________\n",
            "dense_1 (Dense)              (None, 128)               16512     \n",
            "_________________________________________________________________\n",
            "dropout_1 (Dropout)          (None, 128)               0         \n",
            "_________________________________________________________________\n",
            "dense_2 (Dense)              (None, 246)               31734     \n",
            "_________________________________________________________________\n",
            "dense_33 (Dense)             (None, 3)                 741       \n",
            "=================================================================\n",
            "Total params: 9,133,811\n",
            "Trainable params: 9,133,811\n",
            "Non-trainable params: 0\n",
            "_________________________________________________________________\n"
          ],
          "name": "stdout"
        }
      ]
    },
    {
      "metadata": {
        "id": "lCb3gJlvdTln",
        "colab_type": "code",
        "colab": {}
      },
      "cell_type": "code",
      "source": [
        "model1.compile(optimizer='adamax', loss='binary_crossentropy', metrics=['acc'])"
      ],
      "execution_count": 0,
      "outputs": []
    },
    {
      "metadata": {
        "id": "GKlrxs5YOzg7",
        "colab_type": "code",
        "outputId": "9535a625-3422-4a69-95a0-b8e5df49058c",
        "colab": {
          "base_uri": "https://localhost:8080/",
          "height": 67
        }
      },
      "cell_type": "code",
      "source": [
        "print('Test Evaluation with finance data')\n",
        "evaluation = model1.evaluate(data,labels, batch_size=64)\n",
        "print('Loss:', evaluation[0], 'Accuracy:', evaluation[1])"
      ],
      "execution_count": 0,
      "outputs": [
        {
          "output_type": "stream",
          "text": [
            "Test Evaluation with finance data\n",
            "1649/1649 [==============================] - 1s 455us/step\n",
            "Loss: 0.642773010645439 Accuracy: 0.6640388348595601\n"
          ],
          "name": "stdout"
        }
      ]
    },
    {
      "metadata": {
        "id": "j3xkzzbVdtEz",
        "colab_type": "text"
      },
      "cell_type": "markdown",
      "source": [
        "Prediction using pre-trained model"
      ]
    },
    {
      "metadata": {
        "id": "f4Y2abYKdloZ",
        "colab_type": "code",
        "colab": {}
      },
      "cell_type": "code",
      "source": [
        "Prediction_glove = model1.predict(data)"
      ],
      "execution_count": 0,
      "outputs": []
    },
    {
      "metadata": {
        "id": "F6LknLP9d8r5",
        "colab_type": "code",
        "colab": {}
      },
      "cell_type": "code",
      "source": [
        "for i in range(0,len(Prediction_glove)):\n",
        "  y = Prediction_glove[i]\n",
        "  max = np.argmax(y)\n",
        "  min = np.argmin(y)\n",
        "  for x in range(0,2):\n",
        "    y[max]=1\n",
        "    y[min]=0\n",
        "    if y[x]!=0 and y[x]!=1:\n",
        "      y[x]=0"
      ],
      "execution_count": 0,
      "outputs": []
    },
    {
      "metadata": {
        "id": "9Z0VTOiveEYG",
        "colab_type": "code",
        "outputId": "0fcbf423-ea11-436f-b27e-2cb7a5a6e4b9",
        "colab": {
          "base_uri": "https://localhost:8080/",
          "height": 84
        }
      },
      "cell_type": "code",
      "source": [
        "cm = confusion_matrix(labels.argmax(axis=1), Prediction_glove.argmax(axis =1)) \n",
        "print('Confusion Matrix :')\n",
        "print(cm) "
      ],
      "execution_count": 0,
      "outputs": [
        {
          "output_type": "stream",
          "text": [
            "Confusion Matrix :\n",
            "[[ 56   4  98]\n",
            " [258  26 376]\n",
            " [415  14 402]]\n"
          ],
          "name": "stdout"
        }
      ]
    },
    {
      "metadata": {
        "id": "4rnJEcdceyZ9",
        "colab_type": "code",
        "outputId": "3a43a52d-d6e0-4af9-d74f-433ea8157e2e",
        "colab": {
          "base_uri": "https://localhost:8080/",
          "height": 378
        }
      },
      "cell_type": "code",
      "source": [
        "LABELS = ['negative', 'positive','neutral']\n",
        "a = sns.heatmap(cm, annot=True, xticklabels=LABELS, yticklabels=LABELS, fmt='g')\n",
        "a.set(xlabel='Predicted', ylabel='Actual')\n",
        "a.plot()\n",
        "# xl = plt.xlabel(\"Predicted\")\n",
        "\n",
        "# yl = plt.ylabel(\"Actual\")"
      ],
      "execution_count": 0,
      "outputs": [
        {
          "output_type": "execute_result",
          "data": {
            "text/plain": [
              "[]"
            ]
          },
          "metadata": {
            "tags": []
          },
          "execution_count": 88
        },
        {
          "output_type": "display_data",
          "data": {
            "image/png": "[encoded data removed]",
            "text/plain": [
              "<Figure size 576x396 with 2 Axes>"
            ]
          },
          "metadata": {
            "tags": []
          }
        }
      ]
    },
    {
      "metadata": {
        "id": "c9dfBBOq4ZSn",
        "colab_type": "text"
      },
      "cell_type": "markdown",
      "source": [
        "**Prediction for GE DATA**"
      ]
    },
    {
      "metadata": {
        "id": "6Z8OQ4FZ4RVN",
        "colab_type": "code",
        "colab": {}
      },
      "cell_type": "code",
      "source": [
        "ge = pd.read_json(\"/content/Team1_GE_EC(1).json\")"
      ],
      "execution_count": 0,
      "outputs": []
    },
    {
      "metadata": {
        "id": "NMF9M54-40mu",
        "colab_type": "code",
        "outputId": "730e4513-fe9b-48be-9c49-79efcbc87ee9",
        "colab": {
          "base_uri": "https://localhost:8080/",
          "height": 195
        }
      },
      "cell_type": "code",
      "source": [
        "ge.head()"
      ],
      "execution_count": 0,
      "outputs": [
        {
          "output_type": "execute_result",
          "data": {
            "text/html": [
              "<div>\n",
              "<style scoped>\n",
              "    .dataframe tbody tr th:only-of-type {\n",
              "        vertical-align: middle;\n",
              "    }\n",
              "\n",
              "    .dataframe tbody tr th {\n",
              "        vertical-align: top;\n",
              "    }\n",
              "\n",
              "    .dataframe thead th {\n",
              "        text-align: right;\n",
              "    }\n",
              "</style>\n",
              "<table border=\"1\" class=\"dataframe\">\n",
              "  <thead>\n",
              "    <tr style=\"text-align: right;\">\n",
              "      <th></th>\n",
              "      <th>sentiment</th>\n",
              "      <th>text</th>\n",
              "    </tr>\n",
              "  </thead>\n",
              "  <tbody>\n",
              "    <tr>\n",
              "      <th>1</th>\n",
              "      <td>neutral</td>\n",
              "      <td>Good day, ladies and gentlemen and welcome to ...</td>\n",
              "    </tr>\n",
              "    <tr>\n",
              "      <th>10</th>\n",
              "      <td>positive</td>\n",
              "      <td>For the industrial portfolio in total, we will...</td>\n",
              "    </tr>\n",
              "    <tr>\n",
              "      <th>100</th>\n",
              "      <td>positive</td>\n",
              "      <td>I think when you look at the vintages, we're e...</td>\n",
              "    </tr>\n",
              "    <tr>\n",
              "      <th>101</th>\n",
              "      <td>positive</td>\n",
              "      <td>As Jamie mentioned, we now take on all the cos...</td>\n",
              "    </tr>\n",
              "    <tr>\n",
              "      <th>102</th>\n",
              "      <td>neutral</td>\n",
              "      <td>The other color I would just add there on nega...</td>\n",
              "    </tr>\n",
              "  </tbody>\n",
              "</table>\n",
              "</div>"
            ],
            "text/plain": [
              "    sentiment                                               text\n",
              "1     neutral  Good day, ladies and gentlemen and welcome to ...\n",
              "10   positive  For the industrial portfolio in total, we will...\n",
              "100  positive  I think when you look at the vintages, we're e...\n",
              "101  positive  As Jamie mentioned, we now take on all the cos...\n",
              "102   neutral  The other color I would just add there on nega..."
            ]
          },
          "metadata": {
            "tags": []
          },
          "execution_count": 90
        }
      ]
    },
    {
      "metadata": {
        "id": "7MQE3cqP5A06",
        "colab_type": "code",
        "colab": {}
      },
      "cell_type": "code",
      "source": [
        "sent = {'positive': 1,'negative': 0,'neutral': 2} \n",
        "ge.sentiment = [sent[item] for item in ge.sentiment] "
      ],
      "execution_count": 0,
      "outputs": []
    },
    {
      "metadata": {
        "id": "lvcmtqaz5FfN",
        "colab_type": "code",
        "colab": {}
      },
      "cell_type": "code",
      "source": [
        "data_inputs1 =  ge[\"text\"].get_values()\n",
        "data_labels1 = ge.sentiment\n"
      ],
      "execution_count": 0,
      "outputs": []
    },
    {
      "metadata": {
        "id": "CqQIyKaP5rUq",
        "colab_type": "code",
        "outputId": "5ecf681a-3d9b-4a75-90df-3b7cd4ac139f",
        "colab": {
          "base_uri": "https://localhost:8080/",
          "height": 101
        }
      },
      "cell_type": "code",
      "source": [
        "tokenizer = Tokenizer(nb_words=10000)\n",
        "tokenizer.fit_on_texts(data_inputs1)\n",
        "sequences = tokenizer.texts_to_sequences(data_inputs1)\n",
        "\n",
        "word_index = tokenizer.word_index\n",
        "print('Found %s unique tokens.' % len(word_index))\n",
        "\n",
        "data = pad_sequences(sequences, maxlen=1000)\n",
        "\n",
        "labels = keras.utils.to_categorical(np.asarray(data_labels1))\n",
        "print('Shape of data tensor:', data.shape)\n",
        "print('Shape of label tensor:', labels.shape)\n"
      ],
      "execution_count": 0,
      "outputs": [
        {
          "output_type": "stream",
          "text": [
            "Found 1955 unique tokens.\n",
            "Shape of data tensor: (158, 1000)\n",
            "Shape of label tensor: (158, 3)\n"
          ],
          "name": "stdout"
        },
        {
          "output_type": "stream",
          "text": [
            "/usr/local/lib/python3.6/dist-packages/keras_preprocessing/text.py:178: UserWarning: The `nb_words` argument in `Tokenizer` has been renamed `num_words`.\n",
            "  warnings.warn('The `nb_words` argument in `Tokenizer` '\n"
          ],
          "name": "stderr"
        }
      ]
    },
    {
      "metadata": {
        "id": "tXABXVaZ6Fra",
        "colab_type": "code",
        "outputId": "55d1edeb-d4f2-4663-ed04-19b125abb470",
        "colab": {
          "base_uri": "https://localhost:8080/",
          "height": 67
        }
      },
      "cell_type": "code",
      "source": [
        "print('Test Evaluation with finance data')\n",
        "evaluation = model1.evaluate(data,labels, batch_size=64)\n",
        "print('Loss:', evaluation[0], 'Accuracy:', evaluation[1])"
      ],
      "execution_count": 0,
      "outputs": [
        {
          "output_type": "stream",
          "text": [
            "Test Evaluation with finance data\n",
            "158/158 [==============================] - 0s 563us/step\n",
            "Loss: 0.6575657242461096 Accuracy: 0.6666666865348816\n"
          ],
          "name": "stdout"
        }
      ]
    },
    {
      "metadata": {
        "id": "oJt8I4-H62Nw",
        "colab_type": "text"
      },
      "cell_type": "markdown",
      "source": [
        "**Prediction for GE data**"
      ]
    },
    {
      "metadata": {
        "id": "pcRmT6qH6Lo7",
        "colab_type": "code",
        "colab": {}
      },
      "cell_type": "code",
      "source": [
        "Prediction_glove = model1.predict(data)"
      ],
      "execution_count": 0,
      "outputs": []
    },
    {
      "metadata": {
        "id": "O3T0kTIX6Vue",
        "colab_type": "code",
        "colab": {}
      },
      "cell_type": "code",
      "source": [
        "for i in range(0,len(Prediction_glove)):\n",
        "  y = Prediction_glove[i]\n",
        "  max = np.argmax(y)\n",
        "  min = np.argmin(y)\n",
        "  for x in range(0,2):\n",
        "    y[max]=1\n",
        "    y[min]=0\n",
        "    if y[x]!=0 and y[x]!=1:\n",
        "      y[x]=0"
      ],
      "execution_count": 0,
      "outputs": []
    },
    {
      "metadata": {
        "id": "0qnzSrnZ6cMs",
        "colab_type": "code",
        "outputId": "a3f5f67b-44e1-4de3-ab35-6a37cd107b06",
        "colab": {
          "base_uri": "https://localhost:8080/",
          "height": 84
        }
      },
      "cell_type": "code",
      "source": [
        "cm = confusion_matrix(labels.argmax(axis=1), Prediction_glove.argmax(axis =1)) \n",
        "print('Confusion Matrix :')\n",
        "print(cm) "
      ],
      "execution_count": 0,
      "outputs": [
        {
          "output_type": "stream",
          "text": [
            "Confusion Matrix :\n",
            "[[ 5  0 11]\n",
            " [55  2 58]\n",
            " [ 7  1 19]]\n"
          ],
          "name": "stdout"
        }
      ]
    },
    {
      "metadata": {
        "id": "PpY_1yP-6l3h",
        "colab_type": "code",
        "outputId": "2b1b3595-f955-451a-f2c2-e83af1b8f7e8",
        "colab": {
          "base_uri": "https://localhost:8080/",
          "height": 378
        }
      },
      "cell_type": "code",
      "source": [
        "LABELS = ['negative', 'positive','neutral']\n",
        "a = sns.heatmap(cm, annot=True, xticklabels=LABELS, yticklabels=LABELS, fmt='g')\n",
        "a.set(xlabel='Predicted', ylabel='Actual')\n",
        "a.plot()\n",
        "# xl = plt.xlabel(\"Predicted\")\n",
        "\n",
        "# yl = plt.ylabel(\"Actual\")"
      ],
      "execution_count": 0,
      "outputs": [
        {
          "output_type": "execute_result",
          "data": {
            "text/plain": [
              "[]"
            ]
          },
          "metadata": {
            "tags": []
          },
          "execution_count": 98
        },
        {
          "output_type": "display_data",
          "data": {
            "image/png": "[encoded data removed]",
            "text/plain": [
              "<Figure size 576x396 with 2 Axes>"
            ]
          },
          "metadata": {
            "tags": []
          }
        }
      ]
    }
  ]
}