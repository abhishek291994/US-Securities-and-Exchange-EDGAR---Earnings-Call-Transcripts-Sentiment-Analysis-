{
  "nbformat": 4,
  "nbformat_minor": 0,
  "metadata": {
    "colab": {
      "name": "TPOT.ipynb",
      "version": "0.3.2",
      "provenance": [],
      "collapsed_sections": []
    },
    "kernelspec": {
      "display_name": "Python 3",
      "language": "python",
      "name": "python3"
    }
  },
  "cells": [
    {
      "metadata": {
        "id": "H-RL_U8pqRI_",
        "colab_type": "text"
      },
      "cell_type": "markdown",
      "source": [
        "**AUTOML: TPOT ON API SCORES DATA**"
      ]
    },
    {
      "metadata": {
        "id": "cQxR-4NAqEW-",
        "colab_type": "code",
        "colab": {},
        "outputId": "8be16d16-d0d4-46ab-c44d-c50172a898f1"
      },
      "cell_type": "code",
      "source": [
        "!pip install tpot"
      ],
      "execution_count": 0,
      "outputs": [
        {
          "output_type": "stream",
          "text": [
            "Collecting tpot\n",
            "  Downloading https://files.pythonhosted.org/packages/95/35/a6cc358b6bb2749d6dffa1ae2427143211f3092904bbb15d1ad317ebe051/TPOT-0.9.6.tar.gz (892kB)\n",
            "Requirement already satisfied: numpy>=1.12.1 in c:\\users\\bhash\\anaconda3\\lib\\site-packages (from tpot) (1.15.4)\n",
            "Requirement already satisfied: scipy>=0.19.0 in c:\\users\\bhash\\anaconda3\\lib\\site-packages (from tpot) (1.1.0)\n",
            "Collecting scikit-learn>=0.18.1 (from tpot)\n",
            "  Downloading https://files.pythonhosted.org/packages/e7/e4/56757c30853899077cf042f78fb981c0b60f7af4e7a54ca18328b80e0bff/scikit_learn-0.20.3-cp36-cp36m-win_amd64.whl (4.8MB)\n",
            "Collecting deap>=1.0 (from tpot)\n",
            "  Downloading https://files.pythonhosted.org/packages/af/29/e7f2ecbe02997b16a768baed076f5fc4781d7057cd5d9adf7c94027845ba/deap-1.2.2.tar.gz (936kB)\n",
            "Collecting update_checker>=0.16 (from tpot)\n",
            "  Downloading https://files.pythonhosted.org/packages/17/c9/ab11855af164d03be0ff4fddd4c46a5bd44799a9ecc1770e01a669c21168/update_checker-0.16-py2.py3-none-any.whl\n",
            "Requirement already satisfied: tqdm>=4.26.0 in c:\\users\\bhash\\anaconda3\\lib\\site-packages (from tpot) (4.29.1)\n",
            "Collecting stopit>=1.1.1 (from tpot)\n",
            "  Downloading https://files.pythonhosted.org/packages/35/58/e8bb0b0fb05baf07bbac1450c447d753da65f9701f551dca79823ce15d50/stopit-1.1.2.tar.gz\n",
            "Requirement already satisfied: pandas>=0.20.2 in c:\\users\\bhash\\anaconda3\\lib\\site-packages (from tpot) (0.24.1)\n",
            "Requirement already satisfied: requests>=2.3.0 in c:\\users\\bhash\\anaconda3\\lib\\site-packages (from update_checker>=0.16->tpot) (2.21.0)\n",
            "Requirement already satisfied: pytz>=2011k in c:\\users\\bhash\\anaconda3\\lib\\site-packages (from pandas>=0.20.2->tpot) (2018.9)\n",
            "Requirement already satisfied: python-dateutil>=2.5.0 in c:\\users\\bhash\\anaconda3\\lib\\site-packages (from pandas>=0.20.2->tpot) (2.7.5)\n",
            "Requirement already satisfied: chardet<3.1.0,>=3.0.2 in c:\\users\\bhash\\anaconda3\\lib\\site-packages (from requests>=2.3.0->update_checker>=0.16->tpot) (3.0.4)\n",
            "Requirement already satisfied: idna<2.9,>=2.5 in c:\\users\\bhash\\anaconda3\\lib\\site-packages (from requests>=2.3.0->update_checker>=0.16->tpot) (2.8)\n",
            "Requirement already satisfied: certifi>=2017.4.17 in c:\\users\\bhash\\anaconda3\\lib\\site-packages (from requests>=2.3.0->update_checker>=0.16->tpot) (2018.11.29)\n",
            "Requirement already satisfied: urllib3<1.25,>=1.21.1 in c:\\users\\bhash\\anaconda3\\lib\\site-packages (from requests>=2.3.0->update_checker>=0.16->tpot) (1.24.1)\n",
            "Requirement already satisfied: six>=1.5 in c:\\users\\bhash\\anaconda3\\lib\\site-packages (from python-dateutil>=2.5.0->pandas>=0.20.2->tpot) (1.12.0)\n",
            "Building wheels for collected packages: tpot, deap, stopit\n",
            "  Building wheel for tpot (setup.py): started\n",
            "  Building wheel for tpot (setup.py): finished with status 'done'\n",
            "  Stored in directory: C:\\Users\\bhash\\AppData\\Local\\pip\\Cache\\wheels\\86\\5c\\dd\\c7673fbaccb901ec1a4eb79017fa5b65766805d2a98f954b9a\n",
            "  Building wheel for deap (setup.py): started\n",
            "  Building wheel for deap (setup.py): finished with status 'done'\n",
            "  Stored in directory: C:\\Users\\bhash\\AppData\\Local\\pip\\Cache\\wheels\\22\\ea\\bf\\dc7c8a2262025a0ab5da9ef02282c198be88902791ca0c6658\n",
            "  Building wheel for stopit (setup.py): started\n",
            "  Building wheel for stopit (setup.py): finished with status 'done'\n",
            "  Stored in directory: C:\\Users\\bhash\\AppData\\Local\\pip\\Cache\\wheels\\3c\\85\\2b\\2580190404636bfc63e8de3dff629c03bb795021e1983a6cc7\n",
            "Successfully built tpot deap stopit\n",
            "Installing collected packages: scikit-learn, deap, update-checker, stopit, tpot\n",
            "Successfully installed deap-1.2.2 scikit-learn-0.20.3 stopit-1.1.2 tpot-0.9.6 update-checker-0.16\n"
          ],
          "name": "stdout"
        },
        {
          "output_type": "stream",
          "text": [
            "You are using pip version 19.0.2, however version 19.0.3 is available.\n",
            "You should consider upgrading via the 'python -m pip install --upgrade pip' command.\n"
          ],
          "name": "stderr"
        }
      ]
    },
    {
      "metadata": {
        "id": "Mnjjtq88qEXC",
        "colab_type": "text"
      },
      "cell_type": "markdown",
      "source": [
        "TPOT is built on scikit-learn uses genetic programming to get the best parameters for the model"
      ]
    },
    {
      "metadata": {
        "id": "KD5AJDVnqEXE",
        "colab_type": "code",
        "colab": {}
      },
      "cell_type": "code",
      "source": [
        "# Importing libraries \n",
        "from tpot import TPOTClassifier\n",
        "\n",
        "from sklearn.model_selection import train_test_split"
      ],
      "execution_count": 0,
      "outputs": []
    },
    {
      "metadata": {
        "id": "vtnMi5ASqEXG",
        "colab_type": "code",
        "colab": {}
      },
      "cell_type": "code",
      "source": [
        "import numpy as np\n",
        "import time\n",
        "tpot_data = pd.read_csv('C:/Users/bhash/Downloads/API_Scores.csv', dtype=np.float64)\n"
      ],
      "execution_count": 0,
      "outputs": []
    },
    {
      "metadata": {
        "id": "fmn0HxKkqEXN",
        "colab_type": "code",
        "colab": {}
      },
      "cell_type": "code",
      "source": [
        "data,labels = np.split(tpot_data, [4], axis=1)\n",
        "#print(data)\n",
        "#print(labels)\n",
        "\n",
        "x_train, x_test, y_train, y_test = train_test_split(data,labels, test_size=0.20)"
      ],
      "execution_count": 0,
      "outputs": []
    },
    {
      "metadata": {
        "id": "jFN1SZHdqEXQ",
        "colab_type": "text"
      },
      "cell_type": "markdown",
      "source": [
        "generation is the number of iterations for pipeline optimization process default is 100.\n"
      ]
    },
    {
      "metadata": {
        "id": "aLNxbtFiqEXR",
        "colab_type": "code",
        "colab": {},
        "outputId": "608aee17-d463-4f07-cdb5-0c8e51be5530"
      },
      "cell_type": "code",
      "source": [
        "start_time = time.time()\n",
        "tpot = TPOTClassifier(generations=10, verbosity=2)\n",
        "tpot.fit(x_train, y_train)\n",
        "end_time = time.time()\n",
        "\n",
        "# Results\n",
        "print('TPOT classifier finished in %s seconds' % (end_time - start_time)) \n",
        "print('Best pipeline test accuracy: %.3f' % tpot.score(x_test, y_test))"
      ],
      "execution_count": 0,
      "outputs": [
        {
          "output_type": "stream",
          "text": [
            "Warning: xgboost.XGBClassifier is not available and will not be used by TPOT.\n",
            "Imputing missing values in feature set\n"
          ],
          "name": "stdout"
        },
        {
          "output_type": "stream",
          "text": [
            "C:\\Users\\bhash\\Anaconda3\\lib\\site-packages\\sklearn\\utils\\deprecation.py:58: DeprecationWarning: Class Imputer is deprecated; Imputer was deprecated in version 0.20 and will be removed in 0.22. Import impute.SimpleImputer from sklearn instead.\n",
            "  warnings.warn(msg, category=DeprecationWarning)\n",
            "C:\\Users\\bhash\\Anaconda3\\lib\\site-packages\\sklearn\\utils\\validation.py:761: DataConversionWarning: A column-vector y was passed when a 1d array was expected. Please change the shape of y to (n_samples, ), for example using ravel().\n",
            "  y = column_or_1d(y, warn=True)\n"
          ],
          "name": "stderr"
        },
        {
          "output_type": "display_data",
          "data": {
            "application/vnd.jupyter.widget-view+json": {
              "model_id": "",
              "version_major": 2,
              "version_minor": 0
            },
            "text/plain": [
              "HBox(children=(IntProgress(value=0, description='Optimization Progress', max=1100, style=ProgressStyle(descrip…"
            ]
          },
          "metadata": {
            "tags": []
          }
        },
        {
          "output_type": "stream",
          "text": [
            "Generation 1 - Current best internal CV score: 0.6151339998871856\n",
            "Generation 2 - Current best internal CV score: 0.6151339998871856\n",
            "Generation 3 - Current best internal CV score: 0.6181729881944722\n",
            "Generation 4 - Current best internal CV score: 0.6181729881944722\n",
            "Generation 5 - Current best internal CV score: 0.6181729881944722\n",
            "Generation 6 - Current best internal CV score: 0.6211890193312299\n",
            "Generation 7 - Current best internal CV score: 0.6211890193312299\n",
            "Generation 8 - Current best internal CV score: 0.6211890193312299\n",
            "Generation 9 - Current best internal CV score: 0.6211890193312299\n",
            "Generation 10 - Current best internal CV score: 0.6219264527173743\n",
            "\n",
            "Best pipeline: ExtraTreesClassifier(MaxAbsScaler(LinearSVC(input_matrix, C=0.1, dual=True, loss=squared_hinge, penalty=l2, tol=0.0001)), bootstrap=True, criterion=gini, max_features=1.0, min_samples_leaf=8, min_samples_split=17, n_estimators=100)\n",
            "TPOT classifier finished in 982.0241048336029 seconds\n"
          ],
          "name": "stdout"
        },
        {
          "output_type": "stream",
          "text": [
            "C:\\Users\\bhash\\Anaconda3\\lib\\site-packages\\sklearn\\utils\\validation.py:761: DataConversionWarning: A column-vector y was passed when a 1d array was expected. Please change the shape of y to (n_samples, ), for example using ravel().\n",
            "  y = column_or_1d(y, warn=True)\n"
          ],
          "name": "stderr"
        },
        {
          "output_type": "stream",
          "text": [
            "Best pipeline test accuracy: 0.585\n"
          ],
          "name": "stdout"
        }
      ]
    },
    {
      "metadata": {
        "id": "mk1cZkvmqEXV",
        "colab_type": "code",
        "colab": {},
        "outputId": "5532c89e-ea45-4906-8e1a-74439aa7e498"
      },
      "cell_type": "code",
      "source": [
        "start_time = time.time()\n",
        "tpot = TPOTClassifier(generations=20, verbosity=2)\n",
        "tpot.fit(x_train, y_train)\n",
        "end_time = time.time()\n",
        "\n",
        "# Results\n",
        "print('TPOT classifier finished in %s seconds' % (end_time - start_time)) \n",
        "print('Best pipeline test accuracy: %.3f' % tpot.score(x_test, y_test))"
      ],
      "execution_count": 0,
      "outputs": [
        {
          "output_type": "stream",
          "text": [
            "Warning: xgboost.XGBClassifier is not available and will not be used by TPOT.\n",
            "Imputing missing values in feature set\n"
          ],
          "name": "stdout"
        },
        {
          "output_type": "stream",
          "text": [
            "C:\\Users\\bhash\\Anaconda3\\lib\\site-packages\\sklearn\\utils\\deprecation.py:58: DeprecationWarning: Class Imputer is deprecated; Imputer was deprecated in version 0.20 and will be removed in 0.22. Import impute.SimpleImputer from sklearn instead.\n",
            "  warnings.warn(msg, category=DeprecationWarning)\n",
            "C:\\Users\\bhash\\Anaconda3\\lib\\site-packages\\sklearn\\utils\\validation.py:761: DataConversionWarning: A column-vector y was passed when a 1d array was expected. Please change the shape of y to (n_samples, ), for example using ravel().\n",
            "  y = column_or_1d(y, warn=True)\n"
          ],
          "name": "stderr"
        },
        {
          "output_type": "display_data",
          "data": {
            "application/vnd.jupyter.widget-view+json": {
              "model_id": "",
              "version_major": 2,
              "version_minor": 0
            },
            "text/plain": [
              "HBox(children=(IntProgress(value=0, description='Optimization Progress', max=2100, style=ProgressStyle(descrip…"
            ]
          },
          "metadata": {
            "tags": []
          }
        },
        {
          "output_type": "stream",
          "text": [
            "Generation 1 - Current best internal CV score: 0.6098568517460757\n",
            "Generation 2 - Current best internal CV score: 0.6143649675330187\n",
            "Generation 3 - Current best internal CV score: 0.6143649675330187\n",
            "Generation 4 - Current best internal CV score: 0.6181356499338174\n",
            "Generation 5 - Current best internal CV score: 0.6181356499338174\n",
            "Generation 6 - Current best internal CV score: 0.6181356499338174\n",
            "Generation 7 - Current best internal CV score: 0.6181356499338174\n",
            "Generation 8 - Current best internal CV score: 0.6181356499338174\n",
            "Generation 9 - Current best internal CV score: 0.6181356499338174\n",
            "Generation 10 - Current best internal CV score: 0.6181356499338174\n",
            "Generation 11 - Current best internal CV score: 0.6181356499338174\n",
            "Generation 12 - Current best internal CV score: 0.6181356499338174\n",
            "Generation 13 - Current best internal CV score: 0.6181356499338174\n",
            "Generation 14 - Current best internal CV score: 0.6181356499338174\n",
            "Generation 15 - Current best internal CV score: 0.6181356499338174\n",
            "Generation 16 - Current best internal CV score: 0.6181356499338174\n",
            "Generation 17 - Current best internal CV score: 0.6189364126901893\n",
            "Generation 18 - Current best internal CV score: 0.6189364126901893\n",
            "Generation 19 - Current best internal CV score: 0.6189364126901893\n",
            "Generation 20 - Current best internal CV score: 0.6189364126901893\n",
            "\n",
            "Best pipeline: RandomForestClassifier(ZeroCount(BernoulliNB(input_matrix, alpha=100.0, fit_prior=True)), bootstrap=True, criterion=entropy, max_features=0.8, min_samples_leaf=19, min_samples_split=15, n_estimators=100)\n",
            "TPOT classifier finished in 4032.752257823944 seconds\n"
          ],
          "name": "stdout"
        },
        {
          "output_type": "stream",
          "text": [
            "C:\\Users\\bhash\\Anaconda3\\lib\\site-packages\\sklearn\\utils\\validation.py:761: DataConversionWarning: A column-vector y was passed when a 1d array was expected. Please change the shape of y to (n_samples, ), for example using ravel().\n",
            "  y = column_or_1d(y, warn=True)\n"
          ],
          "name": "stderr"
        },
        {
          "output_type": "stream",
          "text": [
            "Best pipeline test accuracy: 0.603\n"
          ],
          "name": "stdout"
        }
      ]
    },
    {
      "metadata": {
        "id": "oszx08EGqEXe",
        "colab_type": "code",
        "colab": {},
        "outputId": "437adc09-759f-41aa-db6d-f25a8ad5a1ed"
      },
      "cell_type": "code",
      "source": [
        "tpot = TPOTClassifier(generations=25, population_size=50, verbosity=2)\n",
        "tpot.fit(x_train, y_train.values.ravel())\n",
        "print(\"Accuracy is {}%\".format(tpot.score(x_test, y_test)*100))"
      ],
      "execution_count": 0,
      "outputs": [
        {
          "output_type": "stream",
          "text": [
            "Warning: xgboost.XGBClassifier is not available and will not be used by TPOT.\n",
            "Imputing missing values in feature set\n"
          ],
          "name": "stdout"
        },
        {
          "output_type": "stream",
          "text": [
            "C:\\Users\\bhash\\Anaconda3\\lib\\site-packages\\sklearn\\utils\\deprecation.py:58: DeprecationWarning: Class Imputer is deprecated; Imputer was deprecated in version 0.20 and will be removed in 0.22. Import impute.SimpleImputer from sklearn instead.\n",
            "  warnings.warn(msg, category=DeprecationWarning)\n"
          ],
          "name": "stderr"
        },
        {
          "output_type": "display_data",
          "data": {
            "application/vnd.jupyter.widget-view+json": {
              "model_id": "",
              "version_major": 2,
              "version_minor": 0
            },
            "text/plain": [
              "HBox(children=(IntProgress(value=0, description='Optimization Progress', max=1300, style=ProgressStyle(descrip…"
            ]
          },
          "metadata": {
            "tags": []
          }
        },
        {
          "output_type": "stream",
          "text": [
            "Generation 1 - Current best internal CV score: 0.6151426416846796\n",
            "Generation 2 - Current best internal CV score: 0.6151426416846796\n",
            "Generation 3 - Current best internal CV score: 0.6174183369304314\n",
            "Generation 4 - Current best internal CV score: 0.6174183369304314\n",
            "Generation 5 - Current best internal CV score: 0.6174183369304314\n",
            "Generation 6 - Current best internal CV score: 0.6174183369304314\n",
            "Generation 7 - Current best internal CV score: 0.6174211080011106\n",
            "Generation 8 - Current best internal CV score: 0.6174211080011106\n",
            "Generation 9 - Current best internal CV score: 0.6174211080011106\n",
            "Generation 10 - Current best internal CV score: 0.6174211737182017\n",
            "Generation 11 - Current best internal CV score: 0.6174211737182017\n",
            "Generation 12 - Current best internal CV score: 0.6174211737182017\n",
            "Generation 13 - Current best internal CV score: 0.617426913010834\n",
            "Generation 14 - Current best internal CV score: 0.6181557045994845\n",
            "Generation 15 - Current best internal CV score: 0.6181557045994845\n",
            "Generation 16 - Current best internal CV score: 0.6196852589445068\n",
            "Generation 17 - Current best internal CV score: 0.6196852589445068\n",
            "Generation 18 - Current best internal CV score: 0.6196852589445068\n",
            "Generation 19 - Current best internal CV score: 0.6196852589445068\n",
            "Generation 20 - Current best internal CV score: 0.6196852589445068\n",
            "Generation 21 - Current best internal CV score: 0.6196852589445068\n",
            "Generation 22 - Current best internal CV score: 0.6196852589445068\n",
            "Generation 23 - Current best internal CV score: 0.6196852589445068\n",
            "Generation 24 - Current best internal CV score: 0.6196852589445068\n",
            "Generation 25 - Current best internal CV score: 0.6196852589445068\n",
            "\n",
            "Best pipeline: ExtraTreesClassifier(MaxAbsScaler(input_matrix), bootstrap=False, criterion=entropy, max_features=0.7500000000000001, min_samples_leaf=19, min_samples_split=14, n_estimators=100)\n"
          ],
          "name": "stdout"
        },
        {
          "output_type": "stream",
          "text": [
            "C:\\Users\\bhash\\Anaconda3\\lib\\site-packages\\sklearn\\utils\\validation.py:761: DataConversionWarning: A column-vector y was passed when a 1d array was expected. Please change the shape of y to (n_samples, ), for example using ravel().\n",
            "  y = column_or_1d(y, warn=True)\n"
          ],
          "name": "stderr"
        },
        {
          "output_type": "stream",
          "text": [
            "Accuracy is 61.81818181818181%\n"
          ],
          "name": "stdout"
        }
      ]
    },
    {
      "metadata": {
        "id": "f-dxxdBvqEXj",
        "colab_type": "code",
        "colab": {},
        "outputId": "9c08fa04-f830-41f4-c8bb-1d130e44cc2b"
      },
      "cell_type": "code",
      "source": [
        "tpot = TPOTClassifier(generations=100, population_size=20, verbosity=2)\n",
        "tpot.fit(x_train, y_train.values.ravel())\n",
        "print(\"Accuracy is {}%\".format(tpot.score(x_test, y_test)*100))"
      ],
      "execution_count": 0,
      "outputs": [
        {
          "output_type": "stream",
          "text": [
            "Warning: xgboost.XGBClassifier is not available and will not be used by TPOT.\n",
            "Imputing missing values in feature set\n"
          ],
          "name": "stdout"
        },
        {
          "output_type": "stream",
          "text": [
            "C:\\Users\\bhash\\Anaconda3\\lib\\site-packages\\sklearn\\utils\\deprecation.py:58: DeprecationWarning: Class Imputer is deprecated; Imputer was deprecated in version 0.20 and will be removed in 0.22. Import impute.SimpleImputer from sklearn instead.\n",
            "  warnings.warn(msg, category=DeprecationWarning)\n"
          ],
          "name": "stderr"
        },
        {
          "output_type": "display_data",
          "data": {
            "application/vnd.jupyter.widget-view+json": {
              "model_id": "",
              "version_major": 2,
              "version_minor": 0
            },
            "text/plain": [
              "HBox(children=(IntProgress(value=0, description='Optimization Progress', max=2020, style=ProgressStyle(descrip…"
            ]
          },
          "metadata": {
            "tags": []
          }
        },
        {
          "output_type": "stream",
          "text": [
            "Generation 1 - Current best internal CV score: 0.6135814226545432\n",
            "Generation 2 - Current best internal CV score: 0.6135814226545432\n",
            "Generation 3 - Current best internal CV score: 0.6135814226545432\n",
            "Generation 4 - Current best internal CV score: 0.6135814226545432\n",
            "Generation 5 - Current best internal CV score: 0.6143821196938241\n",
            "Generation 6 - Current best internal CV score: 0.6151512834821734\n",
            "Generation 7 - Current best internal CV score: 0.6167210785927123\n",
            "Generation 8 - Current best internal CV score: 0.6167210785927123\n",
            "Generation 9 - Current best internal CV score: 0.6167210785927123\n",
            "Generation 10 - Current best internal CV score: 0.6167210785927123\n",
            "Generation 11 - Current best internal CV score: 0.6182305125549765\n",
            "Generation 12 - Current best internal CV score: 0.6182305125549765\n",
            "Generation 13 - Current best internal CV score: 0.6182305125549765\n",
            "Generation 14 - Current best internal CV score: 0.6182305125549765\n",
            "Generation 15 - Current best internal CV score: 0.6182305125549765\n",
            "Generation 16 - Current best internal CV score: 0.6182305125549765\n",
            "Generation 17 - Current best internal CV score: 0.6182305125549765\n",
            "Generation 18 - Current best internal CV score: 0.6182305125549765\n",
            "Generation 19 - Current best internal CV score: 0.6182305125549765\n",
            "Generation 20 - Current best internal CV score: 0.6182305125549765\n",
            "Generation 21 - Current best internal CV score: 0.6182305125549765\n",
            "Generation 22 - Current best internal CV score: 0.6182305125549765\n",
            "Generation 23 - Current best internal CV score: 0.6182305125549765\n",
            "Generation 24 - Current best internal CV score: 0.6182305125549765\n",
            "Generation 25 - Current best internal CV score: 0.6182305125549765\n",
            "Generation 26 - Current best internal CV score: 0.6182305125549765\n",
            "Generation 27 - Current best internal CV score: 0.6182305125549765\n",
            "Generation 28 - Current best internal CV score: 0.6182305125549765\n",
            "Generation 29 - Current best internal CV score: 0.6182305125549765\n",
            "Generation 30 - Current best internal CV score: 0.6182305125549765\n",
            "Generation 31 - Current best internal CV score: 0.6182305125549765\n",
            "Generation 32 - Current best internal CV score: 0.6182305125549765\n",
            "Generation 33 - Current best internal CV score: 0.6182305125549765\n",
            "Generation 34 - Current best internal CV score: 0.6182305125549765\n",
            "Generation 35 - Current best internal CV score: 0.6182305125549765\n",
            "Generation 36 - Current best internal CV score: 0.6182305125549765\n",
            "Generation 37 - Current best internal CV score: 0.6182305125549765\n",
            "Generation 38 - Current best internal CV score: 0.6182305125549765\n",
            "Generation 39 - Current best internal CV score: 0.6182305125549765\n",
            "Generation 40 - Current best internal CV score: 0.6182305125549765\n",
            "Generation 41 - Current best internal CV score: 0.6182305125549765\n",
            "Generation 42 - Current best internal CV score: 0.6182305125549765\n",
            "Generation 43 - Current best internal CV score: 0.6182305125549765\n",
            "Generation 44 - Current best internal CV score: 0.6182305125549765\n",
            "Generation 45 - Current best internal CV score: 0.6182305125549765\n",
            "Generation 46 - Current best internal CV score: 0.6182305125549765\n",
            "Generation 47 - Current best internal CV score: 0.6182305125549765\n",
            "Generation 48 - Current best internal CV score: 0.6182305125549765\n",
            "Generation 49 - Current best internal CV score: 0.6182305125549765\n",
            "Generation 50 - Current best internal CV score: 0.6182305125549765\n",
            "Generation 51 - Current best internal CV score: 0.6182305125549765\n",
            "Generation 52 - Current best internal CV score: 0.6182305125549765\n",
            "Generation 53 - Current best internal CV score: 0.6182305125549765\n",
            "Generation 54 - Current best internal CV score: 0.6182305125549765\n",
            "Generation 55 - Current best internal CV score: 0.6182305125549765\n",
            "Generation 56 - Current best internal CV score: 0.6182305125549765\n",
            "Generation 57 - Current best internal CV score: 0.6182305125549765\n",
            "Generation 58 - Current best internal CV score: 0.6182305125549765\n",
            "Generation 59 - Current best internal CV score: 0.6197399465172406\n",
            "Generation 60 - Current best internal CV score: 0.6197399465172406\n",
            "Generation 61 - Current best internal CV score: 0.6197399465172406\n",
            "Generation 62 - Current best internal CV score: 0.6197399465172406\n",
            "Generation 63 - Current best internal CV score: 0.6197399465172406\n",
            "Generation 64 - Current best internal CV score: 0.6197399465172406\n",
            "Generation 65 - Current best internal CV score: 0.6197399465172406\n",
            "Generation 66 - Current best internal CV score: 0.6197399465172406\n",
            "Generation 67 - Current best internal CV score: 0.6197399465172406\n",
            "Generation 68 - Current best internal CV score: 0.6197399465172406\n",
            "Generation 69 - Current best internal CV score: 0.6197399465172406\n",
            "Generation 70 - Current best internal CV score: 0.6197399465172406\n",
            "Generation 71 - Current best internal CV score: 0.6197399465172406\n",
            "Generation 72 - Current best internal CV score: 0.6197399465172406\n",
            "Generation 73 - Current best internal CV score: 0.6197399465172406\n",
            "Generation 74 - Current best internal CV score: 0.6197399465172406\n",
            "Generation 75 - Current best internal CV score: 0.6197399465172406\n",
            "Generation 76 - Current best internal CV score: 0.6197399465172406\n",
            "Generation 77 - Current best internal CV score: 0.6197399465172406\n",
            "Generation 78 - Current best internal CV score: 0.6197399465172406\n",
            "Generation 79 - Current best internal CV score: 0.6197399465172406\n",
            "Generation 80 - Current best internal CV score: 0.6197399465172406\n",
            "Generation 81 - Current best internal CV score: 0.6197399465172406\n",
            "Generation 82 - Current best internal CV score: 0.6197399465172406\n",
            "Generation 83 - Current best internal CV score: 0.6197399465172406\n",
            "Generation 84 - Current best internal CV score: 0.6197399465172406\n",
            "Generation 85 - Current best internal CV score: 0.6197399465172406\n",
            "Generation 86 - Current best internal CV score: 0.6197399465172406\n",
            "Generation 87 - Current best internal CV score: 0.6197399465172406\n",
            "Generation 88 - Current best internal CV score: 0.6197399465172406\n",
            "Generation 89 - Current best internal CV score: 0.6197399465172406\n",
            "Generation 90 - Current best internal CV score: 0.6197399465172406\n",
            "Generation 91 - Current best internal CV score: 0.6197399465172406\n",
            "Generation 92 - Current best internal CV score: 0.6197399465172406\n",
            "Generation 93 - Current best internal CV score: 0.6197399465172406\n",
            "Generation 94 - Current best internal CV score: 0.6197399465172406\n",
            "Generation 95 - Current best internal CV score: 0.6197399465172406\n",
            "Generation 96 - Current best internal CV score: 0.6197399465172406\n",
            "Generation 97 - Current best internal CV score: 0.6197399465172406\n",
            "Generation 98 - Current best internal CV score: 0.6197399465172406\n",
            "Generation 99 - Current best internal CV score: 0.6197399465172406\n",
            "Generation 100 - Current best internal CV score: 0.6197399465172406\n",
            "\n",
            "Best pipeline: ExtraTreesClassifier(RFE(CombineDFs(PolynomialFeatures(input_matrix, degree=2, include_bias=False, interaction_only=False), BernoulliNB(GaussianNB(input_matrix), alpha=0.001, fit_prior=True)), criterion=entropy, max_features=0.7000000000000001, n_estimators=100, step=0.6000000000000001), bootstrap=False, criterion=entropy, max_features=1.0, min_samples_leaf=14, min_samples_split=17, n_estimators=100)\n"
          ],
          "name": "stdout"
        },
        {
          "output_type": "stream",
          "text": [
            "C:\\Users\\bhash\\Anaconda3\\lib\\site-packages\\sklearn\\utils\\validation.py:761: DataConversionWarning: A column-vector y was passed when a 1d array was expected. Please change the shape of y to (n_samples, ), for example using ravel().\n",
            "  y = column_or_1d(y, warn=True)\n"
          ],
          "name": "stderr"
        },
        {
          "output_type": "stream",
          "text": [
            "Accuracy is 63.33333333333333%\n"
          ],
          "name": "stdout"
        }
      ]
    },
    {
      "metadata": {
        "id": "53NEDEdfqEXn",
        "colab_type": "code",
        "colab": {},
        "outputId": "8dcbe4d9-1bda-47bc-e099-a6b628449792"
      },
      "cell_type": "code",
      "source": [
        "tpot = TPOTClassifier(generations=150, population_size=5, verbosity=2)\n",
        "tpot.fit(x_train, y_train.values.ravel())\n",
        "print(\"Accuracy is {}%\".format(tpot.score(x_test, y_test)*100))"
      ],
      "execution_count": 0,
      "outputs": [
        {
          "output_type": "stream",
          "text": [
            "Warning: xgboost.XGBClassifier is not available and will not be used by TPOT.\n",
            "Imputing missing values in feature set\n"
          ],
          "name": "stdout"
        },
        {
          "output_type": "stream",
          "text": [
            "C:\\Users\\bhash\\Anaconda3\\lib\\site-packages\\sklearn\\utils\\deprecation.py:58: DeprecationWarning: Class Imputer is deprecated; Imputer was deprecated in version 0.20 and will be removed in 0.22. Import impute.SimpleImputer from sklearn instead.\n",
            "  warnings.warn(msg, category=DeprecationWarning)\n"
          ],
          "name": "stderr"
        },
        {
          "output_type": "display_data",
          "data": {
            "application/vnd.jupyter.widget-view+json": {
              "model_id": "",
              "version_major": 2,
              "version_minor": 0
            },
            "text/plain": [
              "HBox(children=(IntProgress(value=0, description='Optimization Progress', max=755, style=ProgressStyle(descript…"
            ]
          },
          "metadata": {
            "tags": []
          }
        },
        {
          "output_type": "stream",
          "text": [
            "Generation 1 - Current best internal CV score: 0.5697330955104822\n",
            "Generation 2 - Current best internal CV score: 0.5697330955104822\n",
            "Generation 3 - Current best internal CV score: 0.5985130084243834\n",
            "Generation 4 - Current best internal CV score: 0.5985130084243834\n",
            "Generation 5 - Current best internal CV score: 0.5985130084243834\n",
            "Generation 6 - Current best internal CV score: 0.5992216796302756\n",
            "Generation 7 - Current best internal CV score: 0.607535110725084\n",
            "Generation 8 - Current best internal CV score: 0.607535110725084\n",
            "Generation 9 - Current best internal CV score: 0.6083185898864683\n",
            "Generation 10 - Current best internal CV score: 0.6098336974242734\n",
            "Generation 11 - Current best internal CV score: 0.6098336974242734\n",
            "Generation 12 - Current best internal CV score: 0.613636110227277\n",
            "Generation 13 - Current best internal CV score: 0.613636110227277\n",
            "Generation 14 - Current best internal CV score: 0.613636110227277\n",
            "Generation 15 - Current best internal CV score: 0.6150937591216692\n",
            "Generation 16 - Current best internal CV score: 0.6166780010394254\n",
            "Generation 17 - Current best internal CV score: 0.6166780010394254\n",
            "Generation 18 - Current best internal CV score: 0.6166780010394254\n",
            "Generation 19 - Current best internal CV score: 0.6166780010394254\n",
            "Generation 20 - Current best internal CV score: 0.6166780010394254\n",
            "Generation 21 - Current best internal CV score: 0.6166780010394254\n",
            "Generation 22 - Current best internal CV score: 0.6166780010394254\n",
            "Generation 23 - Current best internal CV score: 0.6166780010394254\n",
            "Generation 24 - Current best internal CV score: 0.6166780010394254\n",
            "Generation 25 - Current best internal CV score: 0.6166780010394254\n",
            "Generation 26 - Current best internal CV score: 0.6166780010394254\n",
            "Generation 27 - Current best internal CV score: 0.6166780010394254\n",
            "Generation 28 - Current best internal CV score: 0.6166780010394254\n",
            "Generation 29 - Current best internal CV score: 0.6166780010394254\n",
            "Generation 30 - Current best internal CV score: 0.6166780010394254\n",
            "Generation 31 - Current best internal CV score: 0.6166780010394254\n",
            "Generation 32 - Current best internal CV score: 0.6166780010394254\n",
            "Generation 33 - Current best internal CV score: 0.6166780010394254\n",
            "Generation 34 - Current best internal CV score: 0.6166780010394254\n",
            "Generation 35 - Current best internal CV score: 0.6166780010394254\n",
            "Generation 36 - Current best internal CV score: 0.6166780010394254\n",
            "Generation 37 - Current best internal CV score: 0.6166780010394254\n",
            "Generation 38 - Current best internal CV score: 0.6166780010394254\n",
            "Generation 39 - Current best internal CV score: 0.6166780010394254\n",
            "Generation 40 - Current best internal CV score: 0.6166780010394254\n",
            "Generation 41 - Current best internal CV score: 0.6166780010394254\n",
            "Generation 42 - Current best internal CV score: 0.6166780010394254\n",
            "Generation 43 - Current best internal CV score: 0.6166780010394254\n",
            "Generation 44 - Current best internal CV score: 0.6166780010394254\n",
            "Generation 45 - Current best internal CV score: 0.6166780010394254\n",
            "Generation 46 - Current best internal CV score: 0.6166780010394254\n",
            "Generation 47 - Current best internal CV score: 0.6166780010394254\n",
            "Generation 48 - Current best internal CV score: 0.6166780010394254\n",
            "Generation 49 - Current best internal CV score: 0.6166780010394254\n",
            "Generation 50 - Current best internal CV score: 0.6166780010394254\n",
            "Generation 51 - Current best internal CV score: 0.6166780010394254\n",
            "Generation 52 - Current best internal CV score: 0.6166780010394254\n",
            "Generation 53 - Current best internal CV score: 0.6166780010394254\n",
            "Generation 54 - Current best internal CV score: 0.6166780010394254\n",
            "Generation 55 - Current best internal CV score: 0.6166780010394254\n",
            "Generation 56 - Current best internal CV score: 0.6166780010394254\n",
            "Generation 57 - Current best internal CV score: 0.6166780010394254\n",
            "Generation 58 - Current best internal CV score: 0.6166780010394254\n",
            "Generation 59 - Current best internal CV score: 0.6166780010394254\n",
            "Generation 60 - Current best internal CV score: 0.6166780010394254\n",
            "Generation 61 - Current best internal CV score: 0.6166780010394254\n",
            "Generation 62 - Current best internal CV score: 0.6166780010394254\n",
            "Generation 63 - Current best internal CV score: 0.6166780010394254\n",
            "Generation 64 - Current best internal CV score: 0.6166780010394254\n",
            "Generation 65 - Current best internal CV score: 0.6166780010394254\n",
            "Generation 66 - Current best internal CV score: 0.6166780010394254\n",
            "Generation 67 - Current best internal CV score: 0.6166780010394254\n",
            "Generation 68 - Current best internal CV score: 0.6166780010394254\n",
            "Generation 69 - Current best internal CV score: 0.6166780010394254\n",
            "Generation 70 - Current best internal CV score: 0.6166780010394254\n",
            "Generation 71 - Current best internal CV score: 0.6166780010394254\n",
            "Generation 72 - Current best internal CV score: 0.6166780010394254\n",
            "Generation 73 - Current best internal CV score: 0.6166780010394254\n",
            "Generation 74 - Current best internal CV score: 0.6166780010394254\n",
            "Generation 75 - Current best internal CV score: 0.6166780010394254\n",
            "Generation 76 - Current best internal CV score: 0.6166780010394254\n",
            "Generation 77 - Current best internal CV score: 0.6166780010394254\n",
            "Generation 78 - Current best internal CV score: 0.6166780010394254\n",
            "Generation 79 - Current best internal CV score: 0.6174096294158462\n",
            "Generation 80 - Current best internal CV score: 0.6174096294158462\n",
            "Generation 81 - Current best internal CV score: 0.6174096294158462\n",
            "Generation 82 - Current best internal CV score: 0.6174096294158462\n",
            "Generation 83 - Current best internal CV score: 0.6174096294158462\n",
            "Generation 84 - Current best internal CV score: 0.6174096294158462\n",
            "Generation 85 - Current best internal CV score: 0.6174096294158462\n",
            "Generation 86 - Current best internal CV score: 0.6174096294158462\n",
            "Generation 87 - Current best internal CV score: 0.6174182712133401\n",
            "Generation 88 - Current best internal CV score: 0.6174182712133401\n",
            "Generation 89 - Current best internal CV score: 0.6174182712133401\n",
            "Generation 90 - Current best internal CV score: 0.6174182712133401\n",
            "Generation 91 - Current best internal CV score: 0.6174182712133401\n",
            "Generation 92 - Current best internal CV score: 0.6174182712133401\n",
            "Generation 93 - Current best internal CV score: 0.6174182712133401\n",
            "Generation 94 - Current best internal CV score: 0.6174182712133401\n",
            "Generation 95 - Current best internal CV score: 0.6174182712133401\n",
            "Generation 96 - Current best internal CV score: 0.6174182712133401\n",
            "Generation 97 - Current best internal CV score: 0.6174182712133401\n",
            "Generation 98 - Current best internal CV score: 0.6174182712133401\n",
            "Generation 99 - Current best internal CV score: 0.6174182712133401\n",
            "Generation 100 - Current best internal CV score: 0.6196968689639537\n",
            "Generation 101 - Current best internal CV score: 0.6196968689639537\n",
            "Generation 102 - Current best internal CV score: 0.6196968689639537\n",
            "Generation 103 - Current best internal CV score: 0.6196968689639537\n",
            "Generation 104 - Current best internal CV score: 0.6196968689639537\n",
            "Generation 105 - Current best internal CV score: 0.6196968689639537\n",
            "Generation 106 - Current best internal CV score: 0.6196968689639537\n",
            "Generation 107 - Current best internal CV score: 0.6196968689639537\n",
            "Generation 108 - Current best internal CV score: 0.6196968689639537\n",
            "Generation 109 - Current best internal CV score: 0.6196968689639537\n",
            "Generation 110 - Current best internal CV score: 0.6196968689639537\n",
            "Generation 111 - Current best internal CV score: 0.6196968689639537\n",
            "Generation 112 - Current best internal CV score: 0.6196968689639537\n",
            "Generation 113 - Current best internal CV score: 0.6196968689639537\n",
            "Generation 114 - Current best internal CV score: 0.6211946929067709\n",
            "Generation 115 - Current best internal CV score: 0.6211946929067709\n",
            "Generation 116 - Current best internal CV score: 0.6211946929067709\n",
            "Generation 117 - Current best internal CV score: 0.6211946929067709\n",
            "Generation 118 - Current best internal CV score: 0.6211946929067709\n",
            "Generation 119 - Current best internal CV score: 0.6211946929067709\n",
            "Generation 120 - Current best internal CV score: 0.6211946929067709\n",
            "Generation 121 - Current best internal CV score: 0.6211946929067709\n",
            "Generation 122 - Current best internal CV score: 0.6211946929067709\n",
            "Generation 123 - Current best internal CV score: 0.6211946929067709\n",
            "Generation 124 - Current best internal CV score: 0.6211946929067709\n",
            "Generation 125 - Current best internal CV score: 0.6211946929067709\n",
            "Generation 126 - Current best internal CV score: 0.6211946929067709\n",
            "Generation 127 - Current best internal CV score: 0.6211946929067709\n",
            "Generation 128 - Current best internal CV score: 0.6211946929067709\n",
            "Generation 129 - Current best internal CV score: 0.6211946929067709\n",
            "Generation 130 - Current best internal CV score: 0.6211946929067709\n",
            "Generation 131 - Current best internal CV score: 0.6211946929067709\n",
            "Generation 132 - Current best internal CV score: 0.6211946929067709\n",
            "Generation 133 - Current best internal CV score: 0.6211946929067709\n",
            "Generation 134 - Current best internal CV score: 0.6211946929067709\n",
            "Generation 135 - Current best internal CV score: 0.6211946929067709\n",
            "Generation 136 - Current best internal CV score: 0.6211946929067709\n",
            "Generation 137 - Current best internal CV score: 0.6211946929067709\n",
            "Generation 138 - Current best internal CV score: 0.6211946929067709\n",
            "Generation 139 - Current best internal CV score: 0.6211946929067709\n",
            "Generation 140 - Current best internal CV score: 0.6211946929067709\n",
            "Generation 141 - Current best internal CV score: 0.6211946929067709\n",
            "Generation 142 - Current best internal CV score: 0.6211946929067709\n",
            "Generation 143 - Current best internal CV score: 0.6211946929067709\n",
            "Generation 144 - Current best internal CV score: 0.6211946929067709\n",
            "Generation 145 - Current best internal CV score: 0.6211946929067709\n",
            "Generation 146 - Current best internal CV score: 0.6211946929067709\n",
            "Generation 147 - Current best internal CV score: 0.6211946929067709\n",
            "Generation 148 - Current best internal CV score: 0.6211946929067709\n",
            "Generation 149 - Current best internal CV score: 0.6211946929067709\n",
            "Generation 150 - Current best internal CV score: 0.6211946929067709\n",
            "\n",
            "Best pipeline: ExtraTreesClassifier(PCA(input_matrix, iterated_power=4, svd_solver=randomized), bootstrap=True, criterion=entropy, max_features=0.9000000000000001, min_samples_leaf=9, min_samples_split=19, n_estimators=100)\n"
          ],
          "name": "stdout"
        },
        {
          "output_type": "stream",
          "text": [
            "C:\\Users\\bhash\\Anaconda3\\lib\\site-packages\\sklearn\\utils\\validation.py:761: DataConversionWarning: A column-vector y was passed when a 1d array was expected. Please change the shape of y to (n_samples, ), for example using ravel().\n",
            "  y = column_or_1d(y, warn=True)\n"
          ],
          "name": "stderr"
        },
        {
          "output_type": "stream",
          "text": [
            "Accuracy is 60.0%\n"
          ],
          "name": "stdout"
        }
      ]
    },
    {
      "metadata": {
        "id": "dIVkbTWnqEXu",
        "colab_type": "code",
        "colab": {},
        "outputId": "3b6327b8-a137-4afb-e9b0-4162994ce901"
      },
      "cell_type": "code",
      "source": [
        "tpot = TPOTClassifier(generations=200, population_size=10, verbosity=2)\n",
        "tpot.fit(x_train, y_train.values.ravel())\n",
        "print(\"Accuracy is {}%\".format(tpot.score(x_test, y_test)*100))"
      ],
      "execution_count": 0,
      "outputs": [
        {
          "output_type": "stream",
          "text": [
            "Warning: xgboost.XGBClassifier is not available and will not be used by TPOT.\n",
            "Imputing missing values in feature set\n"
          ],
          "name": "stdout"
        },
        {
          "output_type": "stream",
          "text": [
            "C:\\Users\\bhash\\Anaconda3\\lib\\site-packages\\sklearn\\utils\\deprecation.py:58: DeprecationWarning: Class Imputer is deprecated; Imputer was deprecated in version 0.20 and will be removed in 0.22. Import impute.SimpleImputer from sklearn instead.\n",
            "  warnings.warn(msg, category=DeprecationWarning)\n"
          ],
          "name": "stderr"
        },
        {
          "output_type": "display_data",
          "data": {
            "application/vnd.jupyter.widget-view+json": {
              "model_id": "",
              "version_major": 2,
              "version_minor": 0
            },
            "text/plain": [
              "HBox(children=(IntProgress(value=0, description='Optimization Progress', max=2010, style=ProgressStyle(descrip…"
            ]
          },
          "metadata": {
            "tags": []
          }
        },
        {
          "output_type": "stream",
          "text": [
            "Generation 1 - Current best internal CV score: 0.6037889875148645\n",
            "Generation 2 - Current best internal CV score: 0.6037889875148645\n",
            "Generation 3 - Current best internal CV score: 0.6037889875148645\n",
            "Generation 4 - Current best internal CV score: 0.6037889875148645\n",
            "Generation 5 - Current best internal CV score: 0.6037889875148645\n",
            "Generation 6 - Current best internal CV score: 0.6037889875148645\n",
            "Generation 7 - Current best internal CV score: 0.6037889875148645\n",
            "Generation 8 - Current best internal CV score: 0.6037889875148645\n",
            "Generation 9 - Current best internal CV score: 0.6037889875148645\n",
            "Generation 10 - Current best internal CV score: 0.6037889875148645\n",
            "Generation 11 - Current best internal CV score: 0.6037889875148645\n",
            "Generation 12 - Current best internal CV score: 0.6037889875148645\n",
            "Generation 13 - Current best internal CV score: 0.6037889875148645\n",
            "Generation 14 - Current best internal CV score: 0.6037889875148645\n",
            "Generation 15 - Current best internal CV score: 0.6060646170435251\n",
            "Generation 16 - Current best internal CV score: 0.6060646170435251\n",
            "Generation 17 - Current best internal CV score: 0.6060646170435251\n",
            "Generation 18 - Current best internal CV score: 0.6060646170435251\n",
            "Generation 19 - Current best internal CV score: 0.6060646170435251\n",
            "Generation 20 - Current best internal CV score: 0.6068136164717699\n",
            "Generation 21 - Current best internal CV score: 0.6068136164717699\n",
            "Generation 22 - Current best internal CV score: 0.6068136164717699\n",
            "Generation 23 - Current best internal CV score: 0.6068136164717699\n",
            "Generation 24 - Current best internal CV score: 0.6068136164717699\n",
            "Generation 25 - Current best internal CV score: 0.6068136164717699\n",
            "Generation 26 - Current best internal CV score: 0.6068136164717699\n",
            "Generation 27 - Current best internal CV score: 0.6068136164717699\n",
            "Generation 28 - Current best internal CV score: 0.6068136164717699\n",
            "Generation 29 - Current best internal CV score: 0.6068136164717699\n",
            "Generation 30 - Current best internal CV score: 0.6068136164717699\n",
            "Generation 31 - Current best internal CV score: 0.6068136164717699\n",
            "Generation 32 - Current best internal CV score: 0.6068136164717699\n",
            "Generation 33 - Current best internal CV score: 0.6068136164717699\n",
            "Generation 34 - Current best internal CV score: 0.6068136164717699\n",
            "Generation 35 - Current best internal CV score: 0.6068136164717699\n",
            "Generation 36 - Current best internal CV score: 0.6068136164717699\n",
            "Generation 37 - Current best internal CV score: 0.6068136164717699\n",
            "Generation 38 - Current best internal CV score: 0.6068136164717699\n",
            "Generation 39 - Current best internal CV score: 0.6068136164717699\n",
            "Generation 40 - Current best internal CV score: 0.6068136164717699\n",
            "Generation 41 - Current best internal CV score: 0.6068136164717699\n",
            "Generation 42 - Current best internal CV score: 0.6068136164717699\n",
            "Generation 43 - Current best internal CV score: 0.6068136164717699\n",
            "Generation 44 - Current best internal CV score: 0.6068136164717699\n",
            "Generation 45 - Current best internal CV score: 0.6068136164717699\n",
            "Generation 46 - Current best internal CV score: 0.6068136164717699\n",
            "Generation 47 - Current best internal CV score: 0.6068136164717699\n",
            "Generation 48 - Current best internal CV score: 0.6068136164717699\n",
            "Generation 49 - Current best internal CV score: 0.6068136164717699\n",
            "Generation 50 - Current best internal CV score: 0.6068136164717699\n",
            "Generation 51 - Current best internal CV score: 0.6068136164717699\n",
            "Generation 52 - Current best internal CV score: 0.6068136164717699\n",
            "Generation 53 - Current best internal CV score: 0.6068136164717699\n",
            "Generation 54 - Current best internal CV score: 0.6068136164717699\n",
            "Generation 55 - Current best internal CV score: 0.6068480087480733\n",
            "Generation 56 - Current best internal CV score: 0.6068480087480733\n",
            "Generation 57 - Current best internal CV score: 0.6075769750014675\n",
            "Generation 58 - Current best internal CV score: 0.6076085519808169\n",
            "Generation 59 - Current best internal CV score: 0.6076085519808169\n",
            "Generation 60 - Current best internal CV score: 0.6076085519808169\n",
            "Generation 61 - Current best internal CV score: 0.6076085519808169\n",
            "Generation 62 - Current best internal CV score: 0.6076085519808169\n",
            "Generation 63 - Current best internal CV score: 0.6076085519808169\n",
            "Generation 64 - Current best internal CV score: 0.6076085519808169\n",
            "Generation 65 - Current best internal CV score: 0.6076085519808169\n",
            "Generation 66 - Current best internal CV score: 0.6076085519808169\n",
            "Generation 67 - Current best internal CV score: 0.6076085519808169\n",
            "Generation 68 - Current best internal CV score: 0.6076085519808169\n",
            "Generation 69 - Current best internal CV score: 0.6076085519808169\n",
            "Generation 70 - Current best internal CV score: 0.6076085519808169\n",
            "Generation 71 - Current best internal CV score: 0.6076085519808169\n",
            "Generation 72 - Current best internal CV score: 0.6076085519808169\n",
            "Generation 73 - Current best internal CV score: 0.6076085519808169\n",
            "Generation 74 - Current best internal CV score: 0.6076085519808169\n",
            "Generation 75 - Current best internal CV score: 0.6076085519808169\n",
            "Generation 76 - Current best internal CV score: 0.6076085519808169\n",
            "Generation 77 - Current best internal CV score: 0.6076085519808169\n",
            "Generation 78 - Current best internal CV score: 0.6076085519808169\n",
            "Generation 79 - Current best internal CV score: 0.6076085519808169\n",
            "Generation 80 - Current best internal CV score: 0.6076085519808169\n",
            "Generation 81 - Current best internal CV score: 0.6076085519808169\n",
            "Generation 82 - Current best internal CV score: 0.6076085519808169\n",
            "Generation 83 - Current best internal CV score: 0.6076085519808169\n",
            "Generation 84 - Current best internal CV score: 0.6076085519808169\n",
            "Generation 85 - Current best internal CV score: 0.6076085519808169\n",
            "Generation 86 - Current best internal CV score: 0.6076085519808169\n",
            "Generation 87 - Current best internal CV score: 0.6076085519808169\n",
            "Generation 88 - Current best internal CV score: 0.6076085519808169\n",
            "Generation 89 - Current best internal CV score: 0.6076085519808169\n",
            "Generation 90 - Current best internal CV score: 0.6076085519808169\n",
            "Generation 91 - Current best internal CV score: 0.6076085519808169\n",
            "Generation 92 - Current best internal CV score: 0.6076085519808169\n",
            "Generation 93 - Current best internal CV score: 0.6076085519808169\n",
            "Generation 94 - Current best internal CV score: 0.6076085519808169\n",
            "Generation 95 - Current best internal CV score: 0.6076085519808169\n",
            "Generation 96 - Current best internal CV score: 0.6076085519808169\n",
            "Generation 97 - Current best internal CV score: 0.6076085519808169\n",
            "Generation 98 - Current best internal CV score: 0.6076085519808169\n",
            "Generation 99 - Current best internal CV score: 0.6076085519808169\n",
            "Generation 100 - Current best internal CV score: 0.6076085519808169\n",
            "Generation 101 - Current best internal CV score: 0.6076085519808169\n",
            "Generation 102 - Current best internal CV score: 0.6076085519808169\n",
            "Generation 103 - Current best internal CV score: 0.6076085519808169\n",
            "Generation 104 - Current best internal CV score: 0.6076085519808169\n",
            "Generation 105 - Current best internal CV score: 0.6076085519808169\n",
            "Generation 106 - Current best internal CV score: 0.6076085519808169\n",
            "Generation 107 - Current best internal CV score: 0.6076085519808169\n",
            "Generation 108 - Current best internal CV score: 0.6076085519808169\n",
            "Generation 109 - Current best internal CV score: 0.6076085519808169\n",
            "Generation 110 - Current best internal CV score: 0.6076085519808169\n",
            "Generation 111 - Current best internal CV score: 0.6076085519808169\n",
            "Generation 112 - Current best internal CV score: 0.6076085519808169\n",
            "Generation 113 - Current best internal CV score: 0.6076085519808169\n",
            "Generation 114 - Current best internal CV score: 0.6076085519808169\n",
            "Generation 115 - Current best internal CV score: 0.6076085519808169\n",
            "Generation 116 - Current best internal CV score: 0.6076085519808169\n",
            "Generation 117 - Current best internal CV score: 0.6076085519808169\n",
            "Generation 118 - Current best internal CV score: 0.6076085519808169\n",
            "Generation 119 - Current best internal CV score: 0.6076085519808169\n",
            "Generation 120 - Current best internal CV score: 0.6076085519808169\n",
            "Generation 121 - Current best internal CV score: 0.6076085519808169\n",
            "Generation 122 - Current best internal CV score: 0.6076085519808169\n"
          ],
          "name": "stdout"
        },
        {
          "output_type": "stream",
          "text": [
            "Generation 123 - Current best internal CV score: 0.6076085519808169\n",
            "Generation 124 - Current best internal CV score: 0.6076085519808169\n",
            "Generation 125 - Current best internal CV score: 0.6076085519808169\n",
            "Generation 126 - Current best internal CV score: 0.6076085519808169\n",
            "Generation 127 - Current best internal CV score: 0.6076085519808169\n",
            "Generation 128 - Current best internal CV score: 0.6076085519808169\n",
            "Generation 129 - Current best internal CV score: 0.6076085519808169\n",
            "Generation 130 - Current best internal CV score: 0.6076085519808169\n",
            "Generation 131 - Current best internal CV score: 0.6076085519808169\n",
            "Generation 132 - Current best internal CV score: 0.6076085519808169\n",
            "Generation 133 - Current best internal CV score: 0.6076085519808169\n",
            "Generation 134 - Current best internal CV score: 0.6076085519808169\n",
            "Generation 135 - Current best internal CV score: 0.6076085519808169\n",
            "Generation 136 - Current best internal CV score: 0.6076085519808169\n",
            "Generation 137 - Current best internal CV score: 0.6076085519808169\n",
            "Generation 138 - Current best internal CV score: 0.6076085519808169\n",
            "Generation 139 - Current best internal CV score: 0.6076085519808169\n",
            "Generation 140 - Current best internal CV score: 0.6076085519808169\n",
            "Generation 141 - Current best internal CV score: 0.6076085519808169\n",
            "Generation 142 - Current best internal CV score: 0.6076085519808169\n",
            "Generation 143 - Current best internal CV score: 0.6076085519808169\n",
            "Generation 144 - Current best internal CV score: 0.6076085519808169\n",
            "Generation 145 - Current best internal CV score: 0.6076085519808169\n",
            "Generation 146 - Current best internal CV score: 0.6076085519808169\n",
            "Generation 147 - Current best internal CV score: 0.6076085519808169\n",
            "Generation 148 - Current best internal CV score: 0.6076085519808169\n",
            "Generation 149 - Current best internal CV score: 0.6076085519808169\n",
            "Generation 150 - Current best internal CV score: 0.6076085519808169\n",
            "Generation 151 - Current best internal CV score: 0.6076085519808169\n",
            "Generation 152 - Current best internal CV score: 0.6076085519808169\n",
            "Generation 153 - Current best internal CV score: 0.6076085519808169\n",
            "Generation 154 - Current best internal CV score: 0.6076085519808169\n",
            "Generation 155 - Current best internal CV score: 0.6076085519808169\n",
            "Generation 156 - Current best internal CV score: 0.6076085519808169\n",
            "Generation 157 - Current best internal CV score: 0.6076085519808169\n",
            "Generation 158 - Current best internal CV score: 0.6076085519808169\n",
            "Generation 159 - Current best internal CV score: 0.6076085519808169\n",
            "Generation 160 - Current best internal CV score: 0.6076085519808169\n",
            "Generation 161 - Current best internal CV score: 0.6076085519808169\n",
            "Generation 162 - Current best internal CV score: 0.6076085519808169\n",
            "Generation 163 - Current best internal CV score: 0.6076085519808169\n",
            "Generation 164 - Current best internal CV score: 0.6076085519808169\n",
            "Generation 165 - Current best internal CV score: 0.6076085519808169\n",
            "Generation 166 - Current best internal CV score: 0.6076085519808169\n",
            "Generation 167 - Current best internal CV score: 0.6076085519808169\n",
            "Generation 168 - Current best internal CV score: 0.6076085519808169\n",
            "Generation 169 - Current best internal CV score: 0.6076085519808169\n",
            "Generation 170 - Current best internal CV score: 0.6076085519808169\n",
            "Generation 171 - Current best internal CV score: 0.6076085519808169\n",
            "Generation 172 - Current best internal CV score: 0.6076085519808169\n",
            "Generation 173 - Current best internal CV score: 0.6076085519808169\n",
            "Generation 174 - Current best internal CV score: 0.6076085519808169\n",
            "Generation 175 - Current best internal CV score: 0.6076085519808169\n",
            "Generation 176 - Current best internal CV score: 0.6076085519808169\n",
            "Generation 177 - Current best internal CV score: 0.6076085519808169\n",
            "Generation 178 - Current best internal CV score: 0.6076085519808169\n",
            "Generation 179 - Current best internal CV score: 0.6076085519808169\n",
            "Generation 180 - Current best internal CV score: 0.6076085519808169\n",
            "Generation 181 - Current best internal CV score: 0.6076085519808169\n",
            "Generation 182 - Current best internal CV score: 0.6076085519808169\n",
            "Generation 183 - Current best internal CV score: 0.6076085519808169\n",
            "Generation 184 - Current best internal CV score: 0.6076085519808169\n",
            "Generation 185 - Current best internal CV score: 0.6076085519808169\n",
            "Generation 186 - Current best internal CV score: 0.6076085519808169\n",
            "Generation 187 - Current best internal CV score: 0.6076085519808169\n",
            "Generation 188 - Current best internal CV score: 0.6076085519808169\n",
            "Generation 189 - Current best internal CV score: 0.6076085519808169\n",
            "Generation 190 - Current best internal CV score: 0.6076085519808169\n",
            "Generation 191 - Current best internal CV score: 0.6076085519808169\n",
            "Generation 192 - Current best internal CV score: 0.6076085519808169\n",
            "Generation 193 - Current best internal CV score: 0.6076085519808169\n",
            "Generation 194 - Current best internal CV score: 0.6076085519808169\n",
            "Generation 195 - Current best internal CV score: 0.6076085519808169\n",
            "Generation 196 - Current best internal CV score: 0.6076085519808169\n",
            "Generation 197 - Current best internal CV score: 0.6076085519808169\n",
            "Generation 198 - Current best internal CV score: 0.6076085519808169\n",
            "Generation 199 - Current best internal CV score: 0.6076085519808169\n",
            "Generation 200 - Current best internal CV score: 0.6076085519808169\n",
            "\n",
            "Best pipeline: RandomForestClassifier(input_matrix, bootstrap=False, criterion=entropy, max_features=0.6500000000000001, min_samples_leaf=15, min_samples_split=11, n_estimators=100)\n"
          ],
          "name": "stdout"
        },
        {
          "output_type": "stream",
          "text": [
            "C:\\Users\\bhash\\Anaconda3\\lib\\site-packages\\sklearn\\utils\\validation.py:761: DataConversionWarning: A column-vector y was passed when a 1d array was expected. Please change the shape of y to (n_samples, ), for example using ravel().\n",
            "  y = column_or_1d(y, warn=True)\n"
          ],
          "name": "stderr"
        },
        {
          "output_type": "stream",
          "text": [
            "Accuracy is 63.33333333333333%\n"
          ],
          "name": "stdout"
        }
      ]
    },
    {
      "metadata": {
        "id": "ZN3GDWh2qEXz",
        "colab_type": "code",
        "colab": {},
        "outputId": "c9989c47-716c-4a83-950e-28a21201a997"
      },
      "cell_type": "code",
      "source": [
        "print(tpot.score(x_train, y_train))"
      ],
      "execution_count": 0,
      "outputs": [
        {
          "output_type": "stream",
          "text": [
            "Imputing missing values in feature set\n"
          ],
          "name": "stdout"
        },
        {
          "output_type": "stream",
          "text": [
            "C:\\Users\\bhash\\Anaconda3\\lib\\site-packages\\sklearn\\utils\\validation.py:761: DataConversionWarning: A column-vector y was passed when a 1d array was expected. Please change the shape of y to (n_samples, ), for example using ravel().\n",
            "  y = column_or_1d(y, warn=True)\n"
          ],
          "name": "stderr"
        },
        {
          "output_type": "stream",
          "text": [
            "0.6818181818181818\n"
          ],
          "name": "stdout"
        }
      ]
    },
    {
      "metadata": {
        "id": "XbHPrFsEqEX3",
        "colab_type": "text"
      },
      "cell_type": "markdown",
      "source": [
        "# Conclusion: "
      ]
    },
    {
      "metadata": {
        "id": "UxO-zaVeqEX4",
        "colab_type": "text"
      },
      "cell_type": "markdown",
      "source": [
        "\n",
        "As we increaded the genrations to run more pipeline optimization iterations the accuracy increased and did not       cause overfitting. Also it shows what pipeline is the best in this case its the RandomForestClassifier"
      ]
    }
  ]
}