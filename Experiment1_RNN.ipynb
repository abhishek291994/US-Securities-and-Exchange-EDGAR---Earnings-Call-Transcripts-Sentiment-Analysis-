{
  "nbformat": 4,
  "nbformat_minor": 0,
  "metadata": {
    "colab": {
      "name": "Experiment1-RNN.ipynb",
      "version": "0.3.2",
      "provenance": [],
      "collapsed_sections": []
    },
    "kernelspec": {
      "name": "python3",
      "display_name": "Python 3"
    }
  },
  "cells": [
    {
      "metadata": {
        "id": "QJ6wx_Ix4jeQ",
        "colab_type": "text"
      },
      "cell_type": "markdown",
      "source": [
        "**BEST MODEL RECEIVED FOR RNN MODEL**"
      ]
    },
    {
      "metadata": {
        "id": "dlaj-FNHv4Wm",
        "colab_type": "code",
        "outputId": "8b68b5f8-55a8-453f-abf0-76fd3d3dd1d4",
        "colab": {
          "base_uri": "https://localhost:8080/",
          "height": 783
        }
      },
      "cell_type": "code",
      "source": [
        "embed_dim = 128\n",
        "lstm_out = 200\n",
        "batch_size = 32\n",
        "epochs = 20\n",
        "model = Sequential()\n",
        "\n",
        "# Embedding layer\n",
        "model.add(Embedding(2500, embed_dim,input_length = X.shape[1], dropout = 0.2))\n",
        "  \n",
        "\n",
        "# Masking layer for pre-trained embeddings\n",
        "#model.add(Masking(mask_value=0.0))\n",
        "\n",
        "# Recurrent layer\n",
        "model.add(LSTM(64, return_sequences=False, \n",
        "               dropout=0.1, recurrent_dropout=0.1))\n",
        "\n",
        "# Fully connected layer\n",
        "model.add(Dense(128, activation='relu'))\n",
        "\n",
        "# Dropout for regularization\n",
        "model.add(Dropout(0.2))\n",
        "\n",
        "# Output layer\n",
        "model.add(Dense(3, activation='softmax'))\n",
        "\n",
        "opt = optimizers.SGD(lr=0.01, decay=1e-6, momentum=0.9, nesterov=True)\n",
        "# Compile the model\n",
        "model.compile(\n",
        "    optimizer=opt , loss='categorical_crossentropy', metrics=['accuracy'])\n",
        "Y = pd.get_dummies(data['sentiment']).values\n",
        "\n",
        "\n",
        "history = model.fit(X_train, Y_train, batch_size =64,validation_data=(X_valid,Y_valid), epochs = epochs)"
      ],
      "execution_count": 0,
      "outputs": [
        {
          "output_type": "stream",
          "text": [
            "/usr/local/lib/python3.6/dist-packages/ipykernel_launcher.py:4: UserWarning: The `dropout` argument is no longer support in `Embedding`. You can apply a `keras.layers.SpatialDropout1D` layer right after the `Embedding` layer to get the same behavior.\n",
            "  after removing the cwd from sys.path.\n"
          ],
          "name": "stderr"
        },
        {
          "output_type": "stream",
          "text": [
            "Train on 1319 samples, validate on 330 samples\n",
            "Epoch 1/20\n",
            "1319/1319 [==============================] - 21s 16ms/step - loss: 1.0334 - acc: 0.4769 - val_loss: 0.9566 - val_acc: 0.5000\n",
            "Epoch 2/20\n",
            "1319/1319 [==============================] - 20s 15ms/step - loss: 0.9404 - acc: 0.5049 - val_loss: 0.9302 - val_acc: 0.5000\n",
            "Epoch 3/20\n",
            "1319/1319 [==============================] - 20s 15ms/step - loss: 0.9325 - acc: 0.5027 - val_loss: 0.9256 - val_acc: 0.5000\n",
            "Epoch 4/20\n",
            "1319/1319 [==============================] - 20s 15ms/step - loss: 0.9281 - acc: 0.5049 - val_loss: 0.9201 - val_acc: 0.5000\n",
            "Epoch 5/20\n",
            "1319/1319 [==============================] - 20s 15ms/step - loss: 0.9203 - acc: 0.5042 - val_loss: 0.9092 - val_acc: 0.5000\n",
            "Epoch 6/20\n",
            "1319/1319 [==============================] - 20s 15ms/step - loss: 0.9108 - acc: 0.5178 - val_loss: 0.8879 - val_acc: 0.4970\n",
            "Epoch 7/20\n",
            "1319/1319 [==============================] - 20s 15ms/step - loss: 0.8850 - acc: 0.5148 - val_loss: 0.8423 - val_acc: 0.6424\n",
            "Epoch 8/20\n",
            "1319/1319 [==============================] - 20s 15ms/step - loss: 0.8411 - acc: 0.6020 - val_loss: 0.7812 - val_acc: 0.6485\n",
            "Epoch 9/20\n",
            "1319/1319 [==============================] - 20s 15ms/step - loss: 0.8252 - acc: 0.6050 - val_loss: 0.7801 - val_acc: 0.6485\n",
            "Epoch 10/20\n",
            "1319/1319 [==============================] - 20s 15ms/step - loss: 0.8200 - acc: 0.6058 - val_loss: 0.7801 - val_acc: 0.6455\n",
            "Epoch 11/20\n",
            "1319/1319 [==============================] - 20s 15ms/step - loss: 0.8206 - acc: 0.6020 - val_loss: 0.7773 - val_acc: 0.6333\n",
            "Epoch 12/20\n",
            "1319/1319 [==============================] - 20s 15ms/step - loss: 0.8188 - acc: 0.5989 - val_loss: 0.7805 - val_acc: 0.6485\n",
            "Epoch 13/20\n",
            "1319/1319 [==============================] - 20s 15ms/step - loss: 0.8149 - acc: 0.6050 - val_loss: 0.7761 - val_acc: 0.6455\n",
            "Epoch 14/20\n",
            "1319/1319 [==============================] - 20s 15ms/step - loss: 0.8160 - acc: 0.6058 - val_loss: 0.7765 - val_acc: 0.6424\n",
            "Epoch 15/20\n",
            "1319/1319 [==============================] - 20s 15ms/step - loss: 0.8163 - acc: 0.6073 - val_loss: 0.7755 - val_acc: 0.6364\n",
            "Epoch 16/20\n",
            "1319/1319 [==============================] - 20s 15ms/step - loss: 0.8109 - acc: 0.6118 - val_loss: 0.7751 - val_acc: 0.6455\n",
            "Epoch 17/20\n",
            "1319/1319 [==============================] - 20s 15ms/step - loss: 0.8134 - acc: 0.6088 - val_loss: 0.7745 - val_acc: 0.6424\n",
            "Epoch 18/20\n",
            "1319/1319 [==============================] - 20s 15ms/step - loss: 0.8077 - acc: 0.6126 - val_loss: 0.7736 - val_acc: 0.6424\n",
            "Epoch 19/20\n",
            "1319/1319 [==============================] - 20s 15ms/step - loss: 0.8080 - acc: 0.6202 - val_loss: 0.7747 - val_acc: 0.6485\n",
            "Epoch 20/20\n",
            "1319/1319 [==============================] - 20s 15ms/step - loss: 0.8068 - acc: 0.6232 - val_loss: 0.7718 - val_acc: 0.6394\n"
          ],
          "name": "stdout"
        }
      ]
    },
    {
      "metadata": {
        "id": "ReZUgMct-Po-",
        "colab_type": "text"
      },
      "cell_type": "markdown",
      "source": [
        "**MODEL PERFORMANCE**"
      ]
    },
    {
      "metadata": {
        "id": "W_ZzVBMqYV8d",
        "colab_type": "code",
        "outputId": "bead45e1-a432-4db8-e048-a11b2788dfb4",
        "colab": {
          "base_uri": "https://localhost:8080/",
          "height": 52
        }
      },
      "cell_type": "code",
      "source": [
        "\n",
        "loss,acc = model.evaluate(X_valid, Y_valid, verbose = 2, batch_size = batch_size)\n",
        "print(\"Validation Loss: %.2f\" % (loss))\n",
        "print(\"Validation Accuracy: %.2f\" % (acc))"
      ],
      "execution_count": 0,
      "outputs": [
        {
          "output_type": "stream",
          "text": [
            "Validation Loss: 0.77\n",
            "Validation Accuracy: 0.64\n"
          ],
          "name": "stdout"
        }
      ]
    },
    {
      "metadata": {
        "id": "LqXZJ7iKkYw3",
        "colab_type": "code",
        "outputId": "8d8a0c46-2d97-4e6c-9d9c-bed3eb71723a",
        "colab": {
          "base_uri": "https://localhost:8080/",
          "height": 295
        }
      },
      "cell_type": "code",
      "source": [
        "import matplotlib.pyplot as plt\n",
        "%matplotlib inline\n",
        "# summarize history for accuracy\n",
        "plt.plot(history.history['acc'])\n",
        "plt.plot(history.history['val_acc'])\n",
        "plt.title('model accuracy')\n",
        "plt.ylabel('accuracy')\n",
        "plt.xlabel('epoch')\n",
        "plt.legend(['train', 'test'], loc='upper left')\n",
        "plt.show()"
      ],
      "execution_count": 0,
      "outputs": [
        {
          "output_type": "display_data",
          "data": {
            "image/png": "[encoded data removed]",
            "text/plain": [
              "<Figure size 432x288 with 1 Axes>"
            ]
          },
          "metadata": {
            "tags": []
          }
        }
      ]
    },
    {
      "metadata": {
        "id": "jsxIJWkQkvBk",
        "colab_type": "code",
        "outputId": "642df47e-212a-41ac-fe23-472d6a27b02a",
        "colab": {
          "base_uri": "https://localhost:8080/",
          "height": 295
        }
      },
      "cell_type": "code",
      "source": [
        "plt.plot(history.history['loss'])\n",
        "plt.plot(history.history['val_loss'])\n",
        "plt.title('model loss')\n",
        "plt.ylabel('loss')\n",
        "plt.xlabel('epoch')\n",
        "plt.legend(['train', 'test'], loc='upper left')\n",
        "plt.show()"
      ],
      "execution_count": 0,
      "outputs": [
        {
          "output_type": "display_data",
          "data": {
            "image/png": "[encoded data removed]",
            "text/plain": [
              "<Figure size 432x288 with 1 Axes>"
            ]
          },
          "metadata": {
            "tags": []
          }
        }
      ]
    },
    {
      "metadata": {
        "id": "gbk1V89gM7QK",
        "colab_type": "code",
        "outputId": "4de0ea18-512b-4e18-a30f-0a78b1790f45",
        "colab": {
          "base_uri": "https://localhost:8080/",
          "height": 5737
        }
      },
      "cell_type": "code",
      "source": [
        "predictRnn = model.predict(X_valid)\n",
        "predictRnn"
      ],
      "execution_count": 0,
      "outputs": [
        {
          "output_type": "execute_result",
          "data": {
            "text/plain": [
              "array([[0.12653624, 0.5040641 , 0.3693997 ],\n",
              "       [0.12862076, 0.5273007 , 0.34407857],\n",
              "       [0.00578757, 0.03859925, 0.95561326],\n",
              "       [0.12089962, 0.5143798 , 0.36472055],\n",
              "       [0.12208344, 0.5141485 , 0.3637681 ],\n",
              "       [0.13431181, 0.53285116, 0.332837  ],\n",
              "       [0.01668411, 0.09361798, 0.88969797],\n",
              "       [0.12332089, 0.5069566 , 0.36972255],\n",
              "       [0.12245643, 0.5113953 , 0.3661483 ],\n",
              "       [0.0778065 , 0.35304987, 0.56914365],\n",
              "       [0.1273227 , 0.5258332 , 0.3468441 ],\n",
              "       [0.1319768 , 0.5454544 , 0.3225689 ],\n",
              "       [0.03634328, 0.17821091, 0.78544575],\n",
              "       [0.12396943, 0.5209714 , 0.35505915],\n",
              "       [0.11626296, 0.49207267, 0.39166436],\n",
              "       [0.09076356, 0.3998534 , 0.509383  ],\n",
              "       [0.12041552, 0.5122675 , 0.36731705],\n",
              "       [0.08655712, 0.4103055 , 0.5031374 ],\n",
              "       [0.11814039, 0.49965864, 0.382201  ],\n",
              "       [0.1280456 , 0.5344671 , 0.33748722],\n",
              "       [0.12804765, 0.5236025 , 0.34834987],\n",
              "       [0.00570823, 0.03807186, 0.95621985],\n",
              "       [0.11532751, 0.48962644, 0.39504611],\n",
              "       [0.11690108, 0.48358947, 0.39950946],\n",
              "       [0.10800796, 0.48350507, 0.40848702],\n",
              "       [0.12354109, 0.5266401 , 0.3498188 ],\n",
              "       [0.12672988, 0.52551377, 0.34775642],\n",
              "       [0.12604155, 0.5260317 , 0.3479268 ],\n",
              "       [0.1315562 , 0.53582484, 0.33261898],\n",
              "       [0.12390981, 0.5284217 , 0.34766853],\n",
              "       [0.12833738, 0.517124  , 0.35453862],\n",
              "       [0.01186759, 0.06969103, 0.91844136],\n",
              "       [0.01500001, 0.08426897, 0.900731  ],\n",
              "       [0.02627297, 0.13490957, 0.83881754],\n",
              "       [0.12848672, 0.5281736 , 0.34333965],\n",
              "       [0.01390578, 0.0796452 , 0.906449  ],\n",
              "       [0.1335303 , 0.5411004 , 0.32536933],\n",
              "       [0.12725656, 0.5247839 , 0.34795955],\n",
              "       [0.10200675, 0.4573289 , 0.4406643 ],\n",
              "       [0.0068698 , 0.04462345, 0.9485068 ],\n",
              "       [0.01779041, 0.09762985, 0.8845798 ],\n",
              "       [0.00574986, 0.03832687, 0.95592326],\n",
              "       [0.1307421 , 0.53035676, 0.3389011 ],\n",
              "       [0.1134028 , 0.50695026, 0.379647  ],\n",
              "       [0.00684723, 0.04423318, 0.94891965],\n",
              "       [0.00780426, 0.04954365, 0.94265205],\n",
              "       [0.01761983, 0.09682274, 0.8855575 ],\n",
              "       [0.0068698 , 0.04462345, 0.9485068 ],\n",
              "       [0.11777959, 0.49735823, 0.38486224],\n",
              "       [0.02146695, 0.11248628, 0.8660468 ],\n",
              "       [0.12662111, 0.5262579 , 0.34712106],\n",
              "       [0.08194443, 0.3823066 , 0.53574896],\n",
              "       [0.12344779, 0.505359  , 0.37119323],\n",
              "       [0.10814816, 0.47268605, 0.41916573],\n",
              "       [0.13199808, 0.52752036, 0.34048158],\n",
              "       [0.12609793, 0.5220846 , 0.3518175 ],\n",
              "       [0.00574024, 0.03837509, 0.9558847 ],\n",
              "       [0.11481118, 0.4757156 , 0.40947324],\n",
              "       [0.135608  , 0.5458028 , 0.31858927],\n",
              "       [0.1280373 , 0.53018737, 0.34177527],\n",
              "       [0.1299114 , 0.5281253 , 0.34196332],\n",
              "       [0.00591865, 0.03920326, 0.9548781 ],\n",
              "       [0.12212424, 0.5151297 , 0.3627461 ],\n",
              "       [0.00570823, 0.03807186, 0.95621985],\n",
              "       [0.02458675, 0.1273613 , 0.84805197],\n",
              "       [0.00663501, 0.04320129, 0.9501637 ],\n",
              "       [0.00591865, 0.03920326, 0.9548781 ],\n",
              "       [0.06686973, 0.3057323 , 0.62739795],\n",
              "       [0.02225967, 0.11814006, 0.8596003 ],\n",
              "       [0.00570823, 0.03807186, 0.95621985],\n",
              "       [0.04989485, 0.25087675, 0.6992284 ],\n",
              "       [0.11772689, 0.49581578, 0.38645732],\n",
              "       [0.00696028, 0.04411923, 0.9489205 ],\n",
              "       [0.00690971, 0.04450207, 0.94858825],\n",
              "       [0.12863545, 0.5277362 , 0.34362835],\n",
              "       [0.13297924, 0.53154814, 0.33547264],\n",
              "       [0.00696028, 0.04411923, 0.9489205 ],\n",
              "       [0.11887745, 0.5060736 , 0.37504894],\n",
              "       [0.06773383, 0.3103848 , 0.62188137],\n",
              "       [0.12031818, 0.50599647, 0.3736853 ],\n",
              "       [0.01744356, 0.09698716, 0.8855693 ],\n",
              "       [0.03226111, 0.15969786, 0.80804104],\n",
              "       [0.00570823, 0.03807186, 0.95621985],\n",
              "       [0.05282494, 0.25573456, 0.6914405 ],\n",
              "       [0.11960057, 0.51299864, 0.36740083],\n",
              "       [0.12395089, 0.5205333 , 0.35551578],\n",
              "       [0.01984817, 0.10653557, 0.8736162 ],\n",
              "       [0.11887766, 0.49623907, 0.38488322],\n",
              "       [0.12378829, 0.5122624 , 0.36394933],\n",
              "       [0.0068698 , 0.04462345, 0.9485068 ],\n",
              "       [0.00958709, 0.05851088, 0.931902  ],\n",
              "       [0.01121341, 0.06762236, 0.9211643 ],\n",
              "       [0.12869735, 0.51703006, 0.35427254],\n",
              "       [0.11692069, 0.49798086, 0.3850985 ],\n",
              "       [0.12177368, 0.51316714, 0.36505917],\n",
              "       [0.13091184, 0.5228448 , 0.34624332],\n",
              "       [0.13004664, 0.5401207 , 0.32983267],\n",
              "       [0.12646575, 0.51338947, 0.36014485],\n",
              "       [0.00679653, 0.04360132, 0.9496022 ],\n",
              "       [0.1153099 , 0.4962102 , 0.38847995],\n",
              "       [0.13422923, 0.54203343, 0.3237373 ],\n",
              "       [0.13129917, 0.5333005 , 0.33540037],\n",
              "       [0.10118753, 0.455285  , 0.44352743],\n",
              "       [0.01563231, 0.08696542, 0.8974023 ],\n",
              "       [0.00489394, 0.03374557, 0.9613605 ],\n",
              "       [0.1119896 , 0.4887472 , 0.39926317],\n",
              "       [0.02477891, 0.12661195, 0.8486091 ],\n",
              "       [0.12793756, 0.5412736 , 0.3307889 ],\n",
              "       [0.00584121, 0.03876253, 0.95539623],\n",
              "       [0.01148571, 0.06813609, 0.92037827],\n",
              "       [0.13681567, 0.5376501 , 0.32553422],\n",
              "       [0.07857569, 0.38187873, 0.5395456 ],\n",
              "       [0.1301389 , 0.52231646, 0.34754467],\n",
              "       [0.1303127 , 0.53604585, 0.3336414 ],\n",
              "       [0.00690909, 0.04441673, 0.9486742 ],\n",
              "       [0.12156091, 0.5137464 , 0.3646927 ],\n",
              "       [0.12752205, 0.5252644 , 0.3472136 ],\n",
              "       [0.0201067 , 0.10776023, 0.87213314],\n",
              "       [0.00952397, 0.05808762, 0.9323884 ],\n",
              "       [0.12436152, 0.5191384 , 0.35650003],\n",
              "       [0.09440402, 0.42375302, 0.481843  ],\n",
              "       [0.01669377, 0.09219568, 0.89111054],\n",
              "       [0.10219239, 0.4631375 , 0.4346701 ],\n",
              "       [0.09933006, 0.44465128, 0.45601866],\n",
              "       [0.02585347, 0.13209836, 0.8420481 ],\n",
              "       [0.00579758, 0.03881784, 0.95538455],\n",
              "       [0.09731315, 0.43353707, 0.46914983],\n",
              "       [0.12941754, 0.52730566, 0.34327683],\n",
              "       [0.02206859, 0.11571312, 0.8622183 ],\n",
              "       [0.12625381, 0.5160261 , 0.35772008],\n",
              "       [0.02479159, 0.12657484, 0.8486336 ],\n",
              "       [0.12647262, 0.5322193 , 0.34130812],\n",
              "       [0.1296623 , 0.52246034, 0.3478773 ],\n",
              "       [0.00944588, 0.05817955, 0.9323746 ],\n",
              "       [0.12935324, 0.52724457, 0.34340218],\n",
              "       [0.13446409, 0.53506327, 0.33047268],\n",
              "       [0.13268228, 0.5343232 , 0.33299452],\n",
              "       [0.10619396, 0.47091708, 0.4228889 ],\n",
              "       [0.0068698 , 0.04462345, 0.9485068 ],\n",
              "       [0.11579592, 0.49631646, 0.38788754],\n",
              "       [0.01899842, 0.10144493, 0.87955666],\n",
              "       [0.00696028, 0.04411923, 0.9489205 ],\n",
              "       [0.12728669, 0.5166472 , 0.35606614],\n",
              "       [0.12134361, 0.50892913, 0.3697272 ],\n",
              "       [0.12030119, 0.5042925 , 0.37540635],\n",
              "       [0.09617544, 0.44081572, 0.46300885],\n",
              "       [0.01838967, 0.09940467, 0.88220567],\n",
              "       [0.12664172, 0.5334512 , 0.33990705],\n",
              "       [0.01978716, 0.10618787, 0.8740249 ],\n",
              "       [0.13034904, 0.54239273, 0.32725823],\n",
              "       [0.13503595, 0.5360713 , 0.32889277],\n",
              "       [0.11061919, 0.499583  , 0.38979784],\n",
              "       [0.12765083, 0.54118395, 0.33116525],\n",
              "       [0.12532954, 0.5265186 , 0.34815192],\n",
              "       [0.123781  , 0.5149026 , 0.36131635],\n",
              "       [0.12965712, 0.53290594, 0.33743688],\n",
              "       [0.13488129, 0.5434612 , 0.32165754],\n",
              "       [0.12741618, 0.5155048 , 0.35707903],\n",
              "       [0.01642607, 0.09179627, 0.89177763],\n",
              "       [0.12334087, 0.51621443, 0.36044472],\n",
              "       [0.09921008, 0.44702476, 0.45376506],\n",
              "       [0.08689849, 0.4048739 , 0.50822765],\n",
              "       [0.12799007, 0.52328503, 0.3487249 ],\n",
              "       [0.02437546, 0.12351139, 0.8521131 ],\n",
              "       [0.10873304, 0.4720966 , 0.41917035],\n",
              "       [0.1280812 , 0.53096503, 0.34095374],\n",
              "       [0.03318616, 0.16289224, 0.80392164],\n",
              "       [0.0068698 , 0.04462345, 0.9485068 ],\n",
              "       [0.12861578, 0.52771735, 0.3436668 ],\n",
              "       [0.13202187, 0.54207397, 0.32590416],\n",
              "       [0.12182098, 0.50918657, 0.3689925 ],\n",
              "       [0.1283577 , 0.5363098 , 0.33533257],\n",
              "       [0.12947331, 0.53464556, 0.3358811 ],\n",
              "       [0.00570823, 0.03807186, 0.95621985],\n",
              "       [0.12456945, 0.5166902 , 0.35874027],\n",
              "       [0.12586093, 0.523922  , 0.35021698],\n",
              "       [0.1181092 , 0.49864766, 0.3832431 ],\n",
              "       [0.12457661, 0.5206567 , 0.3547667 ],\n",
              "       [0.13350144, 0.5389574 , 0.32754114],\n",
              "       [0.0392823 , 0.19135715, 0.76936054],\n",
              "       [0.12711519, 0.5275399 , 0.34534493],\n",
              "       [0.13179268, 0.53404737, 0.33415994],\n",
              "       [0.12707339, 0.5164688 , 0.35645777],\n",
              "       [0.08044301, 0.38188758, 0.53766936],\n",
              "       [0.12633206, 0.5131946 , 0.36047336],\n",
              "       [0.12598701, 0.52533   , 0.34868297],\n",
              "       [0.0068698 , 0.04462345, 0.9485068 ],\n",
              "       [0.12366591, 0.5258779 , 0.35045624],\n",
              "       [0.12952037, 0.5272053 , 0.34327435],\n",
              "       [0.02168262, 0.11405774, 0.86425966],\n",
              "       [0.12935163, 0.5349872 , 0.3356611 ],\n",
              "       [0.12617478, 0.5179189 , 0.35590634],\n",
              "       [0.11072451, 0.47455606, 0.41471946],\n",
              "       [0.06697569, 0.31984842, 0.61317587],\n",
              "       [0.11826179, 0.5010388 , 0.3806994 ],\n",
              "       [0.12069188, 0.50149566, 0.37781247],\n",
              "       [0.11816532, 0.50297755, 0.37885714],\n",
              "       [0.02086571, 0.10992402, 0.8692103 ],\n",
              "       [0.12221771, 0.5161452 , 0.3616371 ],\n",
              "       [0.05759361, 0.28532624, 0.6570801 ],\n",
              "       [0.13341121, 0.5440163 , 0.3225725 ],\n",
              "       [0.01870049, 0.10105435, 0.88024515],\n",
              "       [0.12840486, 0.52134556, 0.3502496 ],\n",
              "       [0.13087374, 0.52878684, 0.34033942],\n",
              "       [0.12657002, 0.5173699 , 0.35606006],\n",
              "       [0.05032601, 0.25696397, 0.69271   ],\n",
              "       [0.137304  , 0.5418589 , 0.32083705],\n",
              "       [0.13312805, 0.5496312 , 0.31724072],\n",
              "       [0.12836584, 0.5359416 , 0.33569255],\n",
              "       [0.10163188, 0.46268564, 0.4356825 ],\n",
              "       [0.1129342 , 0.4787128 , 0.408353  ],\n",
              "       [0.03273906, 0.16021608, 0.8070448 ],\n",
              "       [0.01541399, 0.08660035, 0.8979857 ],\n",
              "       [0.12759092, 0.5244022 , 0.34800687],\n",
              "       [0.13055149, 0.5400937 , 0.32935476],\n",
              "       [0.09998333, 0.45537668, 0.44463995],\n",
              "       [0.12828393, 0.51550484, 0.35621127],\n",
              "       [0.00570823, 0.03807186, 0.95621985],\n",
              "       [0.03001188, 0.15099283, 0.81899536],\n",
              "       [0.128653  , 0.5235172 , 0.3478298 ],\n",
              "       [0.1306313 , 0.54264075, 0.32672796],\n",
              "       [0.12770686, 0.5210664 , 0.3512267 ],\n",
              "       [0.12526718, 0.5206341 , 0.35409868],\n",
              "       [0.13076723, 0.5295475 , 0.33968526],\n",
              "       [0.03932444, 0.18986434, 0.77081126],\n",
              "       [0.13073888, 0.5272729 , 0.3419882 ],\n",
              "       [0.03293349, 0.16458158, 0.8024849 ],\n",
              "       [0.12410612, 0.5177783 , 0.3581156 ],\n",
              "       [0.13545859, 0.53699315, 0.32754824],\n",
              "       [0.13544261, 0.53515494, 0.32940242],\n",
              "       [0.11975185, 0.49914852, 0.38109964],\n",
              "       [0.10973007, 0.48073557, 0.40953434],\n",
              "       [0.12870897, 0.5378732 , 0.3334178 ],\n",
              "       [0.1285884 , 0.5263174 , 0.3450942 ],\n",
              "       [0.1148703 , 0.48851538, 0.3966144 ],\n",
              "       [0.13055614, 0.52900445, 0.3404394 ],\n",
              "       [0.04410873, 0.22730252, 0.72858876],\n",
              "       [0.13443136, 0.5279522 , 0.33761638],\n",
              "       [0.0176245 , 0.0966196 , 0.8857559 ],\n",
              "       [0.12613288, 0.52465326, 0.34921387],\n",
              "       [0.11935216, 0.49260697, 0.38804093],\n",
              "       [0.00976159, 0.05998118, 0.93025726],\n",
              "       [0.11493523, 0.47414866, 0.41091606],\n",
              "       [0.05887258, 0.29599622, 0.6451312 ],\n",
              "       [0.13617815, 0.5503636 , 0.3134582 ],\n",
              "       [0.09225771, 0.42381364, 0.4839286 ],\n",
              "       [0.0101737 , 0.06004823, 0.92977804],\n",
              "       [0.02829369, 0.14298397, 0.82872236],\n",
              "       [0.13081697, 0.5241664 , 0.3450166 ],\n",
              "       [0.1304883 , 0.5302172 , 0.33929458],\n",
              "       [0.13014519, 0.5378449 , 0.3320099 ],\n",
              "       [0.13032474, 0.52354664, 0.3461286 ],\n",
              "       [0.13214864, 0.53007853, 0.33777285],\n",
              "       [0.1327594 , 0.53692657, 0.33031404],\n",
              "       [0.02995912, 0.14737044, 0.8226704 ],\n",
              "       [0.01952097, 0.10505067, 0.8754283 ],\n",
              "       [0.13004905, 0.5316188 , 0.33833218],\n",
              "       [0.12588456, 0.51629287, 0.35782257],\n",
              "       [0.13569878, 0.54553026, 0.3187709 ],\n",
              "       [0.12863058, 0.525136  , 0.34623343],\n",
              "       [0.12432577, 0.5159926 , 0.3596817 ],\n",
              "       [0.12705955, 0.5226247 , 0.3503158 ],\n",
              "       [0.1264533 , 0.52571476, 0.34783193],\n",
              "       [0.11202072, 0.47510043, 0.41287884],\n",
              "       [0.13034174, 0.52697694, 0.34268132],\n",
              "       [0.13142191, 0.5288806 , 0.33969754],\n",
              "       [0.00570823, 0.03807186, 0.95621985],\n",
              "       [0.08861942, 0.39708892, 0.5142917 ],\n",
              "       [0.13343164, 0.5460116 , 0.32055676],\n",
              "       [0.09595414, 0.42363286, 0.48041308],\n",
              "       [0.07821903, 0.37077415, 0.5510068 ],\n",
              "       [0.12710406, 0.5197008 , 0.3531952 ],\n",
              "       [0.1227108 , 0.5131054 , 0.3641838 ],\n",
              "       [0.13539292, 0.5283421 , 0.33626503],\n",
              "       [0.00677855, 0.0436491 , 0.9495724 ],\n",
              "       [0.12861343, 0.51507187, 0.3563147 ],\n",
              "       [0.05652837, 0.2696669 , 0.67380464],\n",
              "       [0.12461128, 0.518329  , 0.35705972],\n",
              "       [0.00986748, 0.05904143, 0.93109107],\n",
              "       [0.12972587, 0.5320671 , 0.33820704],\n",
              "       [0.00690909, 0.04441673, 0.9486742 ],\n",
              "       [0.12984201, 0.53061   , 0.33954793],\n",
              "       [0.13004917, 0.5287066 , 0.3412442 ],\n",
              "       [0.01643264, 0.09075938, 0.892808  ],\n",
              "       [0.12592262, 0.51897216, 0.35510525],\n",
              "       [0.00570823, 0.03807186, 0.95621985],\n",
              "       [0.13470359, 0.53557247, 0.32972398],\n",
              "       [0.13040173, 0.52738535, 0.34221298],\n",
              "       [0.13192819, 0.53091913, 0.33715263],\n",
              "       [0.12682539, 0.52453256, 0.34864208],\n",
              "       [0.12240142, 0.51653296, 0.36106557],\n",
              "       [0.12552945, 0.5184706 , 0.35599998],\n",
              "       [0.01484183, 0.08439395, 0.9007642 ],\n",
              "       [0.12332906, 0.50848216, 0.3681888 ],\n",
              "       [0.08748208, 0.40375096, 0.508767  ],\n",
              "       [0.11959334, 0.5042761 , 0.37613058],\n",
              "       [0.09058411, 0.40865368, 0.5007622 ],\n",
              "       [0.01681505, 0.09183031, 0.8913546 ],\n",
              "       [0.12830275, 0.5311502 , 0.34054703],\n",
              "       [0.03015089, 0.15103827, 0.8188108 ],\n",
              "       [0.13118432, 0.5340789 , 0.33473682],\n",
              "       [0.0244265 , 0.1242622 , 0.8513113 ],\n",
              "       [0.12935168, 0.52678   , 0.3438683 ],\n",
              "       [0.00653616, 0.04218659, 0.9512772 ],\n",
              "       [0.0118777 , 0.06835311, 0.9197692 ],\n",
              "       [0.12533545, 0.5342829 , 0.3403816 ],\n",
              "       [0.12479199, 0.5169181 , 0.35828993],\n",
              "       [0.12727258, 0.5223925 , 0.35033488],\n",
              "       [0.12952496, 0.5348713 , 0.3356037 ],\n",
              "       [0.13112952, 0.5369087 , 0.33196184],\n",
              "       [0.12656641, 0.50967705, 0.36375654],\n",
              "       [0.1293626 , 0.5301694 , 0.34046796],\n",
              "       [0.13507129, 0.541899  , 0.3230297 ],\n",
              "       [0.13287552, 0.53092015, 0.33620432],\n",
              "       [0.12745328, 0.52496547, 0.34758127],\n",
              "       [0.0975211 , 0.43136394, 0.47111496],\n",
              "       [0.12447093, 0.5239874 , 0.35154167],\n",
              "       [0.12876938, 0.52312684, 0.34810382],\n",
              "       [0.02129553, 0.11203761, 0.86666685],\n",
              "       [0.122118  , 0.51625544, 0.3616266 ],\n",
              "       [0.12766083, 0.51788974, 0.35444948],\n",
              "       [0.0963132 , 0.4167282 , 0.4869586 ],\n",
              "       [0.12448781, 0.5263961 , 0.3491161 ],\n",
              "       [0.13077211, 0.52504116, 0.34418675],\n",
              "       [0.129423  , 0.5305751 , 0.34000185],\n",
              "       [0.11384313, 0.48886195, 0.3972949 ],\n",
              "       [0.11866632, 0.48957717, 0.3917565 ],\n",
              "       [0.11557076, 0.49733895, 0.38709033],\n",
              "       [0.08879618, 0.42202964, 0.4891741 ],\n",
              "       [0.12220423, 0.51163447, 0.36616126]], dtype=float32)"
            ]
          },
          "metadata": {
            "tags": []
          },
          "execution_count": 23
        }
      ]
    },
    {
      "metadata": {
        "id": "WlofJWXDPqco",
        "colab_type": "code",
        "colab": {}
      },
      "cell_type": "code",
      "source": [
        "for r in predictRnn:\n",
        "  maxValueIndex =r.argmax()\n",
        "  #print(maxValueIndex)\n",
        "  r[0] = 0.0\n",
        "  r[1] = 0.0\n",
        "  r[2] = 0.0\n",
        "  r[maxValueIndex] = 1.0\n",
        "  \n",
        "  "
      ],
      "execution_count": 0,
      "outputs": []
    },
    {
      "metadata": {
        "id": "4eY64IL0-T8S",
        "colab_type": "text"
      },
      "cell_type": "markdown",
      "source": [
        "**CONFUSION MATRIX**"
      ]
    },
    {
      "metadata": {
        "id": "YNMw9HbDVCBx",
        "colab_type": "code",
        "outputId": "81a1e783-a7d7-4130-f69f-76be81cc142e",
        "colab": {
          "base_uri": "https://localhost:8080/",
          "height": 87
        }
      },
      "cell_type": "code",
      "source": [
        "from sklearn.metrics import confusion_matrix\n",
        "cm = confusion_matrix(Y_valid.argmax(axis=1), predictRnn.argmax(axis =1)) \n",
        "print('Confusion Matrix :')\n",
        "print(cm) "
      ],
      "execution_count": 0,
      "outputs": [
        {
          "output_type": "stream",
          "text": [
            "Confusion Matrix :\n",
            "[[  0  26   5]\n",
            " [  0 115  19]\n",
            " [  0  69  96]]\n"
          ],
          "name": "stdout"
        }
      ]
    },
    {
      "metadata": {
        "id": "rHEC0AkuY3X2",
        "colab_type": "code",
        "outputId": "07246858-271f-4e8f-edea-208fbd34be4e",
        "colab": {
          "base_uri": "https://localhost:8080/",
          "height": 297
        }
      },
      "cell_type": "code",
      "source": [
        "import seaborn as sns\n",
        "LABELS = ['negative', 'positive','neutral']\n",
        "a = sns.heatmap(cm, annot=True, xticklabels=LABELS, yticklabels=LABELS, fmt='g')\n",
        "a.set(xlabel='Predicted', ylabel='Actual')\n",
        "a.plot()\n",
        "# xl = plt.xlabel(\"Predicted\")\n",
        "\n",
        "# yl = plt.ylabel(\"Actual\")"
      ],
      "execution_count": 0,
      "outputs": [
        {
          "output_type": "execute_result",
          "data": {
            "text/plain": [
              "[]"
            ]
          },
          "metadata": {
            "tags": []
          },
          "execution_count": 35
        },
        {
          "output_type": "display_data",
          "data": {
            "image/png": "[encoded data removed]",
            "text/plain": [
              "<Figure size 432x288 with 2 Axes>"
            ]
          },
          "metadata": {
            "tags": []
          }
        }
      ]
    }
  ]
}