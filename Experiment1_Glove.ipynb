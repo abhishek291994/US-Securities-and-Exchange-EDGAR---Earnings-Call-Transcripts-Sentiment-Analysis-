{
  "nbformat": 4,
  "nbformat_minor": 0,
  "metadata": {
    "colab": {
      "name": "Untitled",
      "version": "0.3.2",
      "provenance": [],
      "collapsed_sections": []
    },
    "kernelspec": {
      "name": "python3",
      "display_name": "Python 3"
    }
  },
  "cells": [
    {
      "metadata": {
        "id": "pjrILxdrAl84",
        "colab_type": "text"
      },
      "cell_type": "markdown",
      "source": [
        "**IMPORT REQUIRED LIBRARIES**"
      ]
    },
    {
      "metadata": {
        "id": "2XpknkwBEIXh",
        "colab_type": "code",
        "outputId": "1c635e4c-2e5b-46e4-f65e-69888ced7a01",
        "colab": {
          "base_uri": "https://localhost:8080/",
          "height": 34
        }
      },
      "cell_type": "code",
      "source": [
        "import pandas as pd \n",
        "from keras.models import Sequential,Model\n",
        "from keras.layers import Embedding, SimpleRNN,Input\n",
        "from keras.datasets import imdb\n",
        "from keras.preprocessing import sequence\n",
        "from keras.layers import Dense,Dropout\n",
        "from keras.layers import Embedding, Flatten, Dense,Conv1D,MaxPooling1D\n",
        "from keras.preprocessing.text import Tokenizer\n",
        "from keras.preprocessing.sequence import pad_sequences\n",
        "from sklearn import preprocessing\n",
        "import numpy as np\n",
        "import keras\n",
        "import matplotlib.pyplot as plt\n",
        "from sklearn.model_selection import train_test_split\n",
        "import itertools    \n",
        "import seaborn as sns\n",
        "from sklearn.metrics import confusion_matrix\n",
        "from keras.utils import to_categorical\n",
        "from collections import Counter\n"
      ],
      "execution_count": 0,
      "outputs": [
        {
          "output_type": "stream",
          "text": [
            "Using TensorFlow backend.\n"
          ],
          "name": "stderr"
        }
      ]
    },
    {
      "metadata": {
        "id": "zemp-CgPAqAj",
        "colab_type": "text"
      },
      "cell_type": "markdown",
      "source": [
        "**DATA PREPROCESSING**"
      ]
    },
    {
      "metadata": {
        "id": "IJW16fhZElkR",
        "colab_type": "code",
        "colab": {}
      },
      "cell_type": "code",
      "source": [
        "data = pd.read_json(\"earnings_call_ip_data.json\",orient='columns')\n",
        "data_inputs =  data[\"text\"].get_values()\n",
        "# Convert sentiments into 0,1,2\n",
        "sent = {'positive': 1,'negative': 0,'neutral': 2} \n",
        "data.sentiment = [sent[item] for item in data.sentiment] "
      ],
      "execution_count": 0,
      "outputs": []
    },
    {
      "metadata": {
        "id": "_AJSk6eZEozQ",
        "colab_type": "code",
        "colab": {}
      },
      "cell_type": "code",
      "source": [
        "data_labels = data.sentiment"
      ],
      "execution_count": 0,
      "outputs": []
    },
    {
      "metadata": {
        "id": "4bURl9nwAyHI",
        "colab_type": "text"
      },
      "cell_type": "markdown",
      "source": [
        "**TOKENIZING WORDS **"
      ]
    },
    {
      "metadata": {
        "id": "0cFMTe_ZEusT",
        "colab_type": "code",
        "outputId": "5d03d8ec-72dc-4b95-949a-a9e99e84e39e",
        "colab": {
          "base_uri": "https://localhost:8080/",
          "height": 124
        }
      },
      "cell_type": "code",
      "source": [
        "tokenizer = Tokenizer(nb_words=2000)\n",
        "tokenizer.fit_on_texts(data_inputs)\n",
        "sequences = tokenizer.texts_to_sequences(data_inputs)\n",
        "\n",
        "word_index = tokenizer.word_index\n",
        "print('Found %s unique tokens.' % len(word_index))\n",
        "\n",
        "data = pad_sequences(sequences, maxlen=1000)\n",
        "\n",
        "labels = keras.utils.to_categorical(np.asarray(data_labels))\n",
        "print('Shape of data tensor:', data.shape)\n",
        "print('Shape of label tensor:', labels.shape)\n",
        "\n"
      ],
      "execution_count": 0,
      "outputs": [
        {
          "output_type": "stream",
          "text": [
            "/usr/local/lib/python3.6/dist-packages/keras_preprocessing/text.py:178: UserWarning: The `nb_words` argument in `Tokenizer` has been renamed `num_words`.\n",
            "  warnings.warn('The `nb_words` argument in `Tokenizer` '\n"
          ],
          "name": "stderr"
        },
        {
          "output_type": "stream",
          "text": [
            "Found 6395 unique tokens.\n",
            "Shape of data tensor: (1649, 1000)\n",
            "Shape of label tensor: (1649, 3)\n"
          ],
          "name": "stdout"
        }
      ]
    },
    {
      "metadata": {
        "id": "2_OkDCnuEvnW",
        "colab_type": "code",
        "colab": {}
      },
      "cell_type": "code",
      "source": [
        "indices = np.arange(data.shape[0])\n",
        "np.random.shuffle(indices)\n",
        "data = data[indices]\n",
        "labels = labels[indices]\n",
        "nb_validation_samples = int(.20 * data.shape[0])\n",
        "\n",
        "x_train = data[:-nb_validation_samples]\n",
        "y_train = labels[:-nb_validation_samples]\n",
        "x_val = data[-nb_validation_samples:]\n",
        "y_val = labels[-nb_validation_samples:]"
      ],
      "execution_count": 0,
      "outputs": []
    },
    {
      "metadata": {
        "id": "cPeT4oF9C2Hb",
        "colab_type": "text"
      },
      "cell_type": "markdown",
      "source": [
        "**CREATING EMBEDDING MATRIX WITH HELP OF PRETRAINED MODEL**\n",
        "\n",
        "Model used: Glove\n"
      ]
    },
    {
      "metadata": {
        "id": "OX96Rvo-FCh8",
        "colab_type": "code",
        "outputId": "c3900908-6678-480d-f07e-d9c383ca9a50",
        "colab": {
          "base_uri": "https://localhost:8080/",
          "height": 34
        }
      },
      "cell_type": "code",
      "source": [
        "embeddings_index = {}\n",
        "f = open( 'glove_pre.txt')\n",
        "for line in f:\n",
        "    values = line.split()\n",
        "    word = values[0]\n",
        "    coefs = np.asarray(values[1:], dtype='float32')\n",
        "    embeddings_index[word] = coefs\n",
        "f.close()\n",
        "\n",
        "print('Found %s word vectors.' % len(embeddings_index))"
      ],
      "execution_count": 0,
      "outputs": [
        {
          "output_type": "stream",
          "text": [
            "Found 12230 word vectors.\n"
          ],
          "name": "stdout"
        }
      ]
    },
    {
      "metadata": {
        "id": "jgy08E2GFGiA",
        "colab_type": "code",
        "colab": {}
      },
      "cell_type": "code",
      "source": [
        "embedding_matrix = np.zeros((len(word_index) + 1, 100))\n",
        "for word, i in word_index.items():\n",
        "    embedding_vector = embeddings_index.get(word)\n",
        "    if embedding_vector is not None:\n",
        "        # words not found in embedding index will be all-zeros.\n",
        "        embedding_matrix[i] = embedding_vector\n"
      ],
      "execution_count": 0,
      "outputs": []
    },
    {
      "metadata": {
        "id": "57k8tNZHDICy",
        "colab_type": "text"
      },
      "cell_type": "markdown",
      "source": [
        "**MODEL CREATION**"
      ]
    },
    {
      "metadata": {
        "id": "oAOHwE3vFIXz",
        "colab_type": "code",
        "colab": {}
      },
      "cell_type": "code",
      "source": [
        "\n",
        "embedding_layer = Embedding(len(word_index) + 1,\n",
        "                            100,\n",
        "                            weights=[embedding_matrix],\n",
        "                            input_length=1000,\n",
        "                            trainable=False)\n"
      ],
      "execution_count": 0,
      "outputs": []
    },
    {
      "metadata": {
        "id": "C6piaaY9FKYM",
        "colab_type": "code",
        "colab": {}
      },
      "cell_type": "code",
      "source": [
        "def model_creation():\n",
        "  input_layer = Input(shape=(1000,), dtype='int32')\n",
        "  embed_layer = embedding_layer(input_layer)\n",
        "  x = Dense(100,activation='relu')(embed_layer)\n",
        "  x = Dense(50,activation='relu', kernel_regularizer=keras.regularizers.l2(0.002))(x)\n",
        "  x = Flatten()(x)\n",
        "  x = Dense(50,activation='relu', kernel_regularizer=keras.regularizers.l2(0.002))(x)\n",
        "  x = Dropout(0.5)(x)\n",
        "  x = Dense(50, activation='relu')(x)\n",
        "  x = Dropout(0.5)(x)\n",
        "  #x = Dense(512, activation='relu')(x)\n",
        "  #x = Dropout(0.4)(x)\n",
        "  final_layer = Dense(3, activation='softmax')(x)\n",
        "  opt = keras.optimizers.Adam(lr= learning_rate, beta_1=0.9, beta_2=0.999, epsilon=None, decay=0.0, amsgrad=False)\n",
        "  model = Model(input_layer,final_layer)\n",
        "  model.compile(loss='categorical_crossentropy',\n",
        "              optimizer=opt,\n",
        "              metrics=['acc'])\n",
        "  return model "
      ],
      "execution_count": 0,
      "outputs": []
    },
    {
      "metadata": {
        "id": "8KKL4ZOIFMmm",
        "colab_type": "code",
        "outputId": "c90eded5-6ac2-452b-8e9f-293f92b23aa5",
        "colab": {
          "base_uri": "https://localhost:8080/",
          "height": 7001
        }
      },
      "cell_type": "code",
      "source": [
        "learning_rate = 0.0001\n",
        "batch_size = 1024\n",
        "epochs = 200\n",
        "model_glove = model_creation()\n",
        "model_final = model_glove.fit(x_train, y_train, validation_data=(x_val, y_val),epochs=epochs, batch_size=batch_size)"
      ],
      "execution_count": 0,
      "outputs": [
        {
          "output_type": "stream",
          "text": [
            "Train on 1320 samples, validate on 329 samples\n",
            "Epoch 1/200\n",
            "1320/1320 [==============================] - 8s 6ms/step - loss: 1.4763 - acc: 0.3076 - val_loss: 1.4042 - val_acc: 0.5410\n",
            "Epoch 2/200\n",
            "1320/1320 [==============================] - 5s 4ms/step - loss: 1.4176 - acc: 0.3985 - val_loss: 1.3704 - val_acc: 0.6322\n",
            "Epoch 3/200\n",
            "1320/1320 [==============================] - 5s 4ms/step - loss: 1.3820 - acc: 0.4667 - val_loss: 1.3448 - val_acc: 0.6383\n",
            "Epoch 4/200\n",
            "1320/1320 [==============================] - 5s 4ms/step - loss: 1.3755 - acc: 0.4841 - val_loss: 1.3213 - val_acc: 0.6383\n",
            "Epoch 5/200\n",
            "1320/1320 [==============================] - 5s 4ms/step - loss: 1.3692 - acc: 0.4848 - val_loss: 1.3017 - val_acc: 0.6292\n",
            "Epoch 6/200\n",
            "1320/1320 [==============================] - 5s 4ms/step - loss: 1.3555 - acc: 0.5205 - val_loss: 1.2855 - val_acc: 0.6353\n",
            "Epoch 7/200\n",
            "1320/1320 [==============================] - 5s 4ms/step - loss: 1.3422 - acc: 0.4985 - val_loss: 1.2720 - val_acc: 0.6505\n",
            "Epoch 8/200\n",
            "1320/1320 [==============================] - 5s 4ms/step - loss: 1.3184 - acc: 0.5129 - val_loss: 1.2589 - val_acc: 0.6535\n",
            "Epoch 9/200\n",
            "1320/1320 [==============================] - 5s 4ms/step - loss: 1.3086 - acc: 0.5250 - val_loss: 1.2479 - val_acc: 0.6535\n",
            "Epoch 10/200\n",
            "1320/1320 [==============================] - 5s 4ms/step - loss: 1.2915 - acc: 0.5432 - val_loss: 1.2369 - val_acc: 0.6535\n",
            "Epoch 11/200\n",
            "1320/1320 [==============================] - 5s 4ms/step - loss: 1.2709 - acc: 0.5492 - val_loss: 1.2248 - val_acc: 0.6535\n",
            "Epoch 12/200\n",
            "1320/1320 [==============================] - 5s 4ms/step - loss: 1.2707 - acc: 0.5364 - val_loss: 1.2116 - val_acc: 0.6535\n",
            "Epoch 13/200\n",
            "1320/1320 [==============================] - 5s 4ms/step - loss: 1.2492 - acc: 0.5652 - val_loss: 1.1968 - val_acc: 0.6535\n",
            "Epoch 14/200\n",
            "1320/1320 [==============================] - 5s 4ms/step - loss: 1.2500 - acc: 0.5364 - val_loss: 1.1817 - val_acc: 0.6505\n",
            "Epoch 15/200\n",
            "1320/1320 [==============================] - 5s 4ms/step - loss: 1.2322 - acc: 0.5477 - val_loss: 1.1658 - val_acc: 0.6505\n",
            "Epoch 16/200\n",
            "1320/1320 [==============================] - 5s 4ms/step - loss: 1.2299 - acc: 0.5470 - val_loss: 1.1500 - val_acc: 0.6505\n",
            "Epoch 17/200\n",
            "1320/1320 [==============================] - 5s 4ms/step - loss: 1.2113 - acc: 0.5500 - val_loss: 1.1352 - val_acc: 0.6505\n",
            "Epoch 18/200\n",
            "1320/1320 [==============================] - 5s 4ms/step - loss: 1.2010 - acc: 0.5515 - val_loss: 1.1206 - val_acc: 0.6505\n",
            "Epoch 19/200\n",
            "1320/1320 [==============================] - 5s 4ms/step - loss: 1.2010 - acc: 0.5402 - val_loss: 1.1071 - val_acc: 0.6505\n",
            "Epoch 20/200\n",
            "1320/1320 [==============================] - 5s 4ms/step - loss: 1.1873 - acc: 0.5432 - val_loss: 1.0959 - val_acc: 0.6413\n",
            "Epoch 21/200\n",
            "1320/1320 [==============================] - 5s 4ms/step - loss: 1.1781 - acc: 0.5576 - val_loss: 1.0865 - val_acc: 0.6535\n",
            "Epoch 22/200\n",
            "1320/1320 [==============================] - 5s 4ms/step - loss: 1.1624 - acc: 0.5591 - val_loss: 1.0786 - val_acc: 0.6474\n",
            "Epoch 23/200\n",
            "1320/1320 [==============================] - 5s 4ms/step - loss: 1.1430 - acc: 0.5750 - val_loss: 1.0690 - val_acc: 0.6444\n",
            "Epoch 24/200\n",
            "1320/1320 [==============================] - 5s 4ms/step - loss: 1.1367 - acc: 0.5636 - val_loss: 1.0567 - val_acc: 0.6444\n",
            "Epoch 25/200\n",
            "1320/1320 [==============================] - 5s 4ms/step - loss: 1.1312 - acc: 0.5705 - val_loss: 1.0435 - val_acc: 0.6444\n",
            "Epoch 26/200\n",
            "1320/1320 [==============================] - 5s 4ms/step - loss: 1.1288 - acc: 0.5750 - val_loss: 1.0317 - val_acc: 0.6444\n",
            "Epoch 27/200\n",
            "1320/1320 [==============================] - 5s 4ms/step - loss: 1.1290 - acc: 0.5689 - val_loss: 1.0243 - val_acc: 0.6444\n",
            "Epoch 28/200\n",
            "1320/1320 [==============================] - 5s 4ms/step - loss: 1.1100 - acc: 0.5841 - val_loss: 1.0212 - val_acc: 0.6474\n",
            "Epoch 29/200\n",
            "1320/1320 [==============================] - 5s 4ms/step - loss: 1.1002 - acc: 0.5939 - val_loss: 1.0199 - val_acc: 0.6474\n",
            "Epoch 30/200\n",
            "1320/1320 [==============================] - 5s 4ms/step - loss: 1.1026 - acc: 0.5689 - val_loss: 1.0190 - val_acc: 0.6444\n",
            "Epoch 31/200\n",
            "1320/1320 [==============================] - 5s 4ms/step - loss: 1.1025 - acc: 0.5795 - val_loss: 1.0153 - val_acc: 0.6444\n",
            "Epoch 32/200\n",
            "1320/1320 [==============================] - 5s 4ms/step - loss: 1.0807 - acc: 0.5795 - val_loss: 1.0062 - val_acc: 0.6444\n",
            "Epoch 33/200\n",
            "1320/1320 [==============================] - 5s 4ms/step - loss: 1.0722 - acc: 0.5864 - val_loss: 0.9986 - val_acc: 0.6444\n",
            "Epoch 34/200\n",
            "1320/1320 [==============================] - 5s 4ms/step - loss: 1.0969 - acc: 0.5545 - val_loss: 0.9945 - val_acc: 0.6444\n",
            "Epoch 35/200\n",
            "1320/1320 [==============================] - 5s 4ms/step - loss: 1.0866 - acc: 0.5742 - val_loss: 0.9933 - val_acc: 0.6535\n",
            "Epoch 36/200\n",
            "1320/1320 [==============================] - 5s 4ms/step - loss: 1.0574 - acc: 0.6114 - val_loss: 0.9920 - val_acc: 0.6565\n",
            "Epoch 37/200\n",
            "1320/1320 [==============================] - 5s 4ms/step - loss: 1.0743 - acc: 0.5886 - val_loss: 0.9894 - val_acc: 0.6474\n",
            "Epoch 38/200\n",
            "1320/1320 [==============================] - 5s 4ms/step - loss: 1.0710 - acc: 0.5841 - val_loss: 0.9863 - val_acc: 0.6505\n",
            "Epoch 39/200\n",
            "1320/1320 [==============================] - 5s 4ms/step - loss: 1.0550 - acc: 0.5985 - val_loss: 0.9843 - val_acc: 0.6444\n",
            "Epoch 40/200\n",
            "1320/1320 [==============================] - 5s 4ms/step - loss: 1.0603 - acc: 0.5947 - val_loss: 0.9833 - val_acc: 0.6444\n",
            "Epoch 41/200\n",
            "1320/1320 [==============================] - 5s 4ms/step - loss: 1.0423 - acc: 0.5962 - val_loss: 0.9792 - val_acc: 0.6474\n",
            "Epoch 42/200\n",
            "1320/1320 [==============================] - 5s 4ms/step - loss: 1.0480 - acc: 0.5902 - val_loss: 0.9755 - val_acc: 0.6444\n",
            "Epoch 43/200\n",
            "1320/1320 [==============================] - 5s 4ms/step - loss: 1.0407 - acc: 0.5720 - val_loss: 0.9728 - val_acc: 0.6413\n",
            "Epoch 44/200\n",
            "1320/1320 [==============================] - 5s 4ms/step - loss: 1.0307 - acc: 0.6076 - val_loss: 0.9687 - val_acc: 0.6383\n",
            "Epoch 45/200\n",
            "1320/1320 [==============================] - 5s 4ms/step - loss: 1.0406 - acc: 0.5795 - val_loss: 0.9652 - val_acc: 0.6505\n",
            "Epoch 46/200\n",
            "1320/1320 [==============================] - 5s 4ms/step - loss: 1.0280 - acc: 0.6098 - val_loss: 0.9638 - val_acc: 0.6474\n",
            "Epoch 47/200\n",
            "1320/1320 [==============================] - 5s 4ms/step - loss: 1.0230 - acc: 0.6114 - val_loss: 0.9621 - val_acc: 0.6444\n",
            "Epoch 48/200\n",
            "1320/1320 [==============================] - 5s 4ms/step - loss: 1.0212 - acc: 0.6015 - val_loss: 0.9608 - val_acc: 0.6444\n",
            "Epoch 49/200\n",
            "1320/1320 [==============================] - 5s 4ms/step - loss: 1.0135 - acc: 0.6167 - val_loss: 0.9579 - val_acc: 0.6413\n",
            "Epoch 50/200\n",
            "1320/1320 [==============================] - 5s 4ms/step - loss: 1.0199 - acc: 0.6098 - val_loss: 0.9545 - val_acc: 0.6383\n",
            "Epoch 51/200\n",
            "1320/1320 [==============================] - 5s 4ms/step - loss: 1.0243 - acc: 0.6167 - val_loss: 0.9527 - val_acc: 0.6413\n",
            "Epoch 52/200\n",
            "1320/1320 [==============================] - 5s 4ms/step - loss: 1.0114 - acc: 0.6136 - val_loss: 0.9513 - val_acc: 0.6444\n",
            "Epoch 53/200\n",
            "1320/1320 [==============================] - 5s 4ms/step - loss: 1.0098 - acc: 0.6144 - val_loss: 0.9492 - val_acc: 0.6505\n",
            "Epoch 54/200\n",
            "1320/1320 [==============================] - 5s 4ms/step - loss: 0.9876 - acc: 0.6341 - val_loss: 0.9474 - val_acc: 0.6474\n",
            "Epoch 55/200\n",
            "1320/1320 [==============================] - 5s 4ms/step - loss: 1.0042 - acc: 0.6167 - val_loss: 0.9482 - val_acc: 0.6505\n",
            "Epoch 56/200\n",
            "1320/1320 [==============================] - 5s 4ms/step - loss: 0.9944 - acc: 0.6356 - val_loss: 0.9502 - val_acc: 0.6505\n",
            "Epoch 57/200\n",
            "1320/1320 [==============================] - 5s 4ms/step - loss: 0.9797 - acc: 0.6364 - val_loss: 0.9496 - val_acc: 0.6474\n",
            "Epoch 58/200\n",
            "1320/1320 [==============================] - 5s 4ms/step - loss: 0.9940 - acc: 0.6364 - val_loss: 0.9498 - val_acc: 0.6413\n",
            "Epoch 59/200\n",
            "1320/1320 [==============================] - 5s 4ms/step - loss: 0.9971 - acc: 0.6205 - val_loss: 0.9488 - val_acc: 0.6383\n",
            "Epoch 60/200\n",
            "1320/1320 [==============================] - 5s 4ms/step - loss: 0.9790 - acc: 0.6250 - val_loss: 0.9430 - val_acc: 0.6413\n",
            "Epoch 61/200\n",
            "1320/1320 [==============================] - 5s 4ms/step - loss: 0.9676 - acc: 0.6492 - val_loss: 0.9373 - val_acc: 0.6353\n",
            "Epoch 62/200\n",
            "1320/1320 [==============================] - 5s 4ms/step - loss: 0.9678 - acc: 0.6470 - val_loss: 0.9345 - val_acc: 0.6474\n",
            "Epoch 63/200\n",
            "1320/1320 [==============================] - 5s 4ms/step - loss: 0.9618 - acc: 0.6394 - val_loss: 0.9346 - val_acc: 0.6413\n",
            "Epoch 64/200\n",
            "1320/1320 [==============================] - 5s 4ms/step - loss: 0.9472 - acc: 0.6561 - val_loss: 0.9342 - val_acc: 0.6322\n",
            "Epoch 65/200\n",
            "1320/1320 [==============================] - 5s 4ms/step - loss: 0.9656 - acc: 0.6394 - val_loss: 0.9377 - val_acc: 0.6322\n",
            "Epoch 66/200\n",
            "1320/1320 [==============================] - 5s 4ms/step - loss: 0.9655 - acc: 0.6500 - val_loss: 0.9392 - val_acc: 0.6322\n",
            "Epoch 67/200\n",
            "1320/1320 [==============================] - 5s 4ms/step - loss: 0.9618 - acc: 0.6538 - val_loss: 0.9361 - val_acc: 0.6353\n",
            "Epoch 68/200\n",
            "1320/1320 [==============================] - 5s 4ms/step - loss: 0.9461 - acc: 0.6682 - val_loss: 0.9339 - val_acc: 0.6444\n",
            "Epoch 69/200\n",
            "1320/1320 [==============================] - 5s 4ms/step - loss: 0.9481 - acc: 0.6659 - val_loss: 0.9302 - val_acc: 0.6413\n",
            "Epoch 70/200\n",
            "1320/1320 [==============================] - 5s 4ms/step - loss: 0.9536 - acc: 0.6598 - val_loss: 0.9295 - val_acc: 0.6444\n",
            "Epoch 71/200\n",
            "1320/1320 [==============================] - 5s 4ms/step - loss: 0.9392 - acc: 0.6515 - val_loss: 0.9299 - val_acc: 0.6474\n",
            "Epoch 72/200\n",
            "1320/1320 [==============================] - 5s 4ms/step - loss: 0.9221 - acc: 0.6803 - val_loss: 0.9264 - val_acc: 0.6444\n",
            "Epoch 73/200\n",
            "1320/1320 [==============================] - 5s 4ms/step - loss: 0.9312 - acc: 0.6538 - val_loss: 0.9243 - val_acc: 0.6535\n",
            "Epoch 74/200\n",
            "1320/1320 [==============================] - 5s 4ms/step - loss: 0.9414 - acc: 0.6667 - val_loss: 0.9244 - val_acc: 0.6505\n",
            "Epoch 75/200\n",
            "1320/1320 [==============================] - 5s 4ms/step - loss: 0.9360 - acc: 0.6515 - val_loss: 0.9291 - val_acc: 0.6505\n",
            "Epoch 76/200\n",
            "1320/1320 [==============================] - 5s 3ms/step - loss: 0.9177 - acc: 0.6674 - val_loss: 0.9323 - val_acc: 0.6444\n",
            "Epoch 77/200\n",
            "1320/1320 [==============================] - 5s 4ms/step - loss: 0.9224 - acc: 0.6705 - val_loss: 0.9229 - val_acc: 0.6413\n",
            "Epoch 78/200\n",
            "1320/1320 [==============================] - 5s 3ms/step - loss: 0.9230 - acc: 0.6773 - val_loss: 0.9144 - val_acc: 0.6505\n",
            "Epoch 79/200\n",
            "1320/1320 [==============================] - 5s 4ms/step - loss: 0.9174 - acc: 0.6727 - val_loss: 0.9102 - val_acc: 0.6505\n",
            "Epoch 80/200\n",
            "1320/1320 [==============================] - 5s 4ms/step - loss: 0.9105 - acc: 0.6606 - val_loss: 0.9120 - val_acc: 0.6505\n",
            "Epoch 81/200\n",
            "1320/1320 [==============================] - 5s 4ms/step - loss: 0.9211 - acc: 0.6508 - val_loss: 0.9180 - val_acc: 0.6444\n",
            "Epoch 82/200\n",
            "1320/1320 [==============================] - 5s 4ms/step - loss: 0.9128 - acc: 0.6826 - val_loss: 0.9195 - val_acc: 0.6596\n",
            "Epoch 83/200\n",
            "1320/1320 [==============================] - 5s 3ms/step - loss: 0.8971 - acc: 0.6992 - val_loss: 0.9178 - val_acc: 0.6505\n",
            "Epoch 84/200\n",
            "1320/1320 [==============================] - 5s 4ms/step - loss: 0.8964 - acc: 0.6758 - val_loss: 0.9177 - val_acc: 0.6565\n",
            "Epoch 85/200\n",
            "1320/1320 [==============================] - 5s 4ms/step - loss: 0.8934 - acc: 0.6947 - val_loss: 0.9196 - val_acc: 0.6444\n",
            "Epoch 86/200\n",
            "1320/1320 [==============================] - 5s 3ms/step - loss: 0.9088 - acc: 0.6970 - val_loss: 0.9231 - val_acc: 0.6505\n",
            "Epoch 87/200\n",
            "1320/1320 [==============================] - 5s 4ms/step - loss: 0.8794 - acc: 0.6992 - val_loss: 0.9199 - val_acc: 0.6444\n",
            "Epoch 88/200\n",
            "1320/1320 [==============================] - 5s 3ms/step - loss: 0.8827 - acc: 0.6917 - val_loss: 0.9130 - val_acc: 0.6413\n",
            "Epoch 89/200\n",
            "1320/1320 [==============================] - 5s 3ms/step - loss: 0.8614 - acc: 0.6894 - val_loss: 0.9097 - val_acc: 0.6535\n",
            "Epoch 90/200\n",
            "1320/1320 [==============================] - 5s 3ms/step - loss: 0.8842 - acc: 0.6977 - val_loss: 0.9096 - val_acc: 0.6383\n",
            "Epoch 91/200\n",
            "1320/1320 [==============================] - 5s 4ms/step - loss: 0.8723 - acc: 0.6962 - val_loss: 0.9106 - val_acc: 0.6383\n",
            "Epoch 92/200\n",
            "1320/1320 [==============================] - 5s 4ms/step - loss: 0.8741 - acc: 0.6917 - val_loss: 0.9098 - val_acc: 0.6474\n",
            "Epoch 93/200\n",
            "1320/1320 [==============================] - 5s 3ms/step - loss: 0.8525 - acc: 0.7121 - val_loss: 0.9071 - val_acc: 0.6505\n",
            "Epoch 94/200\n",
            "1320/1320 [==============================] - 5s 4ms/step - loss: 0.8714 - acc: 0.6833 - val_loss: 0.9061 - val_acc: 0.6565\n",
            "Epoch 95/200\n",
            "1320/1320 [==============================] - 5s 3ms/step - loss: 0.8455 - acc: 0.7144 - val_loss: 0.9048 - val_acc: 0.6535\n",
            "Epoch 96/200\n",
            "1320/1320 [==============================] - 5s 3ms/step - loss: 0.8567 - acc: 0.7023 - val_loss: 0.9068 - val_acc: 0.6322\n",
            "Epoch 97/200\n",
            "1320/1320 [==============================] - 5s 4ms/step - loss: 0.8611 - acc: 0.7098 - val_loss: 0.9096 - val_acc: 0.6383\n",
            "Epoch 98/200\n",
            "1320/1320 [==============================] - 5s 4ms/step - loss: 0.8300 - acc: 0.7212 - val_loss: 0.9087 - val_acc: 0.6413\n",
            "Epoch 99/200\n",
            "1320/1320 [==============================] - 5s 4ms/step - loss: 0.8512 - acc: 0.7038 - val_loss: 0.9092 - val_acc: 0.6322\n",
            "Epoch 100/200\n",
            "1320/1320 [==============================] - 5s 3ms/step - loss: 0.8387 - acc: 0.7280 - val_loss: 0.9058 - val_acc: 0.6322\n",
            "Epoch 101/200\n",
            "1320/1320 [==============================] - 5s 3ms/step - loss: 0.8362 - acc: 0.7235 - val_loss: 0.9026 - val_acc: 0.6292\n",
            "Epoch 102/200\n",
            "1320/1320 [==============================] - 5s 4ms/step - loss: 0.8350 - acc: 0.7091 - val_loss: 0.9013 - val_acc: 0.6413\n",
            "Epoch 103/200\n",
            "1320/1320 [==============================] - 5s 3ms/step - loss: 0.8172 - acc: 0.7242 - val_loss: 0.9044 - val_acc: 0.6413\n",
            "Epoch 104/200\n",
            "1320/1320 [==============================] - 5s 3ms/step - loss: 0.8130 - acc: 0.7348 - val_loss: 0.9076 - val_acc: 0.6383\n",
            "Epoch 105/200\n",
            "1320/1320 [==============================] - 5s 3ms/step - loss: 0.8434 - acc: 0.7167 - val_loss: 0.9104 - val_acc: 0.6565\n",
            "Epoch 106/200\n",
            "1320/1320 [==============================] - 4s 3ms/step - loss: 0.8147 - acc: 0.7417 - val_loss: 0.9106 - val_acc: 0.6596\n",
            "Epoch 107/200\n",
            "1320/1320 [==============================] - 5s 3ms/step - loss: 0.8114 - acc: 0.7333 - val_loss: 0.9107 - val_acc: 0.6444\n",
            "Epoch 108/200\n",
            "1320/1320 [==============================] - 4s 3ms/step - loss: 0.8278 - acc: 0.7250 - val_loss: 0.9091 - val_acc: 0.6383\n",
            "Epoch 109/200\n",
            "1320/1320 [==============================] - 5s 3ms/step - loss: 0.8203 - acc: 0.7250 - val_loss: 0.9052 - val_acc: 0.6474\n",
            "Epoch 110/200\n",
            "1320/1320 [==============================] - 5s 3ms/step - loss: 0.8169 - acc: 0.7326 - val_loss: 0.9052 - val_acc: 0.6505\n",
            "Epoch 111/200\n",
            "1320/1320 [==============================] - 4s 3ms/step - loss: 0.7937 - acc: 0.7530 - val_loss: 0.9052 - val_acc: 0.6413\n",
            "Epoch 112/200\n",
            "1320/1320 [==============================] - 5s 3ms/step - loss: 0.7965 - acc: 0.7280 - val_loss: 0.9050 - val_acc: 0.6413\n",
            "Epoch 113/200\n",
            "1320/1320 [==============================] - 4s 3ms/step - loss: 0.7890 - acc: 0.7576 - val_loss: 0.9018 - val_acc: 0.6474\n",
            "Epoch 114/200\n",
            "1320/1320 [==============================] - 5s 3ms/step - loss: 0.7751 - acc: 0.7598 - val_loss: 0.9001 - val_acc: 0.6505\n",
            "Epoch 115/200\n",
            "1320/1320 [==============================] - 5s 4ms/step - loss: 0.7818 - acc: 0.7492 - val_loss: 0.9002 - val_acc: 0.6383\n",
            "Epoch 116/200\n",
            "1320/1320 [==============================] - 5s 4ms/step - loss: 0.7817 - acc: 0.7402 - val_loss: 0.9038 - val_acc: 0.6413\n",
            "Epoch 117/200\n",
            "1320/1320 [==============================] - 4s 3ms/step - loss: 0.7673 - acc: 0.7629 - val_loss: 0.9038 - val_acc: 0.6474\n",
            "Epoch 118/200\n",
            "1320/1320 [==============================] - 4s 3ms/step - loss: 0.7647 - acc: 0.7712 - val_loss: 0.9055 - val_acc: 0.6505\n",
            "Epoch 119/200\n",
            "1320/1320 [==============================] - 5s 3ms/step - loss: 0.7686 - acc: 0.7568 - val_loss: 0.9040 - val_acc: 0.6474\n",
            "Epoch 120/200\n",
            "1320/1320 [==============================] - 4s 3ms/step - loss: 0.7534 - acc: 0.7644 - val_loss: 0.9031 - val_acc: 0.6444\n",
            "Epoch 121/200\n",
            "1320/1320 [==============================] - 5s 4ms/step - loss: 0.7705 - acc: 0.7553 - val_loss: 0.8988 - val_acc: 0.6474\n",
            "Epoch 122/200\n",
            "1320/1320 [==============================] - 5s 4ms/step - loss: 0.7569 - acc: 0.7583 - val_loss: 0.8995 - val_acc: 0.6565\n",
            "Epoch 123/200\n",
            "1320/1320 [==============================] - 5s 4ms/step - loss: 0.7606 - acc: 0.7606 - val_loss: 0.9000 - val_acc: 0.6535\n",
            "Epoch 124/200\n",
            "1320/1320 [==============================] - 5s 3ms/step - loss: 0.7642 - acc: 0.7523 - val_loss: 0.9038 - val_acc: 0.6474\n",
            "Epoch 125/200\n",
            "1320/1320 [==============================] - 5s 3ms/step - loss: 0.7451 - acc: 0.7735 - val_loss: 0.9018 - val_acc: 0.6535\n",
            "Epoch 126/200\n",
            "1320/1320 [==============================] - 5s 3ms/step - loss: 0.7520 - acc: 0.7636 - val_loss: 0.9008 - val_acc: 0.6535\n",
            "Epoch 127/200\n",
            "1320/1320 [==============================] - 4s 3ms/step - loss: 0.7443 - acc: 0.7697 - val_loss: 0.9011 - val_acc: 0.6444\n",
            "Epoch 128/200\n",
            "1320/1320 [==============================] - 4s 3ms/step - loss: 0.7303 - acc: 0.7750 - val_loss: 0.9034 - val_acc: 0.6474\n",
            "Epoch 129/200\n",
            "1320/1320 [==============================] - 5s 3ms/step - loss: 0.7526 - acc: 0.7644 - val_loss: 0.9044 - val_acc: 0.6413\n",
            "Epoch 130/200\n",
            "1320/1320 [==============================] - 4s 3ms/step - loss: 0.7420 - acc: 0.7811 - val_loss: 0.9027 - val_acc: 0.6474\n",
            "Epoch 131/200\n",
            "1320/1320 [==============================] - 4s 3ms/step - loss: 0.7380 - acc: 0.7788 - val_loss: 0.8995 - val_acc: 0.6474\n",
            "Epoch 132/200\n",
            "1320/1320 [==============================] - 5s 3ms/step - loss: 0.7345 - acc: 0.7697 - val_loss: 0.9003 - val_acc: 0.6596\n",
            "Epoch 133/200\n",
            "1320/1320 [==============================] - 5s 4ms/step - loss: 0.7269 - acc: 0.7705 - val_loss: 0.9011 - val_acc: 0.6657\n",
            "Epoch 134/200\n",
            "1320/1320 [==============================] - 5s 4ms/step - loss: 0.7141 - acc: 0.7947 - val_loss: 0.9043 - val_acc: 0.6535\n",
            "Epoch 135/200\n",
            "1320/1320 [==============================] - 4s 3ms/step - loss: 0.7244 - acc: 0.7841 - val_loss: 0.9012 - val_acc: 0.6626\n",
            "Epoch 136/200\n",
            "1320/1320 [==============================] - 4s 3ms/step - loss: 0.7118 - acc: 0.7795 - val_loss: 0.9010 - val_acc: 0.6535\n",
            "Epoch 137/200\n",
            "1320/1320 [==============================] - 4s 3ms/step - loss: 0.7132 - acc: 0.7932 - val_loss: 0.8996 - val_acc: 0.6596\n",
            "Epoch 138/200\n",
            "1320/1320 [==============================] - 4s 3ms/step - loss: 0.7090 - acc: 0.7970 - val_loss: 0.9045 - val_acc: 0.6444\n",
            "Epoch 139/200\n",
            "1320/1320 [==============================] - 4s 3ms/step - loss: 0.7090 - acc: 0.7773 - val_loss: 0.9027 - val_acc: 0.6626\n",
            "Epoch 140/200\n",
            "1320/1320 [==============================] - 4s 3ms/step - loss: 0.7039 - acc: 0.7864 - val_loss: 0.9060 - val_acc: 0.6565\n",
            "Epoch 141/200\n",
            "1320/1320 [==============================] - 4s 3ms/step - loss: 0.7049 - acc: 0.7788 - val_loss: 0.9049 - val_acc: 0.6596\n",
            "Epoch 142/200\n",
            "1320/1320 [==============================] - 4s 3ms/step - loss: 0.7024 - acc: 0.7939 - val_loss: 0.9072 - val_acc: 0.6596\n",
            "Epoch 143/200\n",
            "1320/1320 [==============================] - 4s 3ms/step - loss: 0.7058 - acc: 0.7879 - val_loss: 0.8993 - val_acc: 0.6657\n",
            "Epoch 144/200\n",
            "1320/1320 [==============================] - 4s 3ms/step - loss: 0.6826 - acc: 0.7985 - val_loss: 0.8990 - val_acc: 0.6717\n",
            "Epoch 145/200\n",
            "1320/1320 [==============================] - 4s 3ms/step - loss: 0.6942 - acc: 0.8045 - val_loss: 0.9001 - val_acc: 0.6626\n",
            "Epoch 146/200\n",
            "1320/1320 [==============================] - 4s 3ms/step - loss: 0.6902 - acc: 0.7909 - val_loss: 0.9024 - val_acc: 0.6687\n",
            "Epoch 147/200\n",
            "1320/1320 [==============================] - 4s 3ms/step - loss: 0.6811 - acc: 0.7879 - val_loss: 0.9041 - val_acc: 0.6565\n",
            "Epoch 148/200\n",
            "1320/1320 [==============================] - 4s 3ms/step - loss: 0.6833 - acc: 0.7977 - val_loss: 0.9065 - val_acc: 0.6535\n",
            "Epoch 149/200\n",
            "1320/1320 [==============================] - 4s 3ms/step - loss: 0.6673 - acc: 0.8000 - val_loss: 0.9116 - val_acc: 0.6596\n",
            "Epoch 150/200\n",
            "1320/1320 [==============================] - 4s 3ms/step - loss: 0.6708 - acc: 0.7992 - val_loss: 0.9124 - val_acc: 0.6596\n",
            "Epoch 151/200\n",
            "1320/1320 [==============================] - 5s 4ms/step - loss: 0.6734 - acc: 0.7962 - val_loss: 0.9173 - val_acc: 0.6565\n",
            "Epoch 152/200\n",
            "1320/1320 [==============================] - 5s 4ms/step - loss: 0.6892 - acc: 0.7856 - val_loss: 0.9073 - val_acc: 0.6565\n",
            "Epoch 153/200\n",
            "1320/1320 [==============================] - 4s 3ms/step - loss: 0.6680 - acc: 0.8061 - val_loss: 0.9082 - val_acc: 0.6596\n",
            "Epoch 154/200\n",
            "1320/1320 [==============================] - 4s 3ms/step - loss: 0.6778 - acc: 0.8008 - val_loss: 0.9088 - val_acc: 0.6657\n",
            "Epoch 155/200\n",
            "1320/1320 [==============================] - 4s 3ms/step - loss: 0.6632 - acc: 0.7955 - val_loss: 0.9111 - val_acc: 0.6657\n",
            "Epoch 156/200\n",
            "1320/1320 [==============================] - 4s 3ms/step - loss: 0.6499 - acc: 0.8129 - val_loss: 0.9145 - val_acc: 0.6626\n",
            "Epoch 157/200\n",
            "1320/1320 [==============================] - 4s 3ms/step - loss: 0.6585 - acc: 0.7917 - val_loss: 0.9242 - val_acc: 0.6626\n",
            "Epoch 158/200\n",
            "1320/1320 [==============================] - 4s 3ms/step - loss: 0.6311 - acc: 0.8174 - val_loss: 0.9231 - val_acc: 0.6687\n",
            "Epoch 159/200\n",
            "1320/1320 [==============================] - 5s 4ms/step - loss: 0.6478 - acc: 0.8083 - val_loss: 0.9257 - val_acc: 0.6565\n",
            "Epoch 160/200\n",
            "1320/1320 [==============================] - 4s 3ms/step - loss: 0.6633 - acc: 0.7970 - val_loss: 0.9203 - val_acc: 0.6687\n",
            "Epoch 161/200\n",
            "1320/1320 [==============================] - 4s 3ms/step - loss: 0.6517 - acc: 0.8121 - val_loss: 0.9167 - val_acc: 0.6565\n",
            "Epoch 162/200\n",
            "1320/1320 [==============================] - 4s 3ms/step - loss: 0.6557 - acc: 0.8144 - val_loss: 0.9175 - val_acc: 0.6565\n",
            "Epoch 163/200\n",
            "1320/1320 [==============================] - 4s 3ms/step - loss: 0.6420 - acc: 0.8083 - val_loss: 0.9195 - val_acc: 0.6565\n",
            "Epoch 164/200\n",
            "1320/1320 [==============================] - 4s 3ms/step - loss: 0.6247 - acc: 0.8212 - val_loss: 0.9245 - val_acc: 0.6626\n",
            "Epoch 165/200\n",
            "1320/1320 [==============================] - 4s 3ms/step - loss: 0.6355 - acc: 0.8212 - val_loss: 0.9255 - val_acc: 0.6596\n",
            "Epoch 166/200\n",
            "1320/1320 [==============================] - 4s 3ms/step - loss: 0.6225 - acc: 0.8174 - val_loss: 0.9273 - val_acc: 0.6535\n",
            "Epoch 167/200\n",
            "1320/1320 [==============================] - 4s 3ms/step - loss: 0.6279 - acc: 0.8152 - val_loss: 0.9281 - val_acc: 0.6535\n",
            "Epoch 168/200\n",
            "1320/1320 [==============================] - 4s 3ms/step - loss: 0.6237 - acc: 0.8098 - val_loss: 0.9281 - val_acc: 0.6565\n",
            "Epoch 169/200\n",
            "1320/1320 [==============================] - 5s 4ms/step - loss: 0.6143 - acc: 0.8258 - val_loss: 0.9307 - val_acc: 0.6626\n",
            "Epoch 170/200\n",
            "1320/1320 [==============================] - 5s 4ms/step - loss: 0.6173 - acc: 0.8152 - val_loss: 0.9347 - val_acc: 0.6657\n",
            "Epoch 171/200\n",
            "1320/1320 [==============================] - 4s 3ms/step - loss: 0.6171 - acc: 0.8242 - val_loss: 0.9373 - val_acc: 0.6657\n",
            "Epoch 172/200\n",
            "1320/1320 [==============================] - 4s 3ms/step - loss: 0.6254 - acc: 0.8091 - val_loss: 0.9376 - val_acc: 0.6687\n",
            "Epoch 173/200\n",
            "1320/1320 [==============================] - 4s 3ms/step - loss: 0.5977 - acc: 0.8273 - val_loss: 0.9391 - val_acc: 0.6626\n",
            "Epoch 174/200\n",
            "1320/1320 [==============================] - 4s 3ms/step - loss: 0.5977 - acc: 0.8235 - val_loss: 0.9410 - val_acc: 0.6657\n",
            "Epoch 175/200\n",
            "1320/1320 [==============================] - 4s 3ms/step - loss: 0.6089 - acc: 0.8227 - val_loss: 0.9383 - val_acc: 0.6626\n",
            "Epoch 176/200\n",
            "1320/1320 [==============================] - 4s 3ms/step - loss: 0.5957 - acc: 0.8326 - val_loss: 0.9364 - val_acc: 0.6657\n",
            "Epoch 177/200\n",
            "1320/1320 [==============================] - 4s 3ms/step - loss: 0.5804 - acc: 0.8447 - val_loss: 0.9391 - val_acc: 0.6687\n",
            "Epoch 178/200\n",
            "1320/1320 [==============================] - 4s 3ms/step - loss: 0.5931 - acc: 0.8364 - val_loss: 0.9478 - val_acc: 0.6626\n",
            "Epoch 179/200\n",
            "1320/1320 [==============================] - 4s 3ms/step - loss: 0.5960 - acc: 0.8447 - val_loss: 0.9534 - val_acc: 0.6687\n",
            "Epoch 180/200\n",
            "1320/1320 [==============================] - 4s 3ms/step - loss: 0.5988 - acc: 0.8182 - val_loss: 0.9538 - val_acc: 0.6717\n",
            "Epoch 181/200\n",
            "1320/1320 [==============================] - 4s 3ms/step - loss: 0.5841 - acc: 0.8326 - val_loss: 0.9491 - val_acc: 0.6657\n",
            "Epoch 182/200\n",
            "1320/1320 [==============================] - 4s 3ms/step - loss: 0.5906 - acc: 0.8333 - val_loss: 0.9464 - val_acc: 0.6626\n",
            "Epoch 183/200\n",
            "1320/1320 [==============================] - 4s 3ms/step - loss: 0.5643 - acc: 0.8523 - val_loss: 0.9470 - val_acc: 0.6687\n",
            "Epoch 184/200\n",
            "1320/1320 [==============================] - 4s 3ms/step - loss: 0.5762 - acc: 0.8379 - val_loss: 0.9547 - val_acc: 0.6535\n",
            "Epoch 185/200\n",
            "1320/1320 [==============================] - 4s 3ms/step - loss: 0.5811 - acc: 0.8432 - val_loss: 0.9546 - val_acc: 0.6687\n",
            "Epoch 186/200\n",
            "1320/1320 [==============================] - 4s 3ms/step - loss: 0.5795 - acc: 0.8417 - val_loss: 0.9693 - val_acc: 0.6474\n",
            "Epoch 187/200\n",
            "1320/1320 [==============================] - 5s 4ms/step - loss: 0.5816 - acc: 0.8288 - val_loss: 0.9600 - val_acc: 0.6657\n",
            "Epoch 188/200\n",
            "1320/1320 [==============================] - 5s 4ms/step - loss: 0.5601 - acc: 0.8553 - val_loss: 0.9658 - val_acc: 0.6535\n",
            "Epoch 189/200\n",
            "1320/1320 [==============================] - 5s 3ms/step - loss: 0.5943 - acc: 0.8326 - val_loss: 0.9599 - val_acc: 0.6687\n",
            "Epoch 190/200\n",
            "1320/1320 [==============================] - 4s 3ms/step - loss: 0.5605 - acc: 0.8477 - val_loss: 0.9745 - val_acc: 0.6596\n",
            "Epoch 191/200\n",
            "1320/1320 [==============================] - 4s 3ms/step - loss: 0.5785 - acc: 0.8379 - val_loss: 0.9629 - val_acc: 0.6687\n",
            "Epoch 192/200\n",
            "1320/1320 [==============================] - 5s 4ms/step - loss: 0.5570 - acc: 0.8530 - val_loss: 0.9703 - val_acc: 0.6565\n",
            "Epoch 193/200\n",
            "1320/1320 [==============================] - 5s 4ms/step - loss: 0.5588 - acc: 0.8402 - val_loss: 0.9727 - val_acc: 0.6505\n",
            "Epoch 194/200\n",
            "1320/1320 [==============================] - 4s 3ms/step - loss: 0.5609 - acc: 0.8455 - val_loss: 0.9831 - val_acc: 0.6383\n",
            "Epoch 195/200\n",
            "1320/1320 [==============================] - 4s 3ms/step - loss: 0.5610 - acc: 0.8402 - val_loss: 0.9668 - val_acc: 0.6596\n",
            "Epoch 196/200\n",
            "1320/1320 [==============================] - 4s 3ms/step - loss: 0.5539 - acc: 0.8462 - val_loss: 0.9722 - val_acc: 0.6626\n",
            "Epoch 197/200\n",
            "1320/1320 [==============================] - 4s 3ms/step - loss: 0.5530 - acc: 0.8515 - val_loss: 0.9810 - val_acc: 0.6687\n",
            "Epoch 198/200\n",
            "1320/1320 [==============================] - 4s 3ms/step - loss: 0.5501 - acc: 0.8515 - val_loss: 0.9880 - val_acc: 0.6657\n",
            "Epoch 199/200\n",
            "1320/1320 [==============================] - 4s 3ms/step - loss: 0.5551 - acc: 0.8439 - val_loss: 0.9827 - val_acc: 0.6657\n",
            "Epoch 200/200\n",
            "1320/1320 [==============================] - 4s 3ms/step - loss: 0.5333 - acc: 0.8689 - val_loss: 0.9802 - val_acc: 0.6687\n"
          ],
          "name": "stdout"
        }
      ]
    },
    {
      "metadata": {
        "id": "XOfQ18L7DNrZ",
        "colab_type": "text"
      },
      "cell_type": "markdown",
      "source": [
        "**MODEL PERFORMANCE**"
      ]
    },
    {
      "metadata": {
        "id": "S5z1gzaXFPJD",
        "colab_type": "code",
        "colab": {}
      },
      "cell_type": "code",
      "source": [
        "def plot_modelacc(fit_model):\n",
        "    with plt.style.context('ggplot'):\n",
        "            plt.plot(fit_model.history['acc'])\n",
        "            plt.plot(fit_model.history['val_acc'])\n",
        "            plt.ylim(0,1)\n",
        "            plt.title(\"MODEL ACCURACY\")\n",
        "            plt.xlabel(\"# of EPOCHS\")\n",
        "            plt.ylabel(\"ACCURACY\")\n",
        "            plt.legend(['train', 'test'], loc='upper left')\n",
        "    return plt.show()"
      ],
      "execution_count": 0,
      "outputs": []
    },
    {
      "metadata": {
        "id": "bI1-6AZyFUH1",
        "colab_type": "code",
        "colab": {}
      },
      "cell_type": "code",
      "source": [
        "def plot_model_loss(fit_model):\n",
        "    with plt.style.context('ggplot'):\n",
        "            plt.plot(fit_model.history['loss'])\n",
        "            plt.plot(fit_model.history['val_loss'])\n",
        "            plt.title(\"MODEL LOSS\")\n",
        "            plt.xlabel(\"# of EPOCHS\")\n",
        "            plt.ylabel(\"LOSS\")\n",
        "            plt.legend(['train', 'test'], loc='upper left')\n",
        "    return plt.show()\n",
        "\n"
      ],
      "execution_count": 0,
      "outputs": []
    },
    {
      "metadata": {
        "id": "6uu6A1PBFUsT",
        "colab_type": "code",
        "outputId": "646ac0b0-3646-4f7b-8441-019c2ce7f1be",
        "colab": {
          "base_uri": "https://localhost:8080/",
          "height": 743
        }
      },
      "cell_type": "code",
      "source": [
        "plot_modelacc(model_final)\n",
        "plot_model_loss(model_final)"
      ],
      "execution_count": 0,
      "outputs": [
        {
          "output_type": "display_data",
          "data": {
            "image/png": "[encoded data removed]",
            "text/plain": [
              "<Figure size 576x396 with 1 Axes>"
            ]
          },
          "metadata": {
            "tags": []
          }
        },
        {
          "output_type": "display_data",
          "data": {
            "image/png": "[encoded data removed]",
            "text/plain": [
              "<Figure size 576x396 with 1 Axes>"
            ]
          },
          "metadata": {
            "tags": []
          }
        }
      ]
    },
    {
      "metadata": {
        "id": "BNHsAtd6FWZN",
        "colab_type": "code",
        "outputId": "4cd42de5-b822-46cd-9e9a-f345506e1f8e",
        "colab": {
          "base_uri": "https://localhost:8080/",
          "height": 52
        }
      },
      "cell_type": "code",
      "source": [
        "loss,acc = model_glove.evaluate(x_val,y_val, verbose = 2, batch_size = batch_size)\n",
        "print(\"Validation Loss: %.2f\" % (loss))\n",
        "print(\"Validation Accuracy: %.2f\" % (acc))"
      ],
      "execution_count": 0,
      "outputs": [
        {
          "output_type": "stream",
          "text": [
            "Validation Loss: 0.98\n",
            "Validation Accuracy: 0.67\n"
          ],
          "name": "stdout"
        }
      ]
    },
    {
      "metadata": {
        "id": "gKrbuyz-DRjK",
        "colab_type": "text"
      },
      "cell_type": "markdown",
      "source": [
        "**MODEL PERFORMANCE WITH RESPECT TO TEST DATA: CONFUSION MATRIX**"
      ]
    },
    {
      "metadata": {
        "id": "HngGl31JDRI0",
        "colab_type": "code",
        "outputId": "bb399c70-f9bd-4cac-9fdd-fed7a4945a59",
        "colab": {
          "base_uri": "https://localhost:8080/",
          "height": 413
        }
      },
      "cell_type": "code",
      "source": [
        "# Predicting the Test set results\n",
        "y_pred = model_glove.predict(x_val)\n",
        "# cutoff 0.5\n",
        "y_pred = (y_pred > 0.5)\n",
        "\n",
        "y_pred = y_pred.astype(int)\n",
        "\n",
        "\n",
        "# Confusion matrix \n",
        "cm = confusion_matrix(y_val.argmax(axis=1), y_pred.argmax(axis=1))\n",
        "print(cm)\n",
        "\n",
        "LABELS = ['negative', 'positive','neutral']\n",
        "sns.heatmap(cm, annot=True, xticklabels=LABELS, yticklabels=LABELS, fmt='g')\n",
        "xl = plt.xlabel(\"Predicted\")\n",
        "yl = plt.ylabel(\"Actual\")"
      ],
      "execution_count": 0,
      "outputs": [
        {
          "output_type": "stream",
          "text": [
            "[[  3  12   8]\n",
            " [ 10  85  35]\n",
            " [  6  47 123]]\n"
          ],
          "name": "stdout"
        },
        {
          "output_type": "display_data",
          "data": {
            "image/png": "[encoded data removed]",
            "text/plain": [
              "<Figure size 576x396 with 2 Axes>"
            ]
          },
          "metadata": {
            "tags": []
          }
        }
      ]
    },
    {
      "metadata": {
        "id": "M9_5Bbe8MdQP",
        "colab_type": "text"
      },
      "cell_type": "markdown",
      "source": [
        ""
      ]
    }
  ]
}