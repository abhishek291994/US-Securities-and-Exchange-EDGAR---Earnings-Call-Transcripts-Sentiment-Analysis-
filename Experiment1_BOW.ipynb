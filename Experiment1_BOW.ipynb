{
  "nbformat": 4,
  "nbformat_minor": 0,
  "metadata": {
    "colab": {
      "name": "Experiment1_BOW.ipynb",
      "version": "0.3.2",
      "provenance": [],
      "collapsed_sections": []
    },
    "kernelspec": {
      "name": "python3",
      "display_name": "Python 3"
    },
    "accelerator": "GPU"
  },
  "cells": [
    {
      "metadata": {
        "id": "EABavgiVAEly",
        "colab_type": "text"
      },
      "cell_type": "markdown",
      "source": [
        "**IMPORTING REQUIRED LIBRARIES**"
      ]
    },
    {
      "metadata": {
        "id": "hOGl7GoWkhKV",
        "colab_type": "code",
        "outputId": "01691662-9fd7-4b01-d57c-564262dc22cc",
        "colab": {
          "base_uri": "https://localhost:8080/",
          "height": 67
        }
      },
      "cell_type": "code",
      "source": [
        "import pandas as pd\n",
        "import numpy as np\n",
        "import re\n",
        "from nltk.corpus import stopwords\n",
        "import nltk\n",
        "nltk.download('stopwords')\n",
        "import keras\n",
        "import keras as k\n",
        "from keras.models import Sequential\n",
        "from keras.layers import Dense\n",
        "from keras.layers import Dropout\n",
        "from keras import optimizers\n",
        "from keras.layers import Dense, Dropout, Activation,Flatten,BatchNormalization\n",
        "from keras.layers import Conv2D,ZeroPadding2D, MaxPooling2D\n",
        "from sklearn.metrics import confusion_matrix\n",
        "from sklearn import preprocessing\n",
        "import seaborn as sns\n",
        "from keras.utils import to_categorical\n",
        "from sklearn.feature_extraction.text import CountVectorizer\n",
        "from sklearn.model_selection import train_test_split\n",
        "import matplotlib.pyplot as plt"
      ],
      "execution_count": 0,
      "outputs": [
        {
          "output_type": "stream",
          "text": [
            "[nltk_data] Downloading package stopwords to /root/nltk_data...\n",
            "[nltk_data]   Package stopwords is already up-to-date!\n"
          ],
          "name": "stdout"
        },
        {
          "output_type": "stream",
          "text": [
            "Using TensorFlow backend.\n"
          ],
          "name": "stderr"
        }
      ]
    },
    {
      "metadata": {
        "id": "ib7qWqSGkuDc",
        "colab_type": "code",
        "colab": {}
      },
      "cell_type": "code",
      "source": [
        "# Code to read csv file into Colaboratory:\n",
        "!pip install -U -q PyDrive\n",
        "from pydrive.auth import GoogleAuth\n",
        "from pydrive.drive import GoogleDrive\n",
        "from google.colab import auth\n",
        "from oauth2client.client import GoogleCredentials\n",
        "# Authenticate and create the PyDrive client.\n",
        "auth.authenticate_user()\n",
        "gauth = GoogleAuth()\n",
        "gauth.credentials = GoogleCredentials.get_application_default()\n",
        "drive = GoogleDrive(gauth)"
      ],
      "execution_count": 0,
      "outputs": []
    },
    {
      "metadata": {
        "id": "s1Ts13xbklc4",
        "colab_type": "code",
        "outputId": "bb2e385b-f224-4db5-967f-7e7afafd2076",
        "colab": {
          "base_uri": "https://localhost:8080/",
          "height": 33
        }
      },
      "cell_type": "code",
      "source": [
        "link = 'https://drive.google.com/open?id=1lnve5jM6MmKv7MelXE4aNK_qAtu2ikF3'\n",
        "fluff, id = link.split('=')\n",
        "print (id) # Verify that you have everything after '='"
      ],
      "execution_count": 0,
      "outputs": [
        {
          "output_type": "stream",
          "text": [
            "1lnve5jM6MmKv7MelXE4aNK_qAtu2ikF3\n"
          ],
          "name": "stdout"
        }
      ]
    },
    {
      "metadata": {
        "id": "_mwsLhtWkqKB",
        "colab_type": "code",
        "colab": {}
      },
      "cell_type": "code",
      "source": [
        "downloaded = drive.CreateFile({'id':id}) \n",
        "downloaded.GetContentFile('Filename.csv')  \n",
        "df3 = pd.read_json('Filename.csv')"
      ],
      "execution_count": 0,
      "outputs": []
    },
    {
      "metadata": {
        "id": "DBVXs2RAAMYb",
        "colab_type": "text"
      },
      "cell_type": "markdown",
      "source": [
        "**SAMPLE DISPLAY OF DOCUMENT**"
      ]
    },
    {
      "metadata": {
        "id": "fjQYTsDVk6pX",
        "colab_type": "code",
        "outputId": "8c0feef4-12ea-4471-d4bb-99da7c83e3ee",
        "colab": {
          "base_uri": "https://localhost:8080/",
          "height": 196
        }
      },
      "cell_type": "code",
      "source": [
        "df3.head()"
      ],
      "execution_count": 0,
      "outputs": [
        {
          "output_type": "execute_result",
          "data": {
            "text/html": [
              "<div>\n",
              "<style scoped>\n",
              "    .dataframe tbody tr th:only-of-type {\n",
              "        vertical-align: middle;\n",
              "    }\n",
              "\n",
              "    .dataframe tbody tr th {\n",
              "        vertical-align: top;\n",
              "    }\n",
              "\n",
              "    .dataframe thead th {\n",
              "        text-align: right;\n",
              "    }\n",
              "</style>\n",
              "<table border=\"1\" class=\"dataframe\">\n",
              "  <thead>\n",
              "    <tr style=\"text-align: right;\">\n",
              "      <th></th>\n",
              "      <th>sentiment</th>\n",
              "      <th>text</th>\n",
              "    </tr>\n",
              "  </thead>\n",
              "  <tbody>\n",
              "    <tr>\n",
              "      <th>0</th>\n",
              "      <td>positive</td>\n",
              "      <td>Thank you, Ellen. We have a strong 2018, with ...</td>\n",
              "    </tr>\n",
              "    <tr>\n",
              "      <th>1</th>\n",
              "      <td>positive</td>\n",
              "      <td>Stock-based compensation totaled $2.3 billion....</td>\n",
              "    </tr>\n",
              "    <tr>\n",
              "      <th>10</th>\n",
              "      <td>negative</td>\n",
              "      <td>For the full-year 2018, Other Bets revenues we...</td>\n",
              "    </tr>\n",
              "    <tr>\n",
              "      <th>100</th>\n",
              "      <td>neutral</td>\n",
              "      <td>Great. Thank you. I just wanted to follow up o...</td>\n",
              "    </tr>\n",
              "    <tr>\n",
              "      <th>1000</th>\n",
              "      <td>negative</td>\n",
              "      <td>I have made it a priority to join Mike and Reb...</td>\n",
              "    </tr>\n",
              "  </tbody>\n",
              "</table>\n",
              "</div>"
            ],
            "text/plain": [
              "     sentiment                                               text\n",
              "0     positive  Thank you, Ellen. We have a strong 2018, with ...\n",
              "1     positive  Stock-based compensation totaled $2.3 billion....\n",
              "10    negative  For the full-year 2018, Other Bets revenues we...\n",
              "100    neutral  Great. Thank you. I just wanted to follow up o...\n",
              "1000  negative  I have made it a priority to join Mike and Reb..."
            ]
          },
          "metadata": {
            "tags": []
          },
          "execution_count": 6
        }
      ]
    },
    {
      "metadata": {
        "id": "oDnCFub1AQdJ",
        "colab_type": "text"
      },
      "cell_type": "markdown",
      "source": [
        "**CONVERTING SENTIMENT CATEGORICAL LABELS TO NUMERICAL**\n",
        "\n",
        "Negative: 0\n",
        "\n",
        "Positive: 1\n",
        "\n",
        "Neutral: 2\n"
      ]
    },
    {
      "metadata": {
        "id": "CI0Q16Lgk7iY",
        "colab_type": "code",
        "colab": {}
      },
      "cell_type": "code",
      "source": [
        "# Convert sentiments into 0,1,2\n",
        "sent = {'positive': 1,'negative': 0,'neutral': 2} \n",
        "df3.sentiment = [sent[item] for item in df3.sentiment] "
      ],
      "execution_count": 0,
      "outputs": []
    },
    {
      "metadata": {
        "id": "3hIj5tcIAnh4",
        "colab_type": "text"
      },
      "cell_type": "markdown",
      "source": [
        "**CLEANING WORDS BY REMOVING UNNECESARY ELEMENTS**"
      ]
    },
    {
      "metadata": {
        "id": "gfSo81mBJlfL",
        "colab_type": "code",
        "colab": {}
      },
      "cell_type": "code",
      "source": [
        "def review_to_words( raw_review ):\n",
        "    # Remove non-letters        \n",
        "    letters_only = re.sub(\"[^a-zA-Z]\", \" \", raw_review) \n",
        "    \n",
        "    #Convert to lower case, split into individual words\n",
        "    words = letters_only.lower().split()                             \n",
        "    \n",
        "    # Removing stop words\n",
        "    stops = set(stopwords.words(\"english\"))                  \n",
        "    \n",
        "    meaningful_words = [w for w in words if not w in stops]   \n",
        "    \n",
        "    return( \" \".join( meaningful_words )) "
      ],
      "execution_count": 0,
      "outputs": []
    },
    {
      "metadata": {
        "id": "VkrHzvfsK0Qp",
        "colab_type": "code",
        "colab": {}
      },
      "cell_type": "code",
      "source": [
        "# Get the number of reviews based on the dataframe column size\n",
        "num_reviews = 1649\n",
        "\n",
        "# Initialize an empty list to hold the clean reviews\n",
        "clean_train_reviews = []\n",
        "\n",
        "# Loop over each review; create an index i that goes from 0 to the length\n",
        "# of the movie review list \n",
        "for i in range( 0, num_reviews ):\n",
        "    # Call function for each one, and add the result to the list of\n",
        "    # clean reviews\n",
        "    clean_train_reviews.append( review_to_words( df3[\"text\"][i] ) )"
      ],
      "execution_count": 0,
      "outputs": []
    },
    {
      "metadata": {
        "id": "VjydAAVyBEY2",
        "colab_type": "text"
      },
      "cell_type": "markdown",
      "source": [
        "**CREATING BAG OF WORDS**"
      ]
    },
    {
      "metadata": {
        "id": "ldCmaVUhlHZf",
        "colab_type": "code",
        "outputId": "4c611b61-2fea-4d3a-da1d-22ec97b5060d",
        "colab": {
          "base_uri": "https://localhost:8080/",
          "height": 67
        }
      },
      "cell_type": "code",
      "source": [
        "print (\"Creating the bag of words...\\n\")\n",
        "# Initialize the \"CountVectorizer\" object, which is scikit-learn's\n",
        "# bag of words tool.  \n",
        "vectorizer = CountVectorizer(analyzer = \"word\",   \\\n",
        "                             tokenizer = None,    \\\n",
        "                             preprocessor = None, \\\n",
        "                             stop_words = None,   \\\n",
        "                             max_features = 500) \n",
        "\n",
        "train_data_features = vectorizer.fit_transform(clean_train_reviews)\n",
        "\n",
        "train_data_features = train_data_features.toarray()\n",
        "\n",
        "print (train_data_features.shape)"
      ],
      "execution_count": 0,
      "outputs": [
        {
          "output_type": "stream",
          "text": [
            "Creating the bag of words...\n",
            "\n",
            "(1649, 500)\n"
          ],
          "name": "stdout"
        }
      ]
    },
    {
      "metadata": {
        "id": "U_tGq4gSBW_F",
        "colab_type": "text"
      },
      "cell_type": "markdown",
      "source": [
        "**SPLIT DATA INTO TRAIN AND TEST WITH 80:20 RATIO**"
      ]
    },
    {
      "metadata": {
        "id": "nbYD3MGGlK1S",
        "colab_type": "code",
        "colab": {}
      },
      "cell_type": "code",
      "source": [
        "\n",
        "x_train, x_val, y_train, y_val = train_test_split(train_data_features, df3['sentiment'], test_size = 0.20, random_state = 0)"
      ],
      "execution_count": 0,
      "outputs": []
    },
    {
      "metadata": {
        "id": "BGOQVHYW7lWI",
        "colab_type": "code",
        "outputId": "4e343c18-eb4d-4ec5-8201-7cddcb84a1ac",
        "colab": {
          "base_uri": "https://localhost:8080/",
          "height": 33
        }
      },
      "cell_type": "code",
      "source": [
        "y_train[0].shape"
      ],
      "execution_count": 0,
      "outputs": [
        {
          "output_type": "execute_result",
          "data": {
            "text/plain": [
              "(3,)"
            ]
          },
          "metadata": {
            "tags": []
          },
          "execution_count": 24
        }
      ]
    },
    {
      "metadata": {
        "id": "oNy_cgHilP-9",
        "colab_type": "code",
        "outputId": "550c8c56-ae78-473d-a3a6-7a3b00fea25d",
        "colab": {
          "base_uri": "https://localhost:8080/",
          "height": 50
        }
      },
      "cell_type": "code",
      "source": [
        "y_val = keras.utils.to_categorical(y_val , num_classes=None, dtype='float32')\n",
        "y_train = keras.utils.to_categorical(y_train , num_classes=None, dtype='float32')\n",
        "n = x_val.shape[1]\n",
        "print(y_val.shape)\n",
        "print(y_train.shape)"
      ],
      "execution_count": 0,
      "outputs": [
        {
          "output_type": "stream",
          "text": [
            "(330, 3)\n",
            "(1319, 3)\n"
          ],
          "name": "stdout"
        }
      ]
    },
    {
      "metadata": {
        "id": "UIzGUQ5JBevC",
        "colab_type": "text"
      },
      "cell_type": "markdown",
      "source": [
        "**MODEL CREATION**"
      ]
    },
    {
      "metadata": {
        "id": "Okd3oIh2lSwx",
        "colab_type": "code",
        "outputId": "946f1423-3909-47da-f017-82c57ff88c7c",
        "colab": {
          "base_uri": "https://localhost:8080/",
          "height": 1877
        }
      },
      "cell_type": "code",
      "source": [
        "bs = 128\n",
        "\n",
        "# define network\n",
        "model = Sequential()\n",
        "model.add(Dense(100, input_shape=(n,), activation='relu'))\n",
        "model.add(Dense(50,activation='relu'))\n",
        "model.add(Dropout(0.50))\n",
        "model.add(Dense(500,activation='relu'))\n",
        "model.add(Dropout(0.50))\n",
        "model.add(Dense(500,activation='relu'))\n",
        "model.add(Dropout(0.50))\n",
        "model.add(Dense(100,activation='relu'))\n",
        "model.add(Dropout(.3))\n",
        "model.add(Dense(3, activation='softmax'))\n",
        "\n",
        "# compile network\n",
        "#opt = optimizers.SGD(lr=0.01, decay=1e-6, momentum=0.9, nesterov=True)\n",
        "opt = k.optimizers.rmsprop(lr=0.0001, decay=1e-6)\n",
        "#opt = k.optimizers.Adam(lr=0.0001, beta_1=0.9, beta_2=0.999, epsilon=None, decay=0.0, amsgrad=False)\n",
        "model.compile(loss='categorical_crossentropy', optimizer = opt, metrics=['accuracy'])\n",
        "history = model.fit(x_train, y_train, validation_data=(x_val,y_val),epochs=50,batch_size = bs, verbose=2)"
      ],
      "execution_count": 0,
      "outputs": [
        {
          "output_type": "stream",
          "text": [
            "WARNING:tensorflow:From /usr/local/lib/python3.6/dist-packages/tensorflow/python/framework/op_def_library.py:263: colocate_with (from tensorflow.python.framework.ops) is deprecated and will be removed in a future version.\n",
            "Instructions for updating:\n",
            "Colocations handled automatically by placer.\n",
            "WARNING:tensorflow:From /usr/local/lib/python3.6/dist-packages/keras/backend/tensorflow_backend.py:3445: calling dropout (from tensorflow.python.ops.nn_ops) with keep_prob is deprecated and will be removed in a future version.\n",
            "Instructions for updating:\n",
            "Please use `rate` instead of `keep_prob`. Rate should be set to `rate = 1 - keep_prob`.\n",
            "WARNING:tensorflow:From /usr/local/lib/python3.6/dist-packages/tensorflow/python/ops/math_ops.py:3066: to_int32 (from tensorflow.python.ops.math_ops) is deprecated and will be removed in a future version.\n",
            "Instructions for updating:\n",
            "Use tf.cast instead.\n",
            "Train on 1319 samples, validate on 330 samples\n",
            "Epoch 1/50\n",
            " - 1s - loss: 1.0528 - acc: 0.4344 - val_loss: 1.0224 - val_acc: 0.5303\n",
            "Epoch 2/50\n",
            " - 0s - loss: 0.9992 - acc: 0.4579 - val_loss: 0.9897 - val_acc: 0.5364\n",
            "Epoch 3/50\n",
            " - 0s - loss: 0.9854 - acc: 0.4807 - val_loss: 0.9750 - val_acc: 0.5364\n",
            "Epoch 4/50\n",
            " - 0s - loss: 0.9728 - acc: 0.4936 - val_loss: 0.9650 - val_acc: 0.5364\n",
            "Epoch 5/50\n",
            " - 0s - loss: 0.9720 - acc: 0.4655 - val_loss: 0.9584 - val_acc: 0.5364\n",
            "Epoch 6/50\n",
            " - 0s - loss: 0.9651 - acc: 0.4792 - val_loss: 0.9545 - val_acc: 0.5364\n",
            "Epoch 7/50\n",
            " - 0s - loss: 0.9692 - acc: 0.4655 - val_loss: 0.9526 - val_acc: 0.5364\n",
            "Epoch 8/50\n",
            " - 0s - loss: 0.9629 - acc: 0.4632 - val_loss: 0.9502 - val_acc: 0.5364\n",
            "Epoch 9/50\n",
            " - 0s - loss: 0.9588 - acc: 0.4792 - val_loss: 0.9482 - val_acc: 0.5364\n",
            "Epoch 10/50\n",
            " - 0s - loss: 0.9580 - acc: 0.4693 - val_loss: 0.9483 - val_acc: 0.5364\n",
            "Epoch 11/50\n",
            " - 0s - loss: 0.9619 - acc: 0.4693 - val_loss: 0.9488 - val_acc: 0.5364\n",
            "Epoch 12/50\n",
            " - 0s - loss: 0.9550 - acc: 0.4428 - val_loss: 0.9477 - val_acc: 0.5364\n",
            "Epoch 13/50\n",
            " - 0s - loss: 0.9494 - acc: 0.4882 - val_loss: 0.9484 - val_acc: 0.5364\n",
            "Epoch 14/50\n",
            " - 0s - loss: 0.9471 - acc: 0.4822 - val_loss: 0.9465 - val_acc: 0.5364\n",
            "Epoch 15/50\n",
            " - 0s - loss: 0.9378 - acc: 0.4860 - val_loss: 0.9453 - val_acc: 0.5364\n",
            "Epoch 16/50\n",
            " - 0s - loss: 0.9491 - acc: 0.4799 - val_loss: 0.9472 - val_acc: 0.5364\n",
            "Epoch 17/50\n",
            " - 0s - loss: 0.9431 - acc: 0.4723 - val_loss: 0.9472 - val_acc: 0.5364\n",
            "Epoch 18/50\n",
            " - 0s - loss: 0.9450 - acc: 0.4784 - val_loss: 0.9463 - val_acc: 0.5364\n",
            "Epoch 19/50\n",
            " - 0s - loss: 0.9422 - acc: 0.4769 - val_loss: 0.9469 - val_acc: 0.5364\n",
            "Epoch 20/50\n",
            " - 0s - loss: 0.9298 - acc: 0.4898 - val_loss: 0.9448 - val_acc: 0.5364\n",
            "Epoch 21/50\n",
            " - 0s - loss: 0.9332 - acc: 0.4890 - val_loss: 0.9447 - val_acc: 0.5364\n",
            "Epoch 22/50\n",
            " - 0s - loss: 0.9316 - acc: 0.4814 - val_loss: 0.9443 - val_acc: 0.5364\n",
            "Epoch 23/50\n",
            " - 0s - loss: 0.9338 - acc: 0.4746 - val_loss: 0.9440 - val_acc: 0.5364\n",
            "Epoch 24/50\n",
            " - 0s - loss: 0.9241 - acc: 0.4928 - val_loss: 0.9435 - val_acc: 0.5364\n",
            "Epoch 25/50\n",
            " - 0s - loss: 0.9262 - acc: 0.4905 - val_loss: 0.9432 - val_acc: 0.5364\n",
            "Epoch 26/50\n",
            " - 0s - loss: 0.9123 - acc: 0.5102 - val_loss: 0.9430 - val_acc: 0.5364\n",
            "Epoch 27/50\n",
            " - 0s - loss: 0.9253 - acc: 0.4890 - val_loss: 0.9428 - val_acc: 0.5364\n",
            "Epoch 28/50\n",
            " - 0s - loss: 0.9211 - acc: 0.4943 - val_loss: 0.9457 - val_acc: 0.5394\n",
            "Epoch 29/50\n",
            " - 0s - loss: 0.9207 - acc: 0.5004 - val_loss: 0.9443 - val_acc: 0.5394\n",
            "Epoch 30/50\n",
            " - 0s - loss: 0.9234 - acc: 0.4852 - val_loss: 0.9436 - val_acc: 0.5364\n",
            "Epoch 31/50\n",
            " - 0s - loss: 0.9108 - acc: 0.4996 - val_loss: 0.9431 - val_acc: 0.5364\n",
            "Epoch 32/50\n",
            " - 0s - loss: 0.9041 - acc: 0.5095 - val_loss: 0.9430 - val_acc: 0.5394\n",
            "Epoch 33/50\n",
            " - 0s - loss: 0.9088 - acc: 0.5034 - val_loss: 0.9434 - val_acc: 0.5394\n",
            "Epoch 34/50\n",
            " - 0s - loss: 0.9169 - acc: 0.4989 - val_loss: 0.9433 - val_acc: 0.5394\n",
            "Epoch 35/50\n",
            " - 0s - loss: 0.9038 - acc: 0.4951 - val_loss: 0.9437 - val_acc: 0.5424\n",
            "Epoch 36/50\n",
            " - 0s - loss: 0.8992 - acc: 0.5080 - val_loss: 0.9437 - val_acc: 0.5424\n",
            "Epoch 37/50\n",
            " - 0s - loss: 0.9041 - acc: 0.4996 - val_loss: 0.9441 - val_acc: 0.5424\n",
            "Epoch 38/50\n",
            " - 0s - loss: 0.9019 - acc: 0.4860 - val_loss: 0.9446 - val_acc: 0.5455\n",
            "Epoch 39/50\n",
            " - 0s - loss: 0.8946 - acc: 0.5118 - val_loss: 0.9445 - val_acc: 0.5545\n",
            "Epoch 40/50\n",
            " - 0s - loss: 0.9005 - acc: 0.5042 - val_loss: 0.9441 - val_acc: 0.5424\n",
            "Epoch 41/50\n",
            " - 0s - loss: 0.8888 - acc: 0.5140 - val_loss: 0.9447 - val_acc: 0.5545\n",
            "Epoch 42/50\n",
            " - 0s - loss: 0.8895 - acc: 0.5201 - val_loss: 0.9448 - val_acc: 0.5485\n",
            "Epoch 43/50\n",
            " - 0s - loss: 0.8899 - acc: 0.5330 - val_loss: 0.9447 - val_acc: 0.5455\n",
            "Epoch 44/50\n",
            " - 0s - loss: 0.8847 - acc: 0.5148 - val_loss: 0.9452 - val_acc: 0.5424\n",
            "Epoch 45/50\n",
            " - 0s - loss: 0.8852 - acc: 0.5277 - val_loss: 0.9456 - val_acc: 0.5576\n",
            "Epoch 46/50\n",
            " - 0s - loss: 0.8777 - acc: 0.5292 - val_loss: 0.9456 - val_acc: 0.5515\n",
            "Epoch 47/50\n",
            " - 0s - loss: 0.8716 - acc: 0.5375 - val_loss: 0.9454 - val_acc: 0.5515\n",
            "Epoch 48/50\n",
            " - 0s - loss: 0.8718 - acc: 0.5118 - val_loss: 0.9471 - val_acc: 0.5424\n",
            "Epoch 49/50\n",
            " - 0s - loss: 0.8606 - acc: 0.5262 - val_loss: 0.9495 - val_acc: 0.5242\n",
            "Epoch 50/50\n",
            " - 0s - loss: 0.8700 - acc: 0.5277 - val_loss: 0.9501 - val_acc: 0.5242\n"
          ],
          "name": "stdout"
        }
      ]
    },
    {
      "metadata": {
        "id": "Cw1DLEA1BkIU",
        "colab_type": "text"
      },
      "cell_type": "markdown",
      "source": [
        "**MODEL PERFORMANCE**"
      ]
    },
    {
      "metadata": {
        "id": "p59WtvKplnZ8",
        "colab_type": "code",
        "outputId": "7547ba78-91de-4f22-a306-c0a056c4f0ea",
        "colab": {
          "base_uri": "https://localhost:8080/",
          "height": 67
        }
      },
      "cell_type": "code",
      "source": [
        "acc = model.evaluate(x_val, y_val, verbose=1)\n",
        "print('Test data loss:', acc[0] )\n",
        "print('Test data accuracy:', acc[1] * 100)"
      ],
      "execution_count": 0,
      "outputs": [
        {
          "output_type": "stream",
          "text": [
            "330/330 [==============================] - 0s 108us/step\n",
            "Test data loss: 0.9501315030184659\n",
            "Test data accuracy: 52.42424242424243\n"
          ],
          "name": "stdout"
        }
      ]
    },
    {
      "metadata": {
        "id": "JFE95EpYBqTc",
        "colab_type": "text"
      },
      "cell_type": "markdown",
      "source": [
        "**VISUALIZING MODEL ACCURACY**"
      ]
    },
    {
      "metadata": {
        "id": "lUJ8Oi4ylvzC",
        "colab_type": "code",
        "outputId": "61541691-a4ab-41aa-e6f9-fc3f9412d64b",
        "colab": {
          "base_uri": "https://localhost:8080/",
          "height": 376
        }
      },
      "cell_type": "code",
      "source": [
        "plt.plot(history.history['acc'])\n",
        "plt.plot(history.history['val_acc'])\n",
        "plt.title('Model accuracy')\n",
        "plt.ylabel('Accuracy')\n",
        "plt.xlabel('Epoch')\n",
        "plt.legend(['Train', 'Test'], loc='upper left')\n",
        "plt.show()"
      ],
      "execution_count": 0,
      "outputs": [
        {
          "output_type": "display_data",
          "data": {
            "image/png": "[encoded data removed]",
            "text/plain": [
              "<Figure size 576x396 with 1 Axes>"
            ]
          },
          "metadata": {
            "tags": []
          }
        }
      ]
    },
    {
      "metadata": {
        "id": "Brbcs6J2Bs9o",
        "colab_type": "text"
      },
      "cell_type": "markdown",
      "source": [
        "**VISUALIZING MODEL LOSS**"
      ]
    },
    {
      "metadata": {
        "id": "OjqQAZbplxkk",
        "colab_type": "code",
        "outputId": "8ccac9bf-f406-45c3-900c-5bfb09e093b2",
        "colab": {
          "base_uri": "https://localhost:8080/",
          "height": 376
        }
      },
      "cell_type": "code",
      "source": [
        "plt.plot(history.history['loss'])\n",
        "plt.plot(history.history['val_loss'])\n",
        "plt.title('Model Loss')\n",
        "plt.ylabel('Accuracy')\n",
        "plt.xlabel('Epoch')\n",
        "plt.legend(['Train', 'Test'], loc='upper left')\n",
        "plt.show()\n"
      ],
      "execution_count": 0,
      "outputs": [
        {
          "output_type": "display_data",
          "data": {
            "image/png": "[encoded data removed]",
            "text/plain": [
              "<Figure size 576x396 with 1 Axes>"
            ]
          },
          "metadata": {
            "tags": []
          }
        }
      ]
    },
    {
      "metadata": {
        "id": "zGakpcyRByo8",
        "colab_type": "text"
      },
      "cell_type": "markdown",
      "source": [
        "**VISUALIZING MODEL PERFORMANCE ON TEST DATA WITH CONFUSION MATRIX**"
      ]
    },
    {
      "metadata": {
        "id": "1VvBY2kKl-QR",
        "colab_type": "code",
        "colab": {}
      },
      "cell_type": "code",
      "source": [
        "predicted = model.predict(x_val)"
      ],
      "execution_count": 0,
      "outputs": []
    },
    {
      "metadata": {
        "id": "iceTAuONmC0h",
        "colab_type": "code",
        "colab": {}
      },
      "cell_type": "code",
      "source": [
        "for i in range(0,len(predicted)):\n",
        "  y = predicted[i]\n",
        "  max = np.argmax(y)\n",
        "  min = np.argmin(y)\n",
        "  for x in range(0,2):\n",
        "    y[max]=1\n",
        "    y[min]=0\n",
        "    if y[x]!=0 and y[x]!=1:\n",
        "      y[x]=0"
      ],
      "execution_count": 0,
      "outputs": []
    },
    {
      "metadata": {
        "id": "AYw5PLQ3mENp",
        "colab_type": "code",
        "outputId": "7253a160-3e4b-4a02-8519-a47e6a907595",
        "colab": {
          "base_uri": "https://localhost:8080/",
          "height": 84
        }
      },
      "cell_type": "code",
      "source": [
        "cm = confusion_matrix(y_val.argmax(axis=1), predicted.argmax(axis =1)) \n",
        "print('Confusion Matrix :')\n",
        "print(cm) "
      ],
      "execution_count": 0,
      "outputs": [
        {
          "output_type": "stream",
          "text": [
            "Confusion Matrix :\n",
            "[[  0  10  24]\n",
            " [  0  39  80]\n",
            " [  0  43 134]]\n"
          ],
          "name": "stdout"
        }
      ]
    },
    {
      "metadata": {
        "id": "1Vw-qrGkmL8o",
        "colab_type": "code",
        "outputId": "e9fcf7fc-aed0-41e1-aafe-e581249f1a97",
        "colab": {
          "base_uri": "https://localhost:8080/",
          "height": 364
        }
      },
      "cell_type": "code",
      "source": [
        "sns.heatmap(cm, annot=True, fmt=\"d\")"
      ],
      "execution_count": 0,
      "outputs": [
        {
          "output_type": "execute_result",
          "data": {
            "text/plain": [
              "<matplotlib.axes._subplots.AxesSubplot at 0x7fbc01c19dd8>"
            ]
          },
          "metadata": {
            "tags": []
          },
          "execution_count": 21
        },
        {
          "output_type": "display_data",
          "data": {
            "image/png": "[encoded data removed]",
            "text/plain": [
              "<Figure size 576x396 with 2 Axes>"
            ]
          },
          "metadata": {
            "tags": []
          }
        }
      ]
    }
  ]
}