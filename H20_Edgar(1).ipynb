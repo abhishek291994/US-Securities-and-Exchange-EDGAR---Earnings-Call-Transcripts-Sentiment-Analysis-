{
  "nbformat": 4,
  "nbformat_minor": 0,
  "metadata": {
    "colab": {
      "name": "H20_Edgar.ipynb",
      "version": "0.3.2",
      "provenance": []
    },
    "kernelspec": {
      "display_name": "Python 3",
      "language": "python",
      "name": "python3"
    }
  },
  "cells": [
    {
      "metadata": {
        "id": "laAcKAirlHag",
        "colab_type": "text"
      },
      "cell_type": "markdown",
      "source": [
        "**LOADING REQUIRED LIBRARIES**"
      ]
    },
    {
      "metadata": {
        "id": "A2anZvZ3P0po",
        "colab_type": "code",
        "colab": {},
        "outputId": "95956eba-31bb-482c-ee9d-11ad3f8d36c1"
      },
      "cell_type": "code",
      "source": [
        "import h2o\n",
        "from sklearn.model_selection import train_test_split,GridSearchCV\n",
        "import seaborn as sns\n",
        "from sklearn.ensemble import GradientBoostingRegressor\n",
        "import numpy as np\n",
        "import math\n",
        "import pandas as pd\n",
        "import category_encoders as ce\n",
        "from h2o.estimators.gbm import H2OGradientBoostingEstimator\n",
        "from h2o.automl import H2OAutoML\n",
        "h2o.init()"
      ],
      "execution_count": 0,
      "outputs": [
        {
          "output_type": "stream",
          "text": [
            "Checking whether there is an H2O instance running at http://localhost:54321..... not found.\n",
            "Attempting to start a local H2O server...\n",
            "; OpenJDK 64-Bit Server VM (build 25.152-b12, mixed mode)56-b12)\n",
            "  Starting server from C:\\Users\\Abhishek\\Anaconda3_NEW\\h2o_jar\\h2o.jar\n",
            "  Ice root: C:\\Users\\Abhishek\\AppData\\Local\\Temp\\tmpkpr92ik9\n",
            "  JVM stdout: C:\\Users\\Abhishek\\AppData\\Local\\Temp\\tmpkpr92ik9\\h2o_Abhishek_started_from_python.out\n",
            "  JVM stderr: C:\\Users\\Abhishek\\AppData\\Local\\Temp\\tmpkpr92ik9\\h2o_Abhishek_started_from_python.err\n",
            "  Server is running at http://127.0.0.1:54321\n",
            "Connecting to H2O server at http://127.0.0.1:54321... successful.\n",
            "Warning: Your H2O cluster version is too old (1 year and 12 days)! Please download and install the latest version from http://h2o.ai/download/\n"
          ],
          "name": "stdout"
        },
        {
          "output_type": "display_data",
          "data": {
            "text/html": [
              "<div style=\"overflow:auto\"><table style=\"width:50%\"><tr><td>H2O cluster uptime:</td>\n",
              "<td>02 secs</td></tr>\n",
              "<tr><td>H2O cluster timezone:</td>\n",
              "<td>America/New_York</td></tr>\n",
              "<tr><td>H2O data parsing timezone:</td>\n",
              "<td>UTC</td></tr>\n",
              "<tr><td>H2O cluster version:</td>\n",
              "<td>3.18.0.2</td></tr>\n",
              "<tr><td>H2O cluster version age:</td>\n",
              "<td>1 year and 12 days !!!</td></tr>\n",
              "<tr><td>H2O cluster name:</td>\n",
              "<td>H2O_from_python_Abhishek_qfahk6</td></tr>\n",
              "<tr><td>H2O cluster total nodes:</td>\n",
              "<td>1</td></tr>\n",
              "<tr><td>H2O cluster free memory:</td>\n",
              "<td>3.533 Gb</td></tr>\n",
              "<tr><td>H2O cluster total cores:</td>\n",
              "<td>8</td></tr>\n",
              "<tr><td>H2O cluster allowed cores:</td>\n",
              "<td>8</td></tr>\n",
              "<tr><td>H2O cluster status:</td>\n",
              "<td>accepting new members, healthy</td></tr>\n",
              "<tr><td>H2O connection url:</td>\n",
              "<td>http://127.0.0.1:54321</td></tr>\n",
              "<tr><td>H2O connection proxy:</td>\n",
              "<td>None</td></tr>\n",
              "<tr><td>H2O internal security:</td>\n",
              "<td>False</td></tr>\n",
              "<tr><td>H2O API Extensions:</td>\n",
              "<td>Algos, AutoML, Core V3, Core V4</td></tr>\n",
              "<tr><td>Python version:</td>\n",
              "<td>3.6.7 final</td></tr></table></div>"
            ],
            "text/plain": [
              "--------------------------  -------------------------------\n",
              "H2O cluster uptime:         02 secs\n",
              "H2O cluster timezone:       America/New_York\n",
              "H2O data parsing timezone:  UTC\n",
              "H2O cluster version:        3.18.0.2\n",
              "H2O cluster version age:    1 year and 12 days !!!\n",
              "H2O cluster name:           H2O_from_python_Abhishek_qfahk6\n",
              "H2O cluster total nodes:    1\n",
              "H2O cluster free memory:    3.533 Gb\n",
              "H2O cluster total cores:    8\n",
              "H2O cluster allowed cores:  8\n",
              "H2O cluster status:         accepting new members, healthy\n",
              "H2O connection url:         http://127.0.0.1:54321\n",
              "H2O connection proxy:\n",
              "H2O internal security:      False\n",
              "H2O API Extensions:         Algos, AutoML, Core V3, Core V4\n",
              "Python version:             3.6.7 final\n",
              "--------------------------  -------------------------------"
            ]
          },
          "metadata": {
            "tags": []
          }
        }
      ]
    },
    {
      "metadata": {
        "id": "J3NMszNBlMoz",
        "colab_type": "text"
      },
      "cell_type": "markdown",
      "source": [
        "**IMPORTING SCORES DATA FILE**"
      ]
    },
    {
      "metadata": {
        "id": "LHYsOONNP0p-",
        "colab_type": "code",
        "colab": {},
        "outputId": "d8f6d35e-cb0e-482b-c54e-aaa2b71cbf00"
      },
      "cell_type": "code",
      "source": [
        "df = h2o.import_file('C:\\AI and neural networks\\Assignment 3\\API_Scores.csv')\n",
        "df.head()"
      ],
      "execution_count": 0,
      "outputs": [
        {
          "output_type": "stream",
          "text": [
            "Parse progress: |█████████████████████████████████████████████████████████| 100%\n"
          ],
          "name": "stdout"
        },
        {
          "output_type": "display_data",
          "data": {
            "text/html": [
              "<table>\n",
              "<thead>\n",
              "<tr><th style=\"text-align: right;\">  Azure_Score</th><th style=\"text-align: right;\">  AWS_Score</th><th style=\"text-align: right;\">  Google_Score</th><th style=\"text-align: right;\">  IBM_Score</th><th style=\"text-align: right;\">  Manual_label</th></tr>\n",
              "</thead>\n",
              "<tbody>\n",
              "<tr><td style=\"text-align: right;\">     0.887542</td><td style=\"text-align: right;\">        0.5</td><td style=\"text-align: right;\">           0  </td><td style=\"text-align: right;\">   0.987951</td><td style=\"text-align: right;\">             1</td></tr>\n",
              "<tr><td style=\"text-align: right;\">     0.832603</td><td style=\"text-align: right;\">        0.6</td><td style=\"text-align: right;\">           0.1</td><td style=\"text-align: right;\">   0.655981</td><td style=\"text-align: right;\">             1</td></tr>\n",
              "<tr><td style=\"text-align: right;\">     0.5     </td><td style=\"text-align: right;\">        0.5</td><td style=\"text-align: right;\">           0.1</td><td style=\"text-align: right;\">   0       </td><td style=\"text-align: right;\">             1</td></tr>\n",
              "<tr><td style=\"text-align: right;\">     0.792194</td><td style=\"text-align: right;\">        0.5</td><td style=\"text-align: right;\">           0.1</td><td style=\"text-align: right;\">   0.580306</td><td style=\"text-align: right;\">             1</td></tr>\n",
              "<tr><td style=\"text-align: right;\">     0.749581</td><td style=\"text-align: right;\">        0.5</td><td style=\"text-align: right;\">           0.1</td><td style=\"text-align: right;\">   0.683194</td><td style=\"text-align: right;\">             2</td></tr>\n",
              "<tr><td style=\"text-align: right;\">     0.5     </td><td style=\"text-align: right;\">        0.5</td><td style=\"text-align: right;\">           0  </td><td style=\"text-align: right;\">   0.427012</td><td style=\"text-align: right;\">             1</td></tr>\n",
              "<tr><td style=\"text-align: right;\">     0.5     </td><td style=\"text-align: right;\">        0.5</td><td style=\"text-align: right;\">           0  </td><td style=\"text-align: right;\">   0.990295</td><td style=\"text-align: right;\">             1</td></tr>\n",
              "<tr><td style=\"text-align: right;\">     0.5     </td><td style=\"text-align: right;\">        0.5</td><td style=\"text-align: right;\">          -0.2</td><td style=\"text-align: right;\">  -0.24186 </td><td style=\"text-align: right;\">             1</td></tr>\n",
              "<tr><td style=\"text-align: right;\">     0.5     </td><td style=\"text-align: right;\">        0.5</td><td style=\"text-align: right;\">          -0.1</td><td style=\"text-align: right;\">  -0.516043</td><td style=\"text-align: right;\">             1</td></tr>\n",
              "<tr><td style=\"text-align: right;\">     0.5     </td><td style=\"text-align: right;\">        0.5</td><td style=\"text-align: right;\">           0.3</td><td style=\"text-align: right;\">   0       </td><td style=\"text-align: right;\">             2</td></tr>\n",
              "</tbody>\n",
              "</table>"
            ]
          },
          "metadata": {
            "tags": []
          }
        },
        {
          "output_type": "execute_result",
          "data": {
            "text/plain": [
              ""
            ]
          },
          "metadata": {
            "tags": []
          },
          "execution_count": 2
        }
      ]
    },
    {
      "metadata": {
        "id": "FxJB1JpPP0qK",
        "colab_type": "code",
        "colab": {}
      },
      "cell_type": "code",
      "source": [
        "df['Manual_label'] = df['Manual_label'].asfactor()"
      ],
      "execution_count": 0,
      "outputs": []
    },
    {
      "metadata": {
        "id": "0vobL_j7P0qV",
        "colab_type": "code",
        "colab": {}
      },
      "cell_type": "code",
      "source": [
        "#Setting target variable\n",
        "y = 'Manual_label'"
      ],
      "execution_count": 0,
      "outputs": []
    },
    {
      "metadata": {
        "id": "xYonIGscP0qd",
        "colab_type": "code",
        "colab": {}
      },
      "cell_type": "code",
      "source": [
        "def get_independent_variables(df, targ):\n",
        "    C = [name for name in df.columns if name != targ]\n",
        "    # determine column types\n",
        "    ints, reals, enums = [], [], []\n",
        "    for key, val in df.types.items():\n",
        "        if key in C:\n",
        "            if val == 'enum':\n",
        "                enums.append(key)\n",
        "            elif val == 'int':\n",
        "                ints.append(key)            \n",
        "            else: \n",
        "                reals.append(key)    \n",
        "    x=ints+enums+reals\n",
        "    return x"
      ],
      "execution_count": 0,
      "outputs": []
    },
    {
      "metadata": {
        "id": "M5ekP3VdP0ql",
        "colab_type": "code",
        "colab": {},
        "outputId": "6737123c-33c9-4d01-8345-52cbf6e1d8aa"
      },
      "cell_type": "code",
      "source": [
        "X=get_independent_variables(df, y) \n",
        "print(X)"
      ],
      "execution_count": 0,
      "outputs": [
        {
          "output_type": "stream",
          "text": [
            "['Azure_Score', 'AWS_Score', 'Google_Score', 'IBM_Score']\n"
          ],
          "name": "stdout"
        }
      ]
    },
    {
      "metadata": {
        "id": "s-NLHFH0lSCp",
        "colab_type": "text"
      },
      "cell_type": "markdown",
      "source": [
        "**FINDING BEST MODEL**"
      ]
    },
    {
      "metadata": {
        "id": "h_PViuPaP0qx",
        "colab_type": "code",
        "colab": {},
        "outputId": "9ee98295-4d7d-46e3-ded8-889b3af558a2"
      },
      "cell_type": "code",
      "source": [
        "aml = H2OAutoML(max_models = 30, max_runtime_secs= 3600, seed = 1)\n",
        "aml.train(x = X, y = y, training_frame = df)"
      ],
      "execution_count": 0,
      "outputs": [
        {
          "output_type": "stream",
          "text": [
            "AutoML progress: |████████████████████████████████████████████████████████| 100%\n",
            "Parse progress: |█████████████████████████████████████████████████████████| 100%\n"
          ],
          "name": "stdout"
        }
      ]
    },
    {
      "metadata": {
        "id": "FoE2KflflYP6",
        "colab_type": "text"
      },
      "cell_type": "markdown",
      "source": [
        "**MODEL PERFORMANCE**"
      ]
    },
    {
      "metadata": {
        "id": "bJKphCSFP0rB",
        "colab_type": "code",
        "colab": {},
        "outputId": "69b87a54-2528-48b6-d013-bfd12215524a"
      },
      "cell_type": "code",
      "source": [
        "aml.leader"
      ],
      "execution_count": 0,
      "outputs": [
        {
          "output_type": "stream",
          "text": [
            "Model Details\n",
            "=============\n",
            "H2ORandomForestEstimator :  Distributed Random Forest\n",
            "Model Key:  DRF_0_AutoML_20190320_212351\n",
            "\n",
            "\n",
            "ModelMetricsMultinomial: drf\n",
            "** Reported on train data. **\n",
            "\n",
            "MSE: 0.32266044167935154\n",
            "RMSE: 0.5680320780372808\n",
            "LogLoss: 2.53022840617711\n",
            "Mean Per-Class Error: 0.5534829563806847\n",
            "Confusion Matrix: Row labels: Actual class; Column labels: Predicted class\n",
            "\n"
          ],
          "name": "stdout"
        },
        {
          "output_type": "display_data",
          "data": {
            "text/html": [
              "<div style=\"overflow:auto\"><table style=\"width:50%\"><tr><td><b>0</b></td>\n",
              "<td><b>1</b></td>\n",
              "<td><b>2</b></td>\n",
              "<td><b>Error</b></td>\n",
              "<td><b>Rate</b></td></tr>\n",
              "<tr><td>20.0</td>\n",
              "<td>44.0</td>\n",
              "<td>60.0</td>\n",
              "<td>0.8387097</td>\n",
              "<td>104 / 124</td></tr>\n",
              "<tr><td>26.0</td>\n",
              "<td>285.0</td>\n",
              "<td>224.0</td>\n",
              "<td>0.4672897</td>\n",
              "<td>250 / 535</td></tr>\n",
              "<tr><td>28.0</td>\n",
              "<td>207.0</td>\n",
              "<td>428.0</td>\n",
              "<td>0.3544495</td>\n",
              "<td>235 / 663</td></tr>\n",
              "<tr><td>74.0</td>\n",
              "<td>536.0</td>\n",
              "<td>712.0</td>\n",
              "<td>0.4455371</td>\n",
              "<td>589 / 1,322</td></tr></table></div>"
            ],
            "text/plain": [
              "0    1    2    Error     Rate\n",
              "---  ---  ---  --------  -----------\n",
              "20   44   60   0.83871   104 / 124\n",
              "26   285  224  0.46729   250 / 535\n",
              "28   207  428  0.354449  235 / 663\n",
              "74   536  712  0.445537  589 / 1,322"
            ]
          },
          "metadata": {
            "tags": []
          }
        },
        {
          "output_type": "stream",
          "text": [
            "Top-3 Hit Ratios: \n"
          ],
          "name": "stdout"
        },
        {
          "output_type": "display_data",
          "data": {
            "text/html": [
              "<div style=\"overflow:auto\"><table style=\"width:50%\"><tr><td><b>k</b></td>\n",
              "<td><b>hit_ratio</b></td></tr>\n",
              "<tr><td>1</td>\n",
              "<td>0.5544629</td></tr>\n",
              "<tr><td>2</td>\n",
              "<td>0.8835098</td></tr>\n",
              "<tr><td>3</td>\n",
              "<td>1.0</td></tr></table></div>"
            ],
            "text/plain": [
              "k    hit_ratio\n",
              "---  -----------\n",
              "1    0.554463\n",
              "2    0.88351\n",
              "3    1"
            ]
          },
          "metadata": {
            "tags": []
          }
        },
        {
          "output_type": "stream",
          "text": [
            "\n",
            "ModelMetricsMultinomial: drf\n",
            "** Reported on validation data. **\n",
            "\n",
            "MSE: 0.3196094466809729\n",
            "RMSE: 0.5653401159310852\n",
            "LogLoss: 1.5390621185899116\n",
            "Mean Per-Class Error: 0.5929475015812776\n",
            "Confusion Matrix: Row labels: Actual class; Column labels: Predicted class\n",
            "\n"
          ],
          "name": "stdout"
        },
        {
          "output_type": "display_data",
          "data": {
            "text/html": [
              "<div style=\"overflow:auto\"><table style=\"width:50%\"><tr><td><b>0</b></td>\n",
              "<td><b>1</b></td>\n",
              "<td><b>2</b></td>\n",
              "<td><b>Error</b></td>\n",
              "<td><b>Rate</b></td></tr>\n",
              "<tr><td>0.0</td>\n",
              "<td>8.0</td>\n",
              "<td>26.0</td>\n",
              "<td>1.0</td>\n",
              "<td>34 / 34</td></tr>\n",
              "<tr><td>5.0</td>\n",
              "<td>69.0</td>\n",
              "<td>50.0</td>\n",
              "<td>0.4435484</td>\n",
              "<td>55 / 124</td></tr>\n",
              "<tr><td>7.0</td>\n",
              "<td>50.0</td>\n",
              "<td>113.0</td>\n",
              "<td>0.3352941</td>\n",
              "<td>57 / 170</td></tr>\n",
              "<tr><td>12.0</td>\n",
              "<td>127.0</td>\n",
              "<td>189.0</td>\n",
              "<td>0.4451220</td>\n",
              "<td>146 / 328</td></tr></table></div>"
            ],
            "text/plain": [
              "0    1    2    Error     Rate\n",
              "---  ---  ---  --------  ---------\n",
              "0    8    26   1         34 / 34\n",
              "5    69   50   0.443548  55 / 124\n",
              "7    50   113  0.335294  57 / 170\n",
              "12   127  189  0.445122  146 / 328"
            ]
          },
          "metadata": {
            "tags": []
          }
        },
        {
          "output_type": "stream",
          "text": [
            "Top-3 Hit Ratios: \n"
          ],
          "name": "stdout"
        },
        {
          "output_type": "display_data",
          "data": {
            "text/html": [
              "<div style=\"overflow:auto\"><table style=\"width:50%\"><tr><td><b>k</b></td>\n",
              "<td><b>hit_ratio</b></td></tr>\n",
              "<tr><td>1</td>\n",
              "<td>0.5548781</td></tr>\n",
              "<tr><td>2</td>\n",
              "<td>0.8628049</td></tr>\n",
              "<tr><td>3</td>\n",
              "<td>1.0</td></tr></table></div>"
            ],
            "text/plain": [
              "k    hit_ratio\n",
              "---  -----------\n",
              "1    0.554878\n",
              "2    0.862805\n",
              "3    1"
            ]
          },
          "metadata": {
            "tags": []
          }
        },
        {
          "output_type": "stream",
          "text": [
            "\n",
            "ModelMetricsMultinomial: drf\n",
            "** Reported on cross-validation data. **\n",
            "\n",
            "MSE: 0.31224117187839184\n",
            "RMSE: 0.5587854435097535\n",
            "LogLoss: 1.4449529633233986\n",
            "Mean Per-Class Error: 0.5344629483867633\n",
            "Confusion Matrix: Row labels: Actual class; Column labels: Predicted class\n",
            "\n"
          ],
          "name": "stdout"
        },
        {
          "output_type": "display_data",
          "data": {
            "text/html": [
              "<div style=\"overflow:auto\"><table style=\"width:50%\"><tr><td><b>0</b></td>\n",
              "<td><b>1</b></td>\n",
              "<td><b>2</b></td>\n",
              "<td><b>Error</b></td>\n",
              "<td><b>Rate</b></td></tr>\n",
              "<tr><td>19.0</td>\n",
              "<td>45.0</td>\n",
              "<td>60.0</td>\n",
              "<td>0.8467742</td>\n",
              "<td>105 / 124</td></tr>\n",
              "<tr><td>18.0</td>\n",
              "<td>315.0</td>\n",
              "<td>202.0</td>\n",
              "<td>0.4112150</td>\n",
              "<td>220 / 535</td></tr>\n",
              "<tr><td>32.0</td>\n",
              "<td>197.0</td>\n",
              "<td>434.0</td>\n",
              "<td>0.3453997</td>\n",
              "<td>229 / 663</td></tr>\n",
              "<tr><td>69.0</td>\n",
              "<td>557.0</td>\n",
              "<td>696.0</td>\n",
              "<td>0.4190620</td>\n",
              "<td>554 / 1,322</td></tr></table></div>"
            ],
            "text/plain": [
              "0    1    2    Error     Rate\n",
              "---  ---  ---  --------  -----------\n",
              "19   45   60   0.846774  105 / 124\n",
              "18   315  202  0.411215  220 / 535\n",
              "32   197  434  0.3454    229 / 663\n",
              "69   557  696  0.419062  554 / 1,322"
            ]
          },
          "metadata": {
            "tags": []
          }
        },
        {
          "output_type": "stream",
          "text": [
            "Top-3 Hit Ratios: \n"
          ],
          "name": "stdout"
        },
        {
          "output_type": "display_data",
          "data": {
            "text/html": [
              "<div style=\"overflow:auto\"><table style=\"width:50%\"><tr><td><b>k</b></td>\n",
              "<td><b>hit_ratio</b></td></tr>\n",
              "<tr><td>1</td>\n",
              "<td>0.580938</td></tr>\n",
              "<tr><td>2</td>\n",
              "<td>0.8804841</td></tr>\n",
              "<tr><td>3</td>\n",
              "<td>1.0</td></tr></table></div>"
            ],
            "text/plain": [
              "k    hit_ratio\n",
              "---  -----------\n",
              "1    0.580938\n",
              "2    0.880484\n",
              "3    1"
            ]
          },
          "metadata": {
            "tags": []
          }
        },
        {
          "output_type": "stream",
          "text": [
            "Cross-Validation Metrics Summary: \n"
          ],
          "name": "stdout"
        },
        {
          "output_type": "display_data",
          "data": {
            "text/html": [
              "<div style=\"overflow:auto\"><table style=\"width:50%\"><tr><td><b></b></td>\n",
              "<td><b>mean</b></td>\n",
              "<td><b>sd</b></td>\n",
              "<td><b>cv_1_valid</b></td>\n",
              "<td><b>cv_2_valid</b></td>\n",
              "<td><b>cv_3_valid</b></td>\n",
              "<td><b>cv_4_valid</b></td>\n",
              "<td><b>cv_5_valid</b></td></tr>\n",
              "<tr><td>accuracy</td>\n",
              "<td>0.5809434</td>\n",
              "<td>0.0076685</td>\n",
              "<td>0.5773585</td>\n",
              "<td>0.5773585</td>\n",
              "<td>0.5719697</td>\n",
              "<td>0.5757576</td>\n",
              "<td>0.6022728</td></tr>\n",
              "<tr><td>err</td>\n",
              "<td>0.4190566</td>\n",
              "<td>0.0076685</td>\n",
              "<td>0.4226415</td>\n",
              "<td>0.4226415</td>\n",
              "<td>0.4280303</td>\n",
              "<td>0.4242424</td>\n",
              "<td>0.3977273</td></tr>\n",
              "<tr><td>err_count</td>\n",
              "<td>110.8</td>\n",
              "<td>2.0688162</td>\n",
              "<td>112.0</td>\n",
              "<td>112.0</td>\n",
              "<td>113.0</td>\n",
              "<td>112.0</td>\n",
              "<td>105.0</td></tr>\n",
              "<tr><td>logloss</td>\n",
              "<td>1.444977</td>\n",
              "<td>0.1811897</td>\n",
              "<td>1.2535964</td>\n",
              "<td>1.6045083</td>\n",
              "<td>1.0346824</td>\n",
              "<td>1.6579013</td>\n",
              "<td>1.6741967</td></tr>\n",
              "<tr><td>max_per_class_error</td>\n",
              "<td>0.8445042</td>\n",
              "<td>0.0574736</td>\n",
              "<td>0.84</td>\n",
              "<td>0.8518519</td>\n",
              "<td>0.6956522</td>\n",
              "<td>0.9090909</td>\n",
              "<td>0.9259259</td></tr>\n",
              "<tr><td>mean_per_class_accuracy</td>\n",
              "<td>0.4662655</td>\n",
              "<td>0.0122807</td>\n",
              "<td>0.4628572</td>\n",
              "<td>0.4654287</td>\n",
              "<td>0.4968604</td>\n",
              "<td>0.4427793</td>\n",
              "<td>0.4634018</td></tr>\n",
              "<tr><td>mean_per_class_error</td>\n",
              "<td>0.5337345</td>\n",
              "<td>0.0122807</td>\n",
              "<td>0.5371429</td>\n",
              "<td>0.5345713</td>\n",
              "<td>0.5031396</td>\n",
              "<td>0.5572207</td>\n",
              "<td>0.5365982</td></tr>\n",
              "<tr><td>mse</td>\n",
              "<td>0.3122305</td>\n",
              "<td>0.0085228</td>\n",
              "<td>0.3082426</td>\n",
              "<td>0.3303622</td>\n",
              "<td>0.3094557</td>\n",
              "<td>0.3189836</td>\n",
              "<td>0.2941082</td></tr>\n",
              "<tr><td>r2</td>\n",
              "<td>0.2707393</td>\n",
              "<td>0.0298693</td>\n",
              "<td>0.2855995</td>\n",
              "<td>0.2470079</td>\n",
              "<td>0.2605656</td>\n",
              "<td>0.2176004</td>\n",
              "<td>0.3429232</td></tr>\n",
              "<tr><td>rmse</td>\n",
              "<td>0.5586717</td>\n",
              "<td>0.0076277</td>\n",
              "<td>0.555196</td>\n",
              "<td>0.5747715</td>\n",
              "<td>0.5562874</td>\n",
              "<td>0.5647864</td>\n",
              "<td>0.5423175</td></tr></table></div>"
            ],
            "text/plain": [
              "                         mean      sd          cv_1_valid    cv_2_valid    cv_3_valid    cv_4_valid    cv_5_valid\n",
              "-----------------------  --------  ----------  ------------  ------------  ------------  ------------  ------------\n",
              "accuracy                 0.580943  0.00766853  0.577358      0.577358      0.57197       0.575758      0.602273\n",
              "err                      0.419057  0.00766853  0.422642      0.422642      0.42803       0.424242      0.397727\n",
              "err_count                110.8     2.06882     112           112           113           112           105\n",
              "logloss                  1.44498   0.18119     1.2536        1.60451       1.03468       1.6579        1.6742\n",
              "max_per_class_error      0.844504  0.0574736   0.84          0.851852      0.695652      0.909091      0.925926\n",
              "mean_per_class_accuracy  0.466265  0.0122807   0.462857      0.465429      0.49686       0.442779      0.463402\n",
              "mean_per_class_error     0.533735  0.0122807   0.537143      0.534571      0.50314       0.557221      0.536598\n",
              "mse                      0.31223   0.00852281  0.308243      0.330362      0.309456      0.318984      0.294108\n",
              "r2                       0.270739  0.0298693   0.285599      0.247008      0.260566      0.2176        0.342923\n",
              "rmse                     0.558672  0.00762769  0.555196      0.574771      0.556287      0.564786      0.542318"
            ]
          },
          "metadata": {
            "tags": []
          }
        },
        {
          "output_type": "stream",
          "text": [
            "Scoring History: \n"
          ],
          "name": "stdout"
        },
        {
          "output_type": "display_data",
          "data": {
            "text/html": [
              "<div style=\"overflow:auto\"><table style=\"width:50%\"><tr><td><b></b></td>\n",
              "<td><b>timestamp</b></td>\n",
              "<td><b>duration</b></td>\n",
              "<td><b>number_of_trees</b></td>\n",
              "<td><b>training_rmse</b></td>\n",
              "<td><b>training_logloss</b></td>\n",
              "<td><b>training_classification_error</b></td>\n",
              "<td><b>validation_rmse</b></td>\n",
              "<td><b>validation_logloss</b></td>\n",
              "<td><b>validation_classification_error</b></td></tr>\n",
              "<tr><td></td>\n",
              "<td>2019-03-20 21:23:52</td>\n",
              "<td> 1.015 sec</td>\n",
              "<td>0.0</td>\n",
              "<td>nan</td>\n",
              "<td>nan</td>\n",
              "<td>nan</td>\n",
              "<td>nan</td>\n",
              "<td>nan</td>\n",
              "<td>nan</td></tr>\n",
              "<tr><td></td>\n",
              "<td>2019-03-20 21:23:52</td>\n",
              "<td> 1.021 sec</td>\n",
              "<td>1.0</td>\n",
              "<td>0.6906099</td>\n",
              "<td>14.6154448</td>\n",
              "<td>0.4819533</td>\n",
              "<td>0.6938317</td>\n",
              "<td>14.8045989</td>\n",
              "<td>0.5030488</td></tr>\n",
              "<tr><td></td>\n",
              "<td>2019-03-20 21:23:52</td>\n",
              "<td> 1.026 sec</td>\n",
              "<td>2.0</td>\n",
              "<td>0.6864998</td>\n",
              "<td>13.8562690</td>\n",
              "<td>0.4820513</td>\n",
              "<td>0.6402473</td>\n",
              "<td>9.9654017</td>\n",
              "<td>0.4603659</td></tr>\n",
              "<tr><td></td>\n",
              "<td>2019-03-20 21:23:52</td>\n",
              "<td> 1.032 sec</td>\n",
              "<td>3.0</td>\n",
              "<td>0.6756358</td>\n",
              "<td>13.0468137</td>\n",
              "<td>0.4799176</td>\n",
              "<td>0.5956584</td>\n",
              "<td>6.7087240</td>\n",
              "<td>0.4420732</td></tr>\n",
              "<tr><td></td>\n",
              "<td>2019-03-20 21:23:52</td>\n",
              "<td> 1.037 sec</td>\n",
              "<td>4.0</td>\n",
              "<td>0.6584804</td>\n",
              "<td>11.7472301</td>\n",
              "<td>0.4609091</td>\n",
              "<td>0.5964814</td>\n",
              "<td>5.4467096</td>\n",
              "<td>0.4420732</td></tr>\n",
              "<tr><td>---</td>\n",
              "<td>---</td>\n",
              "<td>---</td>\n",
              "<td>---</td>\n",
              "<td>---</td>\n",
              "<td>---</td>\n",
              "<td>---</td>\n",
              "<td>---</td>\n",
              "<td>---</td>\n",
              "<td>---</td></tr>\n",
              "<tr><td></td>\n",
              "<td>2019-03-20 21:23:52</td>\n",
              "<td> 1.163 sec</td>\n",
              "<td>19.0</td>\n",
              "<td>0.5702338</td>\n",
              "<td>2.9596094</td>\n",
              "<td>0.4409985</td>\n",
              "<td>0.5681519</td>\n",
              "<td>1.8180369</td>\n",
              "<td>0.4420732</td></tr>\n",
              "<tr><td></td>\n",
              "<td>2019-03-20 21:23:52</td>\n",
              "<td> 1.173 sec</td>\n",
              "<td>20.0</td>\n",
              "<td>0.5693695</td>\n",
              "<td>2.7431057</td>\n",
              "<td>0.4440242</td>\n",
              "<td>0.5676997</td>\n",
              "<td>1.7232332</td>\n",
              "<td>0.4390244</td></tr>\n",
              "<tr><td></td>\n",
              "<td>2019-03-20 21:23:52</td>\n",
              "<td> 1.186 sec</td>\n",
              "<td>21.0</td>\n",
              "<td>0.5689346</td>\n",
              "<td>2.7187892</td>\n",
              "<td>0.4455371</td>\n",
              "<td>0.5667711</td>\n",
              "<td>1.6353826</td>\n",
              "<td>0.4512195</td></tr>\n",
              "<tr><td></td>\n",
              "<td>2019-03-20 21:23:52</td>\n",
              "<td> 1.197 sec</td>\n",
              "<td>22.0</td>\n",
              "<td>0.5675688</td>\n",
              "<td>2.6447551</td>\n",
              "<td>0.4440242</td>\n",
              "<td>0.5668134</td>\n",
              "<td>1.6370852</td>\n",
              "<td>0.4481707</td></tr>\n",
              "<tr><td></td>\n",
              "<td>2019-03-20 21:23:52</td>\n",
              "<td> 1.209 sec</td>\n",
              "<td>23.0</td>\n",
              "<td>0.5680321</td>\n",
              "<td>2.5302284</td>\n",
              "<td>0.4455371</td>\n",
              "<td>0.5653401</td>\n",
              "<td>1.5390621</td>\n",
              "<td>0.4451220</td></tr></table></div>"
            ],
            "text/plain": [
              "     timestamp            duration    number_of_trees    training_rmse       training_logloss    training_classification_error    validation_rmse     validation_logloss    validation_classification_error\n",
              "---  -------------------  ----------  -----------------  ------------------  ------------------  -------------------------------  ------------------  --------------------  ---------------------------------\n",
              "     2019-03-20 21:23:52  1.015 sec   0.0                nan                 nan                 nan                              nan                 nan                   nan\n",
              "     2019-03-20 21:23:52  1.021 sec   1.0                0.6906098627967988  14.615444804290378  0.4819532908704883               0.6938316986718268  14.804598870171517    0.5030487804878049\n",
              "     2019-03-20 21:23:52  1.026 sec   2.0                0.6864998125244697  13.856269010613518  0.48205128205128206              0.6402472938879458  9.965401714373492     0.4603658536585366\n",
              "     2019-03-20 21:23:52  1.032 sec   3.0                0.675635757909985   13.046813703781297  0.4799176107106076               0.5956583697788473  6.708724049757192     0.4420731707317073\n",
              "     2019-03-20 21:23:52  1.037 sec   4.0                0.6584804442590113  11.747230138078809  0.46090909090909093              0.5964814025844477  5.446709623332729     0.4420731707317073\n",
              "---  ---                  ---         ---                ---                 ---                 ---                              ---                 ---                   ---\n",
              "     2019-03-20 21:23:52  1.163 sec   19.0               0.5702337503822946  2.959609394159609   0.4409984871406959               0.568151944597104   1.818036890532532     0.4420731707317073\n",
              "     2019-03-20 21:23:52  1.173 sec   20.0               0.569369473144109   2.7431057401376724  0.44402420574886536              0.567699721110158   1.7232332166312412    0.43902439024390244\n",
              "     2019-03-20 21:23:52  1.186 sec   21.0               0.5689346438188088  2.718789226420764   0.4455370650529501               0.5667711071001604  1.6353826348888054    0.45121951219512196\n",
              "     2019-03-20 21:23:52  1.197 sec   22.0               0.5675687959004383  2.644755064476781   0.44402420574886536              0.5668134208650719  1.6370851942194296    0.4481707317073171\n",
              "     2019-03-20 21:23:52  1.209 sec   23.0               0.5680320780372808  2.53022840617711    0.4455370650529501               0.5653401159310852  1.5390621185899116    0.4451219512195122"
            ]
          },
          "metadata": {
            "tags": []
          }
        },
        {
          "output_type": "stream",
          "text": [
            "\n",
            "See the whole table with table.as_data_frame()\n",
            "Variable Importances: \n"
          ],
          "name": "stdout"
        },
        {
          "output_type": "display_data",
          "data": {
            "text/html": [
              "<div style=\"overflow:auto\"><table style=\"width:50%\"><tr><td><b>variable</b></td>\n",
              "<td><b>relative_importance</b></td>\n",
              "<td><b>scaled_importance</b></td>\n",
              "<td><b>percentage</b></td></tr>\n",
              "<tr><td>IBM_Score</td>\n",
              "<td>5458.5761719</td>\n",
              "<td>1.0</td>\n",
              "<td>0.5296398</td></tr>\n",
              "<tr><td>Azure_Score</td>\n",
              "<td>1956.8504639</td>\n",
              "<td>0.3584910</td>\n",
              "<td>0.1898711</td></tr>\n",
              "<tr><td>Google_Score</td>\n",
              "<td>1672.5225830</td>\n",
              "<td>0.3064027</td>\n",
              "<td>0.1622831</td></tr>\n",
              "<tr><td>AWS_Score</td>\n",
              "<td>1218.2558594</td>\n",
              "<td>0.2231820</td>\n",
              "<td>0.1182061</td></tr></table></div>"
            ],
            "text/plain": [
              "variable      relative_importance    scaled_importance    percentage\n",
              "------------  ---------------------  -------------------  ------------\n",
              "IBM_Score     5458.58                1                    0.52964\n",
              "Azure_Score   1956.85                0.358491             0.189871\n",
              "Google_Score  1672.52                0.306403             0.162283\n",
              "AWS_Score     1218.26                0.223182             0.118206"
            ]
          },
          "metadata": {
            "tags": []
          }
        },
        {
          "output_type": "execute_result",
          "data": {
            "text/plain": [
              ""
            ]
          },
          "metadata": {
            "tags": []
          },
          "execution_count": 67
        }
      ]
    },
    {
      "metadata": {
        "id": "tplqYBuTP0rX",
        "colab_type": "code",
        "colab": {},
        "outputId": "c6eda160-5263-4d2b-cdb8-943661052e69"
      },
      "cell_type": "code",
      "source": [
        "aml.leaderboard"
      ],
      "execution_count": 0,
      "outputs": [
        {
          "output_type": "display_data",
          "data": {
            "text/html": [
              "<table>\n",
              "<thead>\n",
              "<tr><th>model_id                                          </th><th style=\"text-align: right;\">  mean_per_class_error</th></tr>\n",
              "</thead>\n",
              "<tbody>\n",
              "<tr><td>DRF_0_AutoML_20190320_212351                      </td><td style=\"text-align: right;\">              0.534463</td></tr>\n",
              "<tr><td>DRF_0_AutoML_20190320_211601                      </td><td style=\"text-align: right;\">              0.534463</td></tr>\n",
              "<tr><td>XRT_0_AutoML_20190320_212351                      </td><td style=\"text-align: right;\">              0.542891</td></tr>\n",
              "<tr><td>XRT_0_AutoML_20190320_211601                      </td><td style=\"text-align: right;\">              0.542891</td></tr>\n",
              "<tr><td>GBM_grid_0_AutoML_20190320_211601_model_5         </td><td style=\"text-align: right;\">              0.544317</td></tr>\n",
              "<tr><td>GBM_grid_0_AutoML_20190320_212351_model_5         </td><td style=\"text-align: right;\">              0.544317</td></tr>\n",
              "<tr><td>GBM_grid_0_AutoML_20190320_211601_model_3         </td><td style=\"text-align: right;\">              0.551595</td></tr>\n",
              "<tr><td>GBM_grid_0_AutoML_20190320_212351_model_3         </td><td style=\"text-align: right;\">              0.551595</td></tr>\n",
              "<tr><td>StackedEnsemble_AllModels_0_AutoML_20190320_211601</td><td style=\"text-align: right;\">              0.553711</td></tr>\n",
              "<tr><td>GBM_grid_0_AutoML_20190320_211601_model_2         </td><td style=\"text-align: right;\">              0.555178</td></tr>\n",
              "</tbody>\n",
              "</table>"
            ]
          },
          "metadata": {
            "tags": []
          }
        },
        {
          "output_type": "execute_result",
          "data": {
            "text/plain": [
              ""
            ]
          },
          "metadata": {
            "tags": []
          },
          "execution_count": 63
        }
      ]
    },
    {
      "metadata": {
        "id": "v-x4mRG3P0rj",
        "colab_type": "code",
        "colab": {},
        "outputId": "2820e9ed-8ec9-45bc-939a-6dbd7cc2e1b6"
      },
      "cell_type": "code",
      "source": [
        "model = h2o.get_model(aml.leaderboard[0,'model_id'])\n",
        "model.algo"
      ],
      "execution_count": 0,
      "outputs": [
        {
          "output_type": "execute_result",
          "data": {
            "text/plain": [
              "'drf'"
            ]
          },
          "metadata": {
            "tags": []
          },
          "execution_count": 64
        }
      ]
    }
  ]
}